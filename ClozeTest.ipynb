{
 "cells": [
  {
   "cell_type": "code",
   "execution_count": 173,
   "metadata": {
    "ExecuteTime": {
     "end_time": "2019-12-18T10:23:38.435407Z",
     "start_time": "2019-12-18T10:23:38.415423Z"
    },
    "collapsed": true
   },
   "outputs": [],
   "source": [
    "import torch\n",
    "import torch.autograd as autograd\n",
    "import torch.nn as nn\n",
    "import torch.nn.functional as F\n",
    "import torch.optim as optim\n",
    "import glob \n",
    "import json\n",
    "import re\n",
    "import string\n",
    "import operator\n",
    "import collections\n",
    "import numpy as np\n",
    "import string\n",
    "import math\n",
    "from tqdm import tqdm\n",
    "from array import array\n",
    "import pandas as pd"
   ]
  },
  {
   "cell_type": "code",
   "execution_count": 174,
   "metadata": {
    "ExecuteTime": {
     "end_time": "2019-12-18T10:23:38.543500Z",
     "start_time": "2019-12-18T10:23:38.437476Z"
    },
    "collapsed": true
   },
   "outputs": [],
   "source": [
    "NONE_STR = '<s>'"
   ]
  },
  {
   "cell_type": "code",
   "execution_count": 175,
   "metadata": {
    "ExecuteTime": {
     "end_time": "2019-12-18T10:23:38.688607Z",
     "start_time": "2019-12-18T10:23:38.546271Z"
    },
    "collapsed": true
   },
   "outputs": [],
   "source": [
    "def delete_other_letter(line):\n",
    "    punctuation =\"\"\"!\"#$%&\\()*+,./:;<=>?@[\\\\]^_`{|}~\\\\n\"\"\"\n",
    "    re_punctuation =\"[{}]+\".format(punctuation)\n",
    "    line =re.sub(re_punctuation, \"\", line)\n",
    "    return line.lower()"
   ]
  },
  {
   "cell_type": "code",
   "execution_count": 176,
   "metadata": {
    "ExecuteTime": {
     "end_time": "2019-12-18T10:23:38.809152Z",
     "start_time": "2019-12-18T10:23:38.692462Z"
    },
    "collapsed": true
   },
   "outputs": [],
   "source": [
    "def read_articles(paths):\n",
    "    alllines = []\n",
    "    for path in paths:\n",
    "        filenames = glob.glob(path+\"/*txt\")\n",
    "        for filename in filenames:\n",
    "            with open(filename, 'r', encoding='utf-8') as fpr:\n",
    "                data_raw = json.load(fpr)\n",
    "                article = data_raw['article']\n",
    "                \n",
    "                lines = article.split('.')\n",
    "                for line in lines:\n",
    "                    line = delete_other_letter(line)\n",
    "                    alllines.append(line)\n",
    "                \n",
    "    return alllines"
   ]
  },
  {
   "cell_type": "code",
   "execution_count": 177,
   "metadata": {
    "ExecuteTime": {
     "end_time": "2019-12-18T10:23:43.915683Z",
     "start_time": "2019-12-18T10:23:38.813159Z"
    },
    "collapsed": true
   },
   "outputs": [],
   "source": [
    "lines = read_articles(['./RACE/train/high','./RACE/train/middle'])"
   ]
  },
  {
   "cell_type": "code",
   "execution_count": 178,
   "metadata": {
    "ExecuteTime": {
     "end_time": "2019-12-18T10:23:43.924162Z",
     "start_time": "2019-12-18T10:23:43.918575Z"
    },
    "scrolled": true
   },
   "outputs": [
    {
     "name": "stdout",
     "output_type": "stream",
     "text": [
      "499388\n"
     ]
    }
   ],
   "source": [
    "print(len(lines))"
   ]
  },
  {
   "cell_type": "code",
   "execution_count": 179,
   "metadata": {
    "ExecuteTime": {
     "end_time": "2019-12-18T10:23:44.118226Z",
     "start_time": "2019-12-18T10:23:43.926551Z"
    },
    "collapsed": true
   },
   "outputs": [],
   "source": [
    "# def word_dict(lines):\n",
    "#     word_freq = collections.defaultdict(int)\n",
    "#     for line in lines:\n",
    "#         for w in line.split(): \n",
    "#             word_freq[w] += 1\n",
    "    \n",
    "#     return list(word_freq.keys())"
   ]
  },
  {
   "cell_type": "code",
   "execution_count": 180,
   "metadata": {
    "ExecuteTime": {
     "end_time": "2019-12-18T10:23:44.280074Z",
     "start_time": "2019-12-18T10:23:44.122372Z"
    },
    "collapsed": true
   },
   "outputs": [],
   "source": [
    "# def get_words_matrix(words,lines):                                                                                                                                                                                                                                                                                                                                                                                                                                                                                                                                                                                                                                                                                                                                                                                                                                                                                                                                                                                                                                                                                                                                                                                                                                                                                                                                                                                                                                                                                                                                                                                                                                                                                                                                                                                                                                                                                                                                                                                                                                                                                                                                                                                                                                                                                                                                                                                                                                                                                                                                                                                                                                                                                                                                                                                                                                                                                                                                                                                                                                                                                                                                                                                                                                                                                                                                                                                                                                                                                                                                                                                                                                                                                                                                                                                                                                                                                                                                                                                                                                                                                                                                                                                                                                                                                                                                                                                                                                                                                                                                                                                                                                                                                                                                                                                                                                                                                                               \n",
    "#     for line in lines:\n",
    "#         line_words = line.split()\n",
    "#         n = len(line_words)\n",
    "#         for i in range(n-1):\n",
    "#             ww = line_words[i+1]\n",
    "#             i = words.index(line_words[i])\n",
    "#             j = words.index(ww)\n",
    "#             words_matrix[i][j] += 1"
   ]
  },
  {
   "cell_type": "code",
   "execution_count": 181,
   "metadata": {
    "ExecuteTime": {
     "end_time": "2019-12-18T10:23:44.449700Z",
     "start_time": "2019-12-18T10:23:44.284067Z"
    },
    "collapsed": true
   },
   "outputs": [],
   "source": [
    "def word_dict(lines,n):\n",
    "                \n",
    "    pre_words = collections.defaultdict(int)\n",
    "    be_words = collections.defaultdict(int)\n",
    "    n = n-1\n",
    "    for line in lines:\n",
    "        for k in range(n):\n",
    "            line = NONE_STR+' '+line+' '+NONE_STR\n",
    "        line_words = line.split()\n",
    "        for i in range(len(line_words)-(n-1)):\n",
    "            ngramTemp = ' '.join(line_words[i:i+n])\n",
    "\n",
    "            pre_words[ngramTemp] += 1\n",
    "            be_words[line_words[i]] += 1\n",
    "            \n",
    "    return pre_words,be_words"
   ]
  },
  {
   "cell_type": "code",
   "execution_count": 182,
   "metadata": {
    "ExecuteTime": {
     "end_time": "2019-12-18T10:23:44.618620Z",
     "start_time": "2019-12-18T10:23:44.452894Z"
    },
    "collapsed": true
   },
   "outputs": [],
   "source": [
    "def replace_punctuation(word):\n",
    "    for puc in punctuation_list:\n",
    "        word = word.replace(puc,'')\n",
    "    return word"
   ]
  },
  {
   "cell_type": "code",
   "execution_count": 183,
   "metadata": {
    "ExecuteTime": {
     "end_time": "2019-12-18T10:23:44.732626Z",
     "start_time": "2019-12-18T10:23:44.622580Z"
    },
    "collapsed": true
   },
   "outputs": [],
   "source": [
    "def replace_Chinese_punctuation(content):\n",
    "    content = content.replace('’','\\'')\n",
    "    content = content.replace('”','')\n",
    "    return content"
   ]
  },
  {
   "cell_type": "code",
   "execution_count": 184,
   "metadata": {
    "ExecuteTime": {
     "end_time": "2019-12-18T10:23:44.856404Z",
     "start_time": "2019-12-18T10:23:44.736394Z"
    },
    "collapsed": true
   },
   "outputs": [],
   "source": [
    "def get_options(options_str):\n",
    "    options_str = replace_Chinese_punctuation(options_str)\n",
    "    options = []\n",
    "    opt_rows = options_str.split('#')\n",
    "    for opt in opt_rows:\n",
    "        indexA = opt.find('A.')\n",
    "        indexB = opt.find('B.')\n",
    "        indexC = opt.find('C.')\n",
    "        indexD = opt.find('D.')\n",
    "        As = opt[indexA+2:indexB].strip().lower().split(' ')\n",
    "        Bs = opt[indexB+2:indexC].strip().lower().split(' ')\n",
    "        Cs = opt[indexC+2:indexD].strip().lower().split(' ')\n",
    "        Ds = opt[indexD+2:].strip().lower().split(' ')\n",
    "        options.append([As,Bs,Cs,Ds])\n",
    "    return options"
   ]
  },
  {
   "cell_type": "code",
   "execution_count": 185,
   "metadata": {
    "ExecuteTime": {
     "end_time": "2019-12-18T10:23:44.999708Z",
     "start_time": "2019-12-18T10:23:44.859312Z"
    },
    "collapsed": true
   },
   "outputs": [],
   "source": [
    "# def probability(word1,word2):\n",
    "#     eclipse = 0.0000000000001\n",
    "#     try:\n",
    "#         index1 = pre_words.index(word1)\n",
    "#         index2 = be_words.index(word2)\n",
    "#     except ValueError:\n",
    "#         return eclipse\n",
    "# #     print(word1,index1,word2,index2)\n",
    "#     pn_word1 = words_matrix[index1].sum()\n",
    "#     pn_word2_under_word1 = words_matrix[index1][index2]\n",
    "# #     print(pn_word1,pn_word2_under_word1)\n",
    "#     prob = float(pn_word2_under_word1)/pn_word1\n",
    "#     if prob == 0:\n",
    "#         prob = eclipse\n",
    "#     return prob"
   ]
  },
  {
   "cell_type": "code",
   "execution_count": 210,
   "metadata": {
    "ExecuteTime": {
     "end_time": "2019-12-18T10:25:12.074287Z",
     "start_time": "2019-12-18T10:25:12.048535Z"
    },
    "collapsed": true
   },
   "outputs": [],
   "source": [
    "def read_train_data(n):\n",
    "    path = './data'\n",
    "    filenames = glob.glob(path+\"/*txt\")\n",
    "    \n",
    "    answers_list =[]\n",
    "    options_list = []\n",
    "    content_list = []\n",
    "    for filename in filenames:\n",
    "        with open(filename, 'r', encoding='utf-8') as fpr:\n",
    "            data_raw = json.load(fpr)\n",
    "            article = data_raw['article']\n",
    "            content = get_pre_and_be_words(article,n)\n",
    "            options_str = data_raw['options']\n",
    "            options = get_options(options_str)\n",
    "            answers = list(data_raw['answers'])\n",
    "            answers_list.append(answers)\n",
    "            options_list.append(options)\n",
    "            content_list.append(content)\n",
    "    return content_list,options_list,answers_list"
   ]
  },
  {
   "cell_type": "code",
   "execution_count": 211,
   "metadata": {
    "ExecuteTime": {
     "end_time": "2019-12-18T10:25:13.024210Z",
     "start_time": "2019-12-18T10:25:12.962037Z"
    },
    "collapsed": true
   },
   "outputs": [],
   "source": [
    "def test(content_list,options_list,answers_list,showAll=False,predict=None):\n",
    "    \n",
    "    cn = len(content_list)\n",
    "    right_n = 0\n",
    "    total_n = 0\n",
    "    for k in range(cn):\n",
    "        content = content_list[k]\n",
    "        answers = answers_list[k]\n",
    "        options = options_list[k]\n",
    "    \n",
    "        n = len(answers)\n",
    "        total_n += n\n",
    "        for i in range(n):\n",
    "            if showAll:\n",
    "                print('---------'+str(i+1)+'---------')\n",
    "            if predict is None:\n",
    "                choice = auto_select(content[i],options[i])\n",
    "            else:\n",
    "                choice = predict\n",
    "            if choice == answers[i]:\n",
    "                right_n += 1\n",
    "                if showAll == False:\n",
    "                    print('---------'+str(i+1)+'---------')\n",
    "                    print('predict:',choice,'ground truth:',answers[i])\n",
    "                    print('空前N-1个词',content[i])\n",
    "                    print('选项',options[i])\n",
    "            if showAll:\n",
    "                print('predict:',choice,'ground truth:',answers[i])\n",
    "                print('空前N-1个词',content[i])\n",
    "                print('选项',options[i])\n",
    "    accuracy = float(right_n)/total_n\n",
    "    print('accuracy:',accuracy)"
   ]
  },
  {
   "cell_type": "code",
   "execution_count": 212,
   "metadata": {
    "ExecuteTime": {
     "end_time": "2019-12-18T10:25:13.178176Z",
     "start_time": "2019-12-18T10:25:13.141846Z"
    },
    "collapsed": true
   },
   "outputs": [],
   "source": [
    "def get_pre_and_be_words(article,ngram):\n",
    "    article = replace_Chinese_punctuation(article)\n",
    "    art_words = article.split()\n",
    "    n = len(art_words)\n",
    "    index = 1\n",
    "    content = []\n",
    "    for i in range(n):\n",
    "        word = art_words[i]\n",
    "        if str(index) == word:\n",
    "            pre_word = ''\n",
    "            if i < ngram-1:\n",
    "                for k in range(ngram-1-i):\n",
    "                    pre_word += NONE_STR\n",
    "            else:\n",
    "                pre_word = ' '.join(art_words[i-1-(ngram-2):i])\n",
    "            if has_punctuation(pre_word):\n",
    "                pre_word = ''\n",
    "                for k in range(ngram-1):\n",
    "                    pre_word += NONE_STR\n",
    "            pre_word = replace_punctuation(pre_word)\n",
    "            content.append(pre_word.lower())\n",
    "            index += 1\n",
    "    return content"
   ]
  },
  {
   "cell_type": "code",
   "execution_count": 213,
   "metadata": {
    "ExecuteTime": {
     "end_time": "2019-12-18T10:25:13.369581Z",
     "start_time": "2019-12-18T10:25:13.317927Z"
    },
    "collapsed": true
   },
   "outputs": [],
   "source": [
    "def get_words_matrix(pre_words,be_words,lines,n):  \n",
    "    n = n-1\n",
    "    for line in tqdm(lines):\n",
    "        for k in range(n):\n",
    "            line = NONE_STR+' '+line+' '+NONE_STR\n",
    "        line_words = line.split()\n",
    "        words_n = len(line_words)-n\n",
    "        for k in range(words_n):\n",
    "            pre_word = ' '.join(line_words[k:k+n])\n",
    "                \n",
    "            be_word = line_words[k+n]\n",
    "            \n",
    "            if pre_word in pre_words and be_word in be_words:\n",
    "                i = pre_words.index(pre_word)\n",
    "                j = be_words.index(be_word)\n",
    "                words_matrix[i][j] += 1\n",
    "                    \n",
    "#             if n > 1:\n",
    "#                 if pre_word in pre_words:\n",
    "#                     i = pre_words.index(pre_word)\n",
    "#                     j = be_words.index(be_word)\n",
    "#                     words_matrix[i][j] += 1\n",
    "#             else:\n",
    "#                 i = pre_words.index(pre_word)\n",
    "#                 j = be_words.index(be_word)\n",
    "#                 words_matrix[i][j] += 1\n",
    "            \n",
    "    return words_matrix"
   ]
  },
  {
   "cell_type": "code",
   "execution_count": 214,
   "metadata": {
    "ExecuteTime": {
     "end_time": "2019-12-18T10:25:13.588357Z",
     "start_time": "2019-12-18T10:25:13.550967Z"
    },
    "collapsed": true
   },
   "outputs": [],
   "source": [
    "def count_word_num(lines,n):\n",
    "    pre_words = collections.defaultdict(int)\n",
    "    be_words = collections.defaultdict(int)\n",
    "    \n",
    "    words = collections.defaultdict(int)\n",
    "    n = n-1\n",
    "    \n",
    "    index = 0\n",
    "    for line in lines:\n",
    "        for k in range(n):\n",
    "            line = NONE_STR+' '+line+' '+NONE_STR\n",
    "        line_words = line.split()\n",
    "        for i in range(len(line_words)-(n-1)):\n",
    "            pre_word = ' '.join(line_words[i-1:i+n-1])\n",
    "            be_word = line_words[i+n-1]\n",
    "            \n",
    "            pre_words[pre_word] += 1\n",
    "            be_words[be_word] += 1\n",
    "            \n",
    "            words[pre_word+' '+be_word] += 1\n",
    "    return pre_words,be_words,words"
   ]
  },
  {
   "cell_type": "code",
   "execution_count": 215,
   "metadata": {
    "ExecuteTime": {
     "end_time": "2019-12-18T10:25:13.963963Z",
     "start_time": "2019-12-18T10:25:13.958750Z"
    },
    "collapsed": true
   },
   "outputs": [],
   "source": [
    "punctuation_list = ['.',',','?','!','\\\"','“']"
   ]
  },
  {
   "cell_type": "code",
   "execution_count": 226,
   "metadata": {
    "ExecuteTime": {
     "end_time": "2019-12-18T10:26:19.563586Z",
     "start_time": "2019-12-18T10:26:19.521493Z"
    },
    "collapsed": true
   },
   "outputs": [],
   "source": [
    "def get_pre_and_be_words(article,ngram):\n",
    "    article = replace_Chinese_punctuation(article)\n",
    "    art_words = article.split()\n",
    "    n = len(art_words)\n",
    "    index = 1\n",
    "    content = []\n",
    "    for i in range(n):\n",
    "        word = art_words[i]\n",
    "        if str(index) == word:\n",
    "            pre_word = ''\n",
    "            if i < ngram-1:\n",
    "                for k in range(ngram-1-i):\n",
    "                    pre_word += NONE_STR\n",
    "            else:\n",
    "                pre_word = ' '.join(art_words[i-1-(ngram-2):i])\n",
    "            if has_punctuation(pre_word):\n",
    "                pre_word = ''\n",
    "                for k in range(ngram-1):\n",
    "                    pre_word += NONE_STR\n",
    "            pre_word = replace_punctuation(pre_word)\n",
    "            content.append(pre_word.lower())\n",
    "            index += 1\n",
    "    return content"
   ]
  },
  {
   "cell_type": "code",
   "execution_count": 227,
   "metadata": {
    "ExecuteTime": {
     "end_time": "2019-12-18T10:26:20.658169Z",
     "start_time": "2019-12-18T10:26:20.609558Z"
    },
    "collapsed": true
   },
   "outputs": [],
   "source": [
    "def delete_sparse_words(words_dict,threshold=4):\n",
    "    words_list = []\n",
    "    for key, value in words_dict.items():\n",
    "        if value > 4:\n",
    "            words_list.append(key)\n",
    "    return words_list"
   ]
  },
  {
   "cell_type": "code",
   "execution_count": 228,
   "metadata": {
    "ExecuteTime": {
     "end_time": "2019-12-18T10:26:20.942879Z",
     "start_time": "2019-12-18T10:26:20.926632Z"
    },
    "collapsed": true
   },
   "outputs": [],
   "source": [
    "def probability(word1,word2):\n",
    "    eclipse = 0.0000000000001\n",
    "    all = pre_words[word1]\n",
    "    single = words[word1+' '+word2]\n",
    "    \n",
    "    if all == 0:\n",
    "        return eclipse\n",
    "    \n",
    "    prob = float(single)/all\n",
    "    if prob == 0:\n",
    "        prob = eclipse\n",
    "    return prob"
   ]
  },
  {
   "cell_type": "code",
   "execution_count": 229,
   "metadata": {
    "ExecuteTime": {
     "end_time": "2019-12-18T10:26:21.309427Z",
     "start_time": "2019-12-18T10:26:21.301992Z"
    },
    "collapsed": true
   },
   "outputs": [],
   "source": [
    "def has_punctuation(word):\n",
    "    for puc in punctuation_list:\n",
    "        if word.find(puc) != -1 :\n",
    "            return True\n",
    "    return False"
   ]
  },
  {
   "cell_type": "code",
   "execution_count": 230,
   "metadata": {
    "ExecuteTime": {
     "end_time": "2019-12-18T10:26:21.607759Z",
     "start_time": "2019-12-18T10:26:21.599690Z"
    },
    "collapsed": true
   },
   "outputs": [],
   "source": [
    "def replace_punctuation(word):\n",
    "    for puc in punctuation_list:\n",
    "        word = word.replace(puc,'')\n",
    "    return word"
   ]
  },
  {
   "cell_type": "code",
   "execution_count": 231,
   "metadata": {
    "ExecuteTime": {
     "end_time": "2019-12-18T10:26:22.076280Z",
     "start_time": "2019-12-18T10:26:22.063616Z"
    },
    "collapsed": true
   },
   "outputs": [],
   "source": [
    "def auto_select(question,option):\n",
    "    index = 0\n",
    "    maxprob = -10000000000\n",
    "    n = len(option)\n",
    "    for i in range(n):\n",
    "#         prob = math.log(probability(question[0],option[i][0]))+math.log(probability(option[i][-1],question[1]))\n",
    "        prob = probability(question,option[i][0])\n",
    "        if prob > maxprob:\n",
    "            maxprob = prob\n",
    "            index = i\n",
    "    return chr(ord('A')+index)"
   ]
  },
  {
   "cell_type": "markdown",
   "metadata": {},
   "source": [
    "<font color=blue size=15 face=雅黑>bigram Test</font>"
   ]
  },
  {
   "cell_type": "code",
   "execution_count": 232,
   "metadata": {
    "ExecuteTime": {
     "end_time": "2019-12-18T10:26:37.838241Z",
     "start_time": "2019-12-18T10:26:22.839497Z"
    },
    "collapsed": true,
    "scrolled": true
   },
   "outputs": [],
   "source": [
    "pre_words,be_words,words = count_word_num(lines,2)"
   ]
  },
  {
   "cell_type": "code",
   "execution_count": 233,
   "metadata": {
    "ExecuteTime": {
     "end_time": "2019-12-18T10:26:37.860871Z",
     "start_time": "2019-12-18T10:26:37.841472Z"
    },
    "collapsed": true,
    "scrolled": true
   },
   "outputs": [],
   "source": [
    "content_list,options_list,answers_list = read_train_data(2)"
   ]
  },
  {
   "cell_type": "code",
   "execution_count": 234,
   "metadata": {
    "ExecuteTime": {
     "end_time": "2019-12-18T10:26:38.002880Z",
     "start_time": "2019-12-18T10:26:37.863196Z"
    }
   },
   "outputs": [
    {
     "name": "stdout",
     "output_type": "stream",
     "text": [
      "[\"i'd\", 'my', 'was', 'to', 'was', 'little', 'in', 'not', 'and', 'was', 'helped', 'something', 'very', 'i', '<s>', 'to', 'ben', '<s>', 'a', 'there']\n"
     ]
    }
   ],
   "source": [
    "print(content_list[0])"
   ]
  },
  {
   "cell_type": "code",
   "execution_count": 235,
   "metadata": {
    "ExecuteTime": {
     "end_time": "2019-12-18T10:26:38.142390Z",
     "start_time": "2019-12-18T10:26:38.006305Z"
    },
    "scrolled": true
   },
   "outputs": [
    {
     "name": "stdout",
     "output_type": "stream",
     "text": [
      "[[['also'], ['often'], ['even'], ['last']], [['delight'], ['relief'], ['anger'], ['worry']], [['scared'], ['shocked'], ['thrilled'], ['ashamed']], [['talk'], ['stay'], ['meet'], ['settle']], [['bathed'], ['clean'], ['deep'], ['formed']], [['faster'], ['closer'], ['heavier'], ['wiser']], [['trouble'], ['advance'], ['question'], ['battle']], [['real'], ['right'], ['fair'], ['fit']], [['stared'], ['sank'], ['dived'], ['fell']], [['arguing'], ['fighting'], ['shouting'], ['shaking']], [['lead'], ['persuade'], ['carry'], ['keep']], [['happened'], ['occurred'], ['applied'], ['appealed']], [['sharp'], ['pleasant'], ['attractive'], ['familiar']], [['agreed'], ['hesitated'], ['doubted'], ['knew']], [['fortunately'], ['frankly'], ['sadly'], ['suddenly']], [['return'], ['relax'], ['speak'], ['leave']], [['joked'], ['turned'], ['listened'], ['pointed']], [['created'], ['honored'], ['saved'], ['guided']], [['coincidence'], ['change'], ['pity'], ['pain']], [['on', 'board'], ['in', 'time'], ['for', 'sure'], ['on', 'purpose']]]\n"
     ]
    }
   ],
   "source": [
    "print(options_list[0])"
   ]
  },
  {
   "cell_type": "code",
   "execution_count": 236,
   "metadata": {
    "ExecuteTime": {
     "end_time": "2019-12-18T10:26:38.250364Z",
     "start_time": "2019-12-18T10:26:38.146199Z"
    }
   },
   "outputs": [
    {
     "name": "stdout",
     "output_type": "stream",
     "text": [
      "['D', 'A', 'C', 'C', 'A', 'B', 'A', 'B', 'C', 'D', 'C', 'B', 'D', 'D', 'A', 'D', 'B', 'C', 'A', 'B']\n"
     ]
    }
   ],
   "source": [
    "print(answers_list[0])"
   ]
  },
  {
   "cell_type": "markdown",
   "metadata": {},
   "source": [
    "<font color=black size=5 face=雅黑>全选A/B/C/D 观察正确率</font>"
   ]
  },
  {
   "cell_type": "code",
   "execution_count": 237,
   "metadata": {
    "ExecuteTime": {
     "end_time": "2019-12-18T10:26:41.305173Z",
     "start_time": "2019-12-18T10:26:41.270022Z"
    },
    "scrolled": true
   },
   "outputs": [
    {
     "name": "stdout",
     "output_type": "stream",
     "text": [
      "---------2---------\n",
      "predict: A ground truth: A\n",
      "空前N-1个词 my\n",
      "选项 [['delight'], ['relief'], ['anger'], ['worry']]\n",
      "---------5---------\n",
      "predict: A ground truth: A\n",
      "空前N-1个词 was\n",
      "选项 [['bathed'], ['clean'], ['deep'], ['formed']]\n",
      "---------7---------\n",
      "predict: A ground truth: A\n",
      "空前N-1个词 in\n",
      "选项 [['trouble'], ['advance'], ['question'], ['battle']]\n",
      "---------15---------\n",
      "predict: A ground truth: A\n",
      "空前N-1个词 <s>\n",
      "选项 [['fortunately'], ['frankly'], ['sadly'], ['suddenly']]\n",
      "---------19---------\n",
      "predict: A ground truth: A\n",
      "空前N-1个词 a\n",
      "选项 [['coincidence'], ['change'], ['pity'], ['pain']]\n",
      "---------5---------\n",
      "predict: A ground truth: A\n",
      "空前N-1个词 could\n",
      "选项 [['see'], ['find'], ['guess'], ['learn']]\n",
      "---------8---------\n",
      "predict: A ground truth: A\n",
      "空前N-1个词 i\n",
      "选项 [['chatted', 'with'], ['looked', 'at'], ['laughed', 'at'], ['talked', 'about']]\n",
      "---------12---------\n",
      "predict: A ground truth: A\n",
      "空前N-1个词 and\n",
      "选项 [['left'], ['acted'], ['sat', 'down'], ['calmed', 'down']]\n",
      "---------13---------\n",
      "predict: A ground truth: A\n",
      "空前N-1个词 had\n",
      "选项 [['wanted'], ['tried'], ['ordered'], ['wished']]\n",
      "---------17---------\n",
      "predict: A ground truth: A\n",
      "空前N-1个词 i\n",
      "选项 [['must'], ['can'], ['need'], ['may']]\n",
      "---------3---------\n",
      "predict: A ground truth: A\n",
      "空前N-1个词 weren't\n",
      "选项 [['excited'], ['worried'], ['moved'], ['tired']]\n",
      "---------12---------\n",
      "predict: A ground truth: A\n",
      "空前N-1个词 <s>\n",
      "选项 [['eventually'], ['naturally'], ['directly'], ['normally']]\n",
      "---------15---------\n",
      "predict: A ground truth: A\n",
      "空前N-1个词 he\n",
      "选项 [['taught'], ['wrote'], ['questioned'], ['promised']]\n",
      "---------18---------\n",
      "predict: A ground truth: A\n",
      "空前N-1个词 to\n",
      "选项 [['analyze'], ['describe'], ['rebuild'], ['control']]\n",
      "---------20---------\n",
      "predict: A ground truth: A\n",
      "空前N-1个词 my\n",
      "选项 [['role'], ['desire'], ['concern'], ['behavior']]\n",
      "accuracy: 0.25\n"
     ]
    }
   ],
   "source": [
    "test(content_list,options_list,answers_list,showAll=False,predict='A')"
   ]
  },
  {
   "cell_type": "code",
   "execution_count": 238,
   "metadata": {
    "ExecuteTime": {
     "end_time": "2019-12-18T10:26:41.842187Z",
     "start_time": "2019-12-18T10:26:41.809090Z"
    },
    "scrolled": true
   },
   "outputs": [
    {
     "name": "stdout",
     "output_type": "stream",
     "text": [
      "---------6---------\n",
      "predict: B ground truth: B\n",
      "空前N-1个词 little\n",
      "选项 [['faster'], ['closer'], ['heavier'], ['wiser']]\n",
      "---------8---------\n",
      "predict: B ground truth: B\n",
      "空前N-1个词 not\n",
      "选项 [['real'], ['right'], ['fair'], ['fit']]\n",
      "---------12---------\n",
      "predict: B ground truth: B\n",
      "空前N-1个词 something\n",
      "选项 [['happened'], ['occurred'], ['applied'], ['appealed']]\n",
      "---------17---------\n",
      "predict: B ground truth: B\n",
      "空前N-1个词 ben\n",
      "选项 [['joked'], ['turned'], ['listened'], ['pointed']]\n",
      "---------20---------\n",
      "predict: B ground truth: B\n",
      "空前N-1个词 there\n",
      "选项 [['on', 'board'], ['in', 'time'], ['for', 'sure'], ['on', 'purpose']]\n",
      "---------3---------\n",
      "predict: B ground truth: B\n",
      "空前N-1个词 newspaper\n",
      "选项 [['flat'], ['open'], ['cut'], ['fixed']]\n",
      "---------7---------\n",
      "predict: B ground truth: B\n",
      "空前N-1个词 the\n",
      "选项 [['direct'], ['familiar'], ['strange'], ['funny']]\n",
      "---------9---------\n",
      "predict: B ground truth: B\n",
      "空前N-1个词 as\n",
      "选项 [['the', 'waiter'], ['time'], ['i'], ['the', 'dinner']]\n",
      "---------16---------\n",
      "predict: B ground truth: B\n",
      "空前N-1个词 my\n",
      "选项 [['care'], ['surprise'], ['worry'], ['regret']]\n",
      "---------18---------\n",
      "predict: B ground truth: B\n",
      "空前N-1个词 a\n",
      "选项 [['discovery'], ['mistake'], ['decision'], ['fortune']]\n",
      "---------1---------\n",
      "predict: B ground truth: B\n",
      "空前N-1个词 i\n",
      "选项 [['put', 'forward'], ['jumped', 'at'], ['tried', 'out'], ['turned', 'down']]\n",
      "---------7---------\n",
      "predict: B ground truth: B\n",
      "空前N-1个词 to\n",
      "选项 [['interview'], ['meet'], ['challenge'], ['beat']]\n",
      "---------10---------\n",
      "predict: B ground truth: B\n",
      "空前N-1个词 to\n",
      "选项 [['attend'], ['pass'], ['skip'], ['observe']]\n",
      "---------14---------\n",
      "predict: B ground truth: B\n",
      "空前N-1个词 the\n",
      "选项 [['criterion'], ['classroom'], ['department'], ['situation']]\n",
      "---------17---------\n",
      "predict: B ground truth: B\n",
      "空前N-1个词 good\n",
      "选项 [['grades'], ['decisions'], ['impressions'], ['comments']]\n",
      "accuracy: 0.25\n"
     ]
    }
   ],
   "source": [
    "test(content_list,options_list,answers_list,showAll=False,predict='B')"
   ]
  },
  {
   "cell_type": "code",
   "execution_count": 239,
   "metadata": {
    "ExecuteTime": {
     "end_time": "2019-12-18T10:26:42.308837Z",
     "start_time": "2019-12-18T10:26:42.271075Z"
    },
    "scrolled": true
   },
   "outputs": [
    {
     "name": "stdout",
     "output_type": "stream",
     "text": [
      "---------3---------\n",
      "predict: C ground truth: C\n",
      "空前N-1个词 was\n",
      "选项 [['scared'], ['shocked'], ['thrilled'], ['ashamed']]\n",
      "---------4---------\n",
      "predict: C ground truth: C\n",
      "空前N-1个词 to\n",
      "选项 [['talk'], ['stay'], ['meet'], ['settle']]\n",
      "---------9---------\n",
      "predict: C ground truth: C\n",
      "空前N-1个词 and\n",
      "选项 [['stared'], ['sank'], ['dived'], ['fell']]\n",
      "---------11---------\n",
      "predict: C ground truth: C\n",
      "空前N-1个词 helped\n",
      "选项 [['lead'], ['persuade'], ['carry'], ['keep']]\n",
      "---------18---------\n",
      "predict: C ground truth: C\n",
      "空前N-1个词 <s>\n",
      "选项 [['created'], ['honored'], ['saved'], ['guided']]\n",
      "---------1---------\n",
      "predict: C ground truth: C\n",
      "空前N-1个词 i\n",
      "选项 [['knew'], ['understood'], ['noticed'], ['recognized']]\n",
      "---------4---------\n",
      "predict: C ground truth: C\n",
      "空前N-1个词 was\n",
      "选项 [['hoping'], ['thinking'], ['pretending'], ['continuing']]\n",
      "---------10---------\n",
      "predict: C ground truth: C\n",
      "空前N-1个词 became\n",
      "选项 [['true'], ['hopeful'], ['clear'], ['possible']]\n",
      "---------14---------\n",
      "predict: C ground truth: C\n",
      "空前N-1个词 he\n",
      "选项 [['met'], ['caught'], ['followed'], ['discovered']]\n",
      "---------20---------\n",
      "predict: C ground truth: C\n",
      "空前N-1个词 <s>\n",
      "选项 [['thus'], ['however'], ['otherwise'], ['therefore']]\n",
      "---------2---------\n",
      "predict: C ground truth: C\n",
      "空前N-1个词 to\n",
      "选项 [['waste'], ['earn'], ['save'], ['pay']]\n",
      "---------6---------\n",
      "predict: C ground truth: C\n",
      "空前N-1个词 game's\n",
      "选项 [['fastest'], ['easiest'], ['best'], ['rarest']]\n",
      "---------9---------\n",
      "predict: C ground truth: C\n",
      "空前N-1个词 it\n",
      "选项 [['real'], ['perfect'], ['clear'], ['possible']]\n",
      "---------11---------\n",
      "predict: C ground truth: C\n",
      "空前N-1个词 to\n",
      "选项 [['add'], ['expose'], ['apply'], ['compare']]\n",
      "---------13---------\n",
      "predict: C ground truth: C\n",
      "空前N-1个词 that\n",
      "选项 [['game'], ['presentation'], ['course'], ['experiment']]\n",
      "accuracy: 0.25\n"
     ]
    }
   ],
   "source": [
    "test(content_list,options_list,answers_list,showAll=False,predict='C')"
   ]
  },
  {
   "cell_type": "code",
   "execution_count": 240,
   "metadata": {
    "ExecuteTime": {
     "end_time": "2019-12-18T10:26:42.744115Z",
     "start_time": "2019-12-18T10:26:42.710735Z"
    },
    "scrolled": true
   },
   "outputs": [
    {
     "name": "stdout",
     "output_type": "stream",
     "text": [
      "---------1---------\n",
      "predict: D ground truth: D\n",
      "空前N-1个词 i'd\n",
      "选项 [['also'], ['often'], ['even'], ['last']]\n",
      "---------10---------\n",
      "predict: D ground truth: D\n",
      "空前N-1个词 was\n",
      "选项 [['arguing'], ['fighting'], ['shouting'], ['shaking']]\n",
      "---------13---------\n",
      "predict: D ground truth: D\n",
      "空前N-1个词 very\n",
      "选项 [['sharp'], ['pleasant'], ['attractive'], ['familiar']]\n",
      "---------14---------\n",
      "predict: D ground truth: D\n",
      "空前N-1个词 i\n",
      "选项 [['agreed'], ['hesitated'], ['doubted'], ['knew']]\n",
      "---------16---------\n",
      "predict: D ground truth: D\n",
      "空前N-1个词 to\n",
      "选项 [['return'], ['relax'], ['speak'], ['leave']]\n",
      "---------2---------\n",
      "predict: D ground truth: D\n",
      "空前N-1个词 <s>\n",
      "选项 [['since'], ['even', 'if'], ['though'], ['as', 'if']]\n",
      "---------6---------\n",
      "predict: D ground truth: D\n",
      "空前N-1个词 my\n",
      "选项 [['menu'], ['bill'], ['paper'], ['food']]\n",
      "---------11---------\n",
      "predict: D ground truth: D\n",
      "空前N-1个词 the\n",
      "选项 [['restaurant'], ['washroom'], ['office'], ['kitchen']]\n",
      "---------15---------\n",
      "predict: D ground truth: D\n",
      "空前N-1个词 he\n",
      "选项 [['was', 'to', 'beat'], ['was', 'dealing', 'with'], ['was', 'to', 'meet'], ['was', 'looking', 'for']]\n",
      "---------19---------\n",
      "predict: D ground truth: D\n",
      "空前N-1个词 really\n",
      "选项 [['a', 'pity'], ['natural'], ['a', 'chance'], ['lucky']]\n",
      "---------4---------\n",
      "predict: D ground truth: D\n",
      "空前N-1个词 our\n",
      "选项 [['title'], ['competitor'], ['textbook'], ['instructor']]\n",
      "---------5---------\n",
      "predict: D ground truth: D\n",
      "空前N-1个词 which\n",
      "选项 [['urged'], ['demanded'], ['held'], ['meant']]\n",
      "---------8---------\n",
      "predict: D ground truth: D\n",
      "空前N-1个词 this\n",
      "选项 [['chance'], ['qualification'], ['honor'], ['job']]\n",
      "---------16---------\n",
      "predict: D ground truth: D\n",
      "空前N-1个词 important\n",
      "选项 [['fact'], ['step'], ['manner'], ['skill']]\n",
      "---------19---------\n",
      "predict: D ground truth: D\n",
      "空前N-1个词 and\n",
      "选项 [['announce'], ['signal'], ['block'], ['evaluate']]\n",
      "accuracy: 0.25\n"
     ]
    }
   ],
   "source": [
    "test(content_list,options_list,answers_list,showAll=False,predict='D')"
   ]
  },
  {
   "cell_type": "markdown",
   "metadata": {
    "ExecuteTime": {
     "end_time": "2019-12-17T02:48:20.529894Z",
     "start_time": "2019-12-17T02:39:27.032Z"
    }
   },
   "source": [
    "<font color=black size=5 face=雅黑>采用bigram模型后，正确率</font>"
   ]
  },
  {
   "cell_type": "code",
   "execution_count": 241,
   "metadata": {
    "ExecuteTime": {
     "end_time": "2019-12-18T10:26:45.743707Z",
     "start_time": "2019-12-18T10:26:45.738281Z"
    }
   },
   "outputs": [
    {
     "name": "stdout",
     "output_type": "stream",
     "text": [
      "[\"i'd\", 'my', 'was', 'to', 'was', 'little', 'in', 'not', 'and', 'was', 'helped', 'something', 'very', 'i', '<s>', 'to', 'ben', '<s>', 'a', 'there']\n"
     ]
    }
   ],
   "source": [
    "print(content_list[0])"
   ]
  },
  {
   "cell_type": "code",
   "execution_count": 242,
   "metadata": {
    "ExecuteTime": {
     "end_time": "2019-12-18T10:26:46.925035Z",
     "start_time": "2019-12-18T10:26:46.818878Z"
    },
    "scrolled": true
   },
   "outputs": [
    {
     "name": "stdout",
     "output_type": "stream",
     "text": [
      "---------1---------\n",
      "predict: A ground truth: D\n",
      "空前N-1个词 i'd\n",
      "选项 [['also'], ['often'], ['even'], ['last']]\n",
      "---------2---------\n",
      "predict: C ground truth: A\n",
      "空前N-1个词 my\n",
      "选项 [['delight'], ['relief'], ['anger'], ['worry']]\n",
      "---------3---------\n",
      "predict: B ground truth: C\n",
      "空前N-1个词 was\n",
      "选项 [['scared'], ['shocked'], ['thrilled'], ['ashamed']]\n",
      "---------4---------\n",
      "predict: B ground truth: C\n",
      "空前N-1个词 to\n",
      "选项 [['talk'], ['stay'], ['meet'], ['settle']]\n",
      "---------5---------\n",
      "predict: D ground truth: A\n",
      "空前N-1个词 was\n",
      "选项 [['bathed'], ['clean'], ['deep'], ['formed']]\n",
      "---------6---------\n",
      "predict: A ground truth: B\n",
      "空前N-1个词 little\n",
      "选项 [['faster'], ['closer'], ['heavier'], ['wiser']]\n",
      "---------7---------\n",
      "predict: B ground truth: A\n",
      "空前N-1个词 in\n",
      "选项 [['trouble'], ['advance'], ['question'], ['battle']]\n",
      "---------8---------\n",
      "predict: B ground truth: B\n",
      "空前N-1个词 not\n",
      "选项 [['real'], ['right'], ['fair'], ['fit']]\n",
      "---------9---------\n",
      "predict: D ground truth: C\n",
      "空前N-1个词 and\n",
      "选项 [['stared'], ['sank'], ['dived'], ['fell']]\n",
      "---------10---------\n",
      "predict: D ground truth: D\n",
      "空前N-1个词 was\n",
      "选项 [['arguing'], ['fighting'], ['shouting'], ['shaking']]\n",
      "---------11---------\n",
      "predict: D ground truth: C\n",
      "空前N-1个词 helped\n",
      "选项 [['lead'], ['persuade'], ['carry'], ['keep']]\n",
      "---------12---------\n",
      "predict: A ground truth: B\n",
      "空前N-1个词 something\n",
      "选项 [['happened'], ['occurred'], ['applied'], ['appealed']]\n",
      "---------13---------\n",
      "predict: C ground truth: D\n",
      "空前N-1个词 very\n",
      "选项 [['sharp'], ['pleasant'], ['attractive'], ['familiar']]\n",
      "---------14---------\n",
      "predict: D ground truth: D\n",
      "空前N-1个词 i\n",
      "选项 [['agreed'], ['hesitated'], ['doubted'], ['knew']]\n",
      "---------15---------\n",
      "predict: D ground truth: A\n",
      "空前N-1个词 <s>\n",
      "选项 [['fortunately'], ['frankly'], ['sadly'], ['suddenly']]\n",
      "---------16---------\n",
      "predict: D ground truth: D\n",
      "空前N-1个词 to\n",
      "选项 [['return'], ['relax'], ['speak'], ['leave']]\n",
      "---------17---------\n",
      "predict: A ground truth: B\n",
      "空前N-1个词 ben\n",
      "选项 [['joked'], ['turned'], ['listened'], ['pointed']]\n",
      "---------18---------\n",
      "predict: D ground truth: C\n",
      "空前N-1个词 <s>\n",
      "选项 [['created'], ['honored'], ['saved'], ['guided']]\n",
      "---------19---------\n",
      "predict: B ground truth: A\n",
      "空前N-1个词 a\n",
      "选项 [['coincidence'], ['change'], ['pity'], ['pain']]\n",
      "---------20---------\n",
      "predict: C ground truth: B\n",
      "空前N-1个词 there\n",
      "选项 [['on', 'board'], ['in', 'time'], ['for', 'sure'], ['on', 'purpose']]\n",
      "---------1---------\n",
      "predict: A ground truth: C\n",
      "空前N-1个词 i\n",
      "选项 [['knew'], ['understood'], ['noticed'], ['recognized']]\n",
      "---------2---------\n",
      "predict: D ground truth: D\n",
      "空前N-1个词 <s>\n",
      "选项 [['since'], ['even', 'if'], ['though'], ['as', 'if']]\n",
      "---------3---------\n",
      "predict: A ground truth: B\n",
      "空前N-1个词 newspaper\n",
      "选项 [['flat'], ['open'], ['cut'], ['fixed']]\n",
      "---------4---------\n",
      "predict: B ground truth: C\n",
      "空前N-1个词 was\n",
      "选项 [['hoping'], ['thinking'], ['pretending'], ['continuing']]\n",
      "---------5---------\n",
      "predict: A ground truth: A\n",
      "空前N-1个词 could\n",
      "选项 [['see'], ['find'], ['guess'], ['learn']]\n",
      "---------6---------\n",
      "predict: C ground truth: D\n",
      "空前N-1个词 my\n",
      "选项 [['menu'], ['bill'], ['paper'], ['food']]\n",
      "---------7---------\n",
      "predict: C ground truth: B\n",
      "空前N-1个词 the\n",
      "选项 [['direct'], ['familiar'], ['strange'], ['funny']]\n",
      "---------8---------\n",
      "predict: B ground truth: A\n",
      "空前N-1个词 i\n",
      "选项 [['chatted', 'with'], ['looked', 'at'], ['laughed', 'at'], ['talked', 'about']]\n",
      "---------9---------\n",
      "predict: A ground truth: B\n",
      "空前N-1个词 as\n",
      "选项 [['the', 'waiter'], ['time'], ['i'], ['the', 'dinner']]\n",
      "---------10---------\n",
      "predict: C ground truth: C\n",
      "空前N-1个词 became\n",
      "选项 [['true'], ['hopeful'], ['clear'], ['possible']]\n",
      "---------11---------\n",
      "predict: D ground truth: D\n",
      "空前N-1个词 the\n",
      "选项 [['restaurant'], ['washroom'], ['office'], ['kitchen']]\n",
      "---------12---------\n",
      "predict: A ground truth: A\n",
      "空前N-1个词 and\n",
      "选项 [['left'], ['acted'], ['sat', 'down'], ['calmed', 'down']]\n",
      "---------13---------\n",
      "predict: B ground truth: A\n",
      "空前N-1个词 had\n",
      "选项 [['wanted'], ['tried'], ['ordered'], ['wished']]\n",
      "---------14---------\n",
      "predict: A ground truth: C\n",
      "空前N-1个词 he\n",
      "选项 [['met'], ['caught'], ['followed'], ['discovered']]\n",
      "---------15---------\n",
      "predict: A ground truth: D\n",
      "空前N-1个词 he\n",
      "选项 [['was', 'to', 'beat'], ['was', 'dealing', 'with'], ['was', 'to', 'meet'], ['was', 'looking', 'for']]\n",
      "---------16---------\n",
      "predict: B ground truth: B\n",
      "空前N-1个词 my\n",
      "选项 [['care'], ['surprise'], ['worry'], ['regret']]\n",
      "---------17---------\n",
      "predict: B ground truth: A\n",
      "空前N-1个词 i\n",
      "选项 [['must'], ['can'], ['need'], ['may']]\n",
      "---------18---------\n",
      "predict: B ground truth: B\n",
      "空前N-1个词 a\n",
      "选项 [['discovery'], ['mistake'], ['decision'], ['fortune']]\n",
      "---------19---------\n",
      "predict: A ground truth: D\n",
      "空前N-1个词 really\n",
      "选项 [['a', 'pity'], ['natural'], ['a', 'chance'], ['lucky']]\n",
      "---------20---------\n",
      "predict: B ground truth: C\n",
      "空前N-1个词 <s>\n",
      "选项 [['thus'], ['however'], ['otherwise'], ['therefore']]\n",
      "---------1---------\n",
      "predict: C ground truth: B\n",
      "空前N-1个词 i\n",
      "选项 [['put', 'forward'], ['jumped', 'at'], ['tried', 'out'], ['turned', 'down']]\n",
      "---------2---------\n",
      "predict: D ground truth: C\n",
      "空前N-1个词 to\n",
      "选项 [['waste'], ['earn'], ['save'], ['pay']]\n",
      "---------3---------\n",
      "predict: A ground truth: A\n",
      "空前N-1个词 weren't\n",
      "选项 [['excited'], ['worried'], ['moved'], ['tired']]\n",
      "---------4---------\n",
      "predict: A ground truth: D\n",
      "空前N-1个词 our\n",
      "选项 [['title'], ['competitor'], ['textbook'], ['instructor']]\n",
      "---------5---------\n",
      "predict: D ground truth: D\n",
      "空前N-1个词 which\n",
      "选项 [['urged'], ['demanded'], ['held'], ['meant']]\n",
      "---------6---------\n",
      "predict: A ground truth: C\n",
      "空前N-1个词 game's\n",
      "选项 [['fastest'], ['easiest'], ['best'], ['rarest']]\n",
      "---------7---------\n",
      "predict: B ground truth: B\n",
      "空前N-1个词 to\n",
      "选项 [['interview'], ['meet'], ['challenge'], ['beat']]\n",
      "---------8---------\n",
      "predict: D ground truth: D\n",
      "空前N-1个词 this\n",
      "选项 [['chance'], ['qualification'], ['honor'], ['job']]\n",
      "---------9---------\n",
      "predict: D ground truth: C\n",
      "空前N-1个词 it\n",
      "选项 [['real'], ['perfect'], ['clear'], ['possible']]\n",
      "---------10---------\n",
      "predict: A ground truth: B\n",
      "空前N-1个词 to\n",
      "选项 [['attend'], ['pass'], ['skip'], ['observe']]\n",
      "---------11---------\n",
      "predict: A ground truth: C\n",
      "空前N-1个词 to\n",
      "选项 [['add'], ['expose'], ['apply'], ['compare']]\n",
      "---------12---------\n",
      "predict: A ground truth: A\n",
      "空前N-1个词 <s>\n",
      "选项 [['eventually'], ['naturally'], ['directly'], ['normally']]\n",
      "---------13---------\n",
      "predict: A ground truth: C\n",
      "空前N-1个词 that\n",
      "选项 [['game'], ['presentation'], ['course'], ['experiment']]\n",
      "---------14---------\n",
      "predict: B ground truth: B\n",
      "空前N-1个词 the\n",
      "选项 [['criterion'], ['classroom'], ['department'], ['situation']]\n",
      "---------15---------\n",
      "predict: B ground truth: A\n",
      "空前N-1个词 he\n",
      "选项 [['taught'], ['wrote'], ['questioned'], ['promised']]\n",
      "---------16---------\n",
      "predict: B ground truth: D\n",
      "空前N-1个词 important\n",
      "选项 [['fact'], ['step'], ['manner'], ['skill']]\n",
      "---------17---------\n",
      "predict: A ground truth: B\n",
      "空前N-1个词 good\n",
      "选项 [['grades'], ['decisions'], ['impressions'], ['comments']]\n",
      "---------18---------\n",
      "predict: D ground truth: A\n",
      "空前N-1个词 to\n",
      "选项 [['analyze'], ['describe'], ['rebuild'], ['control']]\n",
      "---------19---------\n",
      "predict: C ground truth: D\n",
      "空前N-1个词 and\n",
      "选项 [['announce'], ['signal'], ['block'], ['evaluate']]\n",
      "---------20---------\n",
      "predict: B ground truth: A\n",
      "空前N-1个词 my\n",
      "选项 [['role'], ['desire'], ['concern'], ['behavior']]\n",
      "accuracy: 0.2833333333333333\n"
     ]
    }
   ],
   "source": [
    "test(content_list,options_list,answers_list,showAll=True)"
   ]
  },
  {
   "cell_type": "code",
   "execution_count": null,
   "metadata": {
    "ExecuteTime": {
     "end_time": "2019-12-18T10:24:02.497332Z",
     "start_time": "2019-12-18T10:23:38.479Z"
    },
    "scrolled": true
   },
   "outputs": [],
   "source": [
    "test(content_list,options_list,answers_list,2,showAll=False)"
   ]
  },
  {
   "cell_type": "markdown",
   "metadata": {
    "ExecuteTime": {
     "end_time": "2019-12-15T05:35:45.947587Z",
     "start_time": "2019-12-15T05:35:45.943222Z"
    }
   },
   "source": [
    "<font color=blue size=15 face=雅黑>trigram Test</font>"
   ]
  },
  {
   "cell_type": "code",
   "execution_count": null,
   "metadata": {
    "ExecuteTime": {
     "end_time": "2019-12-18T10:24:02.498682Z",
     "start_time": "2019-12-18T10:23:38.481Z"
    },
    "collapsed": true
   },
   "outputs": [],
   "source": [
    "N = 3\n",
    "pre_words,be_words,words = count_word_num(lines,N)"
   ]
  },
  {
   "cell_type": "code",
   "execution_count": null,
   "metadata": {
    "ExecuteTime": {
     "end_time": "2019-12-18T10:24:02.499986Z",
     "start_time": "2019-12-18T10:23:38.483Z"
    },
    "collapsed": true
   },
   "outputs": [],
   "source": [
    "content_list,options_list,answers_list = read_train_data(N)"
   ]
  },
  {
   "cell_type": "code",
   "execution_count": null,
   "metadata": {
    "ExecuteTime": {
     "end_time": "2019-12-18T10:24:02.501136Z",
     "start_time": "2019-12-18T10:23:38.485Z"
    },
    "scrolled": true
   },
   "outputs": [],
   "source": [
    "test(content_list,options_list,answers_list,N,showAll=True)"
   ]
  },
  {
   "cell_type": "code",
   "execution_count": null,
   "metadata": {
    "ExecuteTime": {
     "end_time": "2019-12-18T10:24:02.502444Z",
     "start_time": "2019-12-18T10:23:38.487Z"
    },
    "scrolled": true
   },
   "outputs": [],
   "source": [
    "test(content_list,options_list,answers_list,N,showAll=False)"
   ]
  },
  {
   "cell_type": "code",
   "execution_count": null,
   "metadata": {
    "ExecuteTime": {
     "end_time": "2019-12-18T10:24:02.503769Z",
     "start_time": "2019-12-18T10:23:38.488Z"
    }
   },
   "outputs": [],
   "source": [
    "tt = 'has a'\n",
    "print(pre_words[tt])"
   ]
  },
  {
   "cell_type": "code",
   "execution_count": null,
   "metadata": {
    "ExecuteTime": {
     "end_time": "2019-12-18T10:24:02.504815Z",
     "start_time": "2019-12-18T10:23:38.491Z"
    },
    "scrolled": true
   },
   "outputs": [],
   "source": [
    "n = len(tt)\n",
    "for key, value in words.items():\n",
    "#     print(key[:n])\n",
    "    if key[:n] == tt and key[n]==' ':\n",
    "        print(key,' : ',value)"
   ]
  },
  {
   "cell_type": "markdown",
   "metadata": {},
   "source": [
    "<font color=blue size=15 face=雅黑>fourgram Test</font>"
   ]
  },
  {
   "cell_type": "code",
   "execution_count": null,
   "metadata": {
    "ExecuteTime": {
     "end_time": "2019-12-18T10:24:02.506244Z",
     "start_time": "2019-12-18T10:23:38.494Z"
    },
    "scrolled": true
   },
   "outputs": [],
   "source": [
    "N = 4\n",
    "pre_words,be_words,words = count_word_num(lines,N)\n",
    "content_list,options_list,answers_list = read_train_data(N)\n",
    "test(content_list,options_list,answers_list,N,showAll=True)"
   ]
  },
  {
   "cell_type": "code",
   "execution_count": null,
   "metadata": {
    "ExecuteTime": {
     "end_time": "2019-12-18T10:24:02.507727Z",
     "start_time": "2019-12-18T10:23:38.498Z"
    },
    "scrolled": false
   },
   "outputs": [],
   "source": [
    "test(content_list,options_list,answers_list,N,showAll=False)"
   ]
  },
  {
   "cell_type": "code",
   "execution_count": null,
   "metadata": {
    "collapsed": true
   },
   "outputs": [],
   "source": []
  },
  {
   "cell_type": "code",
   "execution_count": null,
   "metadata": {
    "collapsed": true
   },
   "outputs": [],
   "source": []
  }
 ],
 "metadata": {
  "kernelspec": {
   "display_name": "Python 3",
   "language": "python",
   "name": "python3"
  },
  "language_info": {
   "codemirror_mode": {
    "name": "ipython",
    "version": 3
   },
   "file_extension": ".py",
   "mimetype": "text/x-python",
   "name": "python",
   "nbconvert_exporter": "python",
   "pygments_lexer": "ipython3",
   "version": "3.6.2"
  }
 },
 "nbformat": 4,
 "nbformat_minor": 2
}
