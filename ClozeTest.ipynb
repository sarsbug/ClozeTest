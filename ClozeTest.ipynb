{
 "cells": [
  {
   "cell_type": "code",
   "execution_count": 1,
   "metadata": {
    "ExecuteTime": {
     "end_time": "2019-12-17T03:02:21.785230Z",
     "start_time": "2019-12-17T03:02:21.292315Z"
    },
    "collapsed": true
   },
   "outputs": [],
   "source": [
    "import torch\n",
    "import torch.autograd as autograd\n",
    "import torch.nn as nn\n",
    "import torch.nn.functional as F\n",
    "import torch.optim as optim\n",
    "import glob \n",
    "import json\n",
    "import re\n",
    "import string\n",
    "import operator\n",
    "import collections\n",
    "import numpy as np\n",
    "import string\n",
    "import math\n",
    "from tqdm import tqdm\n",
    "from array import array"
   ]
  },
  {
   "cell_type": "code",
   "execution_count": 2,
   "metadata": {
    "ExecuteTime": {
     "end_time": "2019-12-17T03:02:22.657441Z",
     "start_time": "2019-12-17T03:02:22.653444Z"
    },
    "collapsed": true
   },
   "outputs": [],
   "source": [
    "NONE_STR = '<s>'"
   ]
  },
  {
   "cell_type": "code",
   "execution_count": 3,
   "metadata": {
    "ExecuteTime": {
     "end_time": "2019-12-17T03:02:23.010151Z",
     "start_time": "2019-12-17T03:02:23.002449Z"
    },
    "collapsed": true
   },
   "outputs": [],
   "source": [
    "def delete_other_letter(line):\n",
    "    punctuation =\"\"\"!\"#$%&\\()*+,./:;<=>?@[\\\\]^_`{|}~\\\\n\"\"\"\n",
    "    re_punctuation =\"[{}]+\".format(punctuation)\n",
    "    line =re.sub(re_punctuation, \"\", line)\n",
    "    return line.lower()"
   ]
  },
  {
   "cell_type": "code",
   "execution_count": 4,
   "metadata": {
    "ExecuteTime": {
     "end_time": "2019-12-17T03:02:23.221899Z",
     "start_time": "2019-12-17T03:02:23.201913Z"
    },
    "collapsed": true
   },
   "outputs": [],
   "source": [
    "def read_articles(paths):\n",
    "    alllines = []\n",
    "    for path in paths:\n",
    "        filenames = glob.glob(path+\"/*txt\")\n",
    "        for filename in filenames:\n",
    "            with open(filename, 'r', encoding='utf-8') as fpr:\n",
    "                data_raw = json.load(fpr)\n",
    "                article = data_raw['article']\n",
    "                \n",
    "                lines = article.split('.')\n",
    "                for line in lines:\n",
    "                    line = delete_other_letter(line)\n",
    "                    alllines.append(line)\n",
    "                \n",
    "    return alllines"
   ]
  },
  {
   "cell_type": "code",
   "execution_count": 5,
   "metadata": {
    "ExecuteTime": {
     "end_time": "2019-12-17T03:02:29.075266Z",
     "start_time": "2019-12-17T03:02:23.393819Z"
    },
    "collapsed": true
   },
   "outputs": [],
   "source": [
    "lines = read_articles(['./RACE/train/high','./RACE/train/middle'])"
   ]
  },
  {
   "cell_type": "code",
   "execution_count": 6,
   "metadata": {
    "ExecuteTime": {
     "end_time": "2019-12-17T03:02:29.081795Z",
     "start_time": "2019-12-17T03:02:29.077691Z"
    },
    "scrolled": true
   },
   "outputs": [
    {
     "name": "stdout",
     "output_type": "stream",
     "text": [
      "499388\n"
     ]
    }
   ],
   "source": [
    "print(len(lines))"
   ]
  },
  {
   "cell_type": "code",
   "execution_count": 7,
   "metadata": {
    "ExecuteTime": {
     "end_time": "2019-12-17T03:02:29.262138Z",
     "start_time": "2019-12-17T03:02:29.083777Z"
    },
    "collapsed": true
   },
   "outputs": [],
   "source": [
    "# def word_dict(lines):\n",
    "#     word_freq = collections.defaultdict(int)\n",
    "#     for line in lines:\n",
    "#         for w in line.split(): \n",
    "#             word_freq[w] += 1\n",
    "    \n",
    "#     return list(word_freq.keys())"
   ]
  },
  {
   "cell_type": "code",
   "execution_count": 8,
   "metadata": {
    "ExecuteTime": {
     "end_time": "2019-12-17T03:02:29.432572Z",
     "start_time": "2019-12-17T03:02:29.265327Z"
    },
    "collapsed": true
   },
   "outputs": [],
   "source": [
    "# def get_words_matrix(words,lines):                                                                                                                                                                                                                                                                                                                                                                                                                                                                                                                                                                                                                                                                                                                                                                                                                                                                                                                                                                                                                                                                                                                                                                                                                                                                                                                                                                                                                                                                                                                                                                                                                                                                                                                                                                                                                                                                                                                                                                                                                                                                                                                                                                                                                                                                                                                                                                                                                                                                                                                                                                                                                                                                                                                                                                                                                                                                                                                                                                                                                                                                                                                                                                                                                                                                                                                                                                                                                                                                                                                                                                                                                                                                                                                                                                                                                                                                                                                                                                                                                                                                                                                                                                                                                                                                                                                                                                                                                                                                                                                                                                                                                                                                                                                                                                                                                                                                                                               \n",
    "#     for line in lines:\n",
    "#         line_words = line.split()\n",
    "#         n = len(line_words)\n",
    "#         for i in range(n-1):\n",
    "#             ww = line_words[i+1]\n",
    "#             i = words.index(line_words[i])\n",
    "#             j = words.index(ww)\n",
    "#             words_matrix[i][j] += 1"
   ]
  },
  {
   "cell_type": "code",
   "execution_count": 9,
   "metadata": {
    "ExecuteTime": {
     "end_time": "2019-12-17T03:02:29.553155Z",
     "start_time": "2019-12-17T03:02:29.435684Z"
    },
    "collapsed": true
   },
   "outputs": [],
   "source": [
    "def word_dict(lines,n):\n",
    "                \n",
    "#     pre_words= set()\n",
    "#     be_words = set()\n",
    "    pre_words = collections.defaultdict(int)\n",
    "    be_words = collections.defaultdict(int)\n",
    "    n = n-1\n",
    "    for line in lines:\n",
    "        for k in range(n):\n",
    "            line = NONE_STR+' '+line+' '+NONE_STR\n",
    "        line_words = line.split()\n",
    "        for i in range(len(line_words)-(n-1)):\n",
    "            ngramTemp = ' '.join(line_words[i:i+n])\n",
    "#             pre_words.add(ngramTemp)\n",
    "#             be_words.add(line_words[i])\n",
    "            pre_words[ngramTemp] += 1\n",
    "            be_words[line_words[i]] += 1\n",
    "            \n",
    "#     return list(pre_words.keys()),list(be_words.keys())\n",
    "    return pre_words,be_words"
   ]
  },
  {
   "cell_type": "code",
   "execution_count": 10,
   "metadata": {
    "ExecuteTime": {
     "end_time": "2019-12-17T03:02:29.642567Z",
     "start_time": "2019-12-17T03:02:29.556245Z"
    },
    "collapsed": true
   },
   "outputs": [],
   "source": [
    "punctuation_list = ['.',',','?','!','\\\"','“']"
   ]
  },
  {
   "cell_type": "code",
   "execution_count": 11,
   "metadata": {
    "ExecuteTime": {
     "end_time": "2019-12-17T03:02:29.779038Z",
     "start_time": "2019-12-17T03:02:29.645977Z"
    },
    "collapsed": true
   },
   "outputs": [],
   "source": [
    "def has_punctuation(word):\n",
    "    for puc in punctuation_list:\n",
    "        if word.find(puc) != -1 :\n",
    "            return True\n",
    "    return False"
   ]
  },
  {
   "cell_type": "code",
   "execution_count": 12,
   "metadata": {
    "ExecuteTime": {
     "end_time": "2019-12-17T03:02:29.921905Z",
     "start_time": "2019-12-17T03:02:29.783014Z"
    },
    "collapsed": true
   },
   "outputs": [],
   "source": [
    "def replace_punctuation(word):\n",
    "    for puc in punctuation_list:\n",
    "        word = word.replace(puc,'')\n",
    "    return word"
   ]
  },
  {
   "cell_type": "code",
   "execution_count": 13,
   "metadata": {
    "ExecuteTime": {
     "end_time": "2019-12-17T03:02:30.097455Z",
     "start_time": "2019-12-17T03:02:29.924930Z"
    },
    "collapsed": true
   },
   "outputs": [],
   "source": [
    "def replace_Chinese_punctuation(content):\n",
    "    content = content.replace('’','\\'')\n",
    "    content = content.replace('”','')\n",
    "    return content"
   ]
  },
  {
   "cell_type": "code",
   "execution_count": 14,
   "metadata": {
    "ExecuteTime": {
     "end_time": "2019-12-17T03:02:30.183773Z",
     "start_time": "2019-12-17T03:02:30.100728Z"
    },
    "collapsed": true
   },
   "outputs": [],
   "source": [
    "def get_options(options_str):\n",
    "    options_str = replace_Chinese_punctuation(options_str)\n",
    "    options = []\n",
    "    opt_rows = options_str.split('#')\n",
    "    for opt in opt_rows:\n",
    "        indexA = opt.find('A.')\n",
    "        indexB = opt.find('B.')\n",
    "        indexC = opt.find('C.')\n",
    "        indexD = opt.find('D.')\n",
    "        As = opt[indexA+2:indexB].strip().lower().split(' ')\n",
    "        Bs = opt[indexB+2:indexC].strip().lower().split(' ')\n",
    "        Cs = opt[indexC+2:indexD].strip().lower().split(' ')\n",
    "        Ds = opt[indexD+2:].strip().lower().split(' ')\n",
    "        options.append([As,Bs,Cs,Ds])\n",
    "    return options"
   ]
  },
  {
   "cell_type": "code",
   "execution_count": 15,
   "metadata": {
    "ExecuteTime": {
     "end_time": "2019-12-17T03:02:30.295111Z",
     "start_time": "2019-12-17T03:02:30.187460Z"
    },
    "collapsed": true
   },
   "outputs": [],
   "source": [
    "def probability(word1,word2):\n",
    "    index1 = pre_words.index(word1)\n",
    "    index2 = be_words.index(word2)\n",
    "#     print(word1,index1,word2,index2)\n",
    "    pn_word1 = words_matrix[index1].sum()\n",
    "    pn_word2_under_word1 = words_matrix[index1][index2]\n",
    "#     print(pn_word1,pn_word2_under_word1)\n",
    "    prob = float(pn_word2_under_word1)/pn_word1\n",
    "    if prob == 0:\n",
    "        prob = 0.0000000000001\n",
    "    return prob"
   ]
  },
  {
   "cell_type": "code",
   "execution_count": 16,
   "metadata": {
    "ExecuteTime": {
     "end_time": "2019-12-17T03:02:30.426332Z",
     "start_time": "2019-12-17T03:02:30.298789Z"
    },
    "collapsed": true
   },
   "outputs": [],
   "source": [
    "def read_train_data(n):\n",
    "    path = './data'\n",
    "    filenames = glob.glob(path+\"/*txt\")\n",
    "    \n",
    "    answers_list =[]\n",
    "    options_list = []\n",
    "    content_list = []\n",
    "    for filename in filenames:\n",
    "        with open(filename, 'r', encoding='utf-8') as fpr:\n",
    "            data_raw = json.load(fpr)\n",
    "            article = data_raw['article']\n",
    "            content = get_pre_and_be_words(article,n)\n",
    "            options_str = data_raw['options']\n",
    "            options = get_options(options_str)\n",
    "            answers = list(data_raw['answers'])\n",
    "            answers_list.append(answers)\n",
    "            options_list.append(options)\n",
    "            content_list.append(content)\n",
    "    return content_list,options_list,answers_list"
   ]
  },
  {
   "cell_type": "code",
   "execution_count": 17,
   "metadata": {
    "ExecuteTime": {
     "end_time": "2019-12-17T03:02:30.558351Z",
     "start_time": "2019-12-17T03:02:30.429368Z"
    },
    "collapsed": true
   },
   "outputs": [],
   "source": [
    "def auto_select(question,option):\n",
    "    index = 0\n",
    "    maxprob = -10000000000\n",
    "    n = len(option)\n",
    "    for i in range(n):\n",
    "#         prob = math.log(probability(question[0],option[i][0]))+math.log(probability(option[i][-1],question[1]))\n",
    "        prob = probability(question,option[i][0])\n",
    "        if prob > maxprob:\n",
    "            maxprob = prob\n",
    "            index = i\n",
    "    return chr(ord('A')+index)"
   ]
  },
  {
   "cell_type": "code",
   "execution_count": 18,
   "metadata": {
    "ExecuteTime": {
     "end_time": "2019-12-17T03:02:30.736069Z",
     "start_time": "2019-12-17T03:02:30.561394Z"
    },
    "collapsed": true
   },
   "outputs": [],
   "source": [
    "def test(content_list,options_list,answers_list,showAll=False,predict=None):\n",
    "    \n",
    "    cn = len(content_list)\n",
    "    right_n = 0\n",
    "    total_n = 0\n",
    "    for k in range(cn):\n",
    "        content = content_list[k]\n",
    "        answers = answers_list[k]\n",
    "        options = options_list[k]\n",
    "    \n",
    "        n = len(answers)\n",
    "        total_n += n\n",
    "        for i in range(n):\n",
    "            if showAll:\n",
    "                print('---------'+str(i+1)+'---------')\n",
    "            if predict is None:\n",
    "                choice = auto_select(content[i],options[i])\n",
    "            else:\n",
    "                choice = predict\n",
    "            if choice == answers[i]:\n",
    "                right_n += 1\n",
    "                if showAll == False:\n",
    "                    print('---------'+str(i+1)+'---------')\n",
    "                    print('predict:',choice,'ground_true:',answers[i])\n",
    "                    print('空的前后词',content[i])\n",
    "                    print('选项',options[i])\n",
    "            if showAll:\n",
    "                print('predict:',choice,'ground_true:',answers[i])\n",
    "                print('空的前后词',content[i])\n",
    "                print('选项',options[i])\n",
    "    accuracy = float(right_n)/total_n\n",
    "    print('accuracy:',accuracy)"
   ]
  },
  {
   "cell_type": "code",
   "execution_count": 19,
   "metadata": {
    "ExecuteTime": {
     "end_time": "2019-12-17T03:02:30.830797Z",
     "start_time": "2019-12-17T03:02:30.739140Z"
    }
   },
   "outputs": [],
   "source": [
    "def get_words_matrix(pre_words,be_words,lines,n):  \n",
    "    n = n-1\n",
    "    for line in tqdm(lines):\n",
    "        for k in range(n):\n",
    "            line = NONE_STR+' '+line+' '+NONE_STR\n",
    "        line_words = line.split()\n",
    "        words_n = len(line_words)-n\n",
    "        for i in range(words_n):\n",
    "            pre_word = ' '.join(line_words[i:i+n])\n",
    "                \n",
    "            be_word = line_words[i+n]\n",
    "            try:\n",
    "                i = pre_words.index(pre_word)\n",
    "                j = be_words.index(be_word)\n",
    "                words_matrix[i][j] += 1\n",
    "            except ValueError:\n",
    "                # 查找不到会报错，找不到就不做处理\n",
    "                a = None\n",
    "            \n",
    "    return words_matrix"
   ]
  },
  {
   "cell_type": "code",
   "execution_count": 20,
   "metadata": {
    "ExecuteTime": {
     "end_time": "2019-12-17T03:02:31.001181Z",
     "start_time": "2019-12-17T03:02:30.834006Z"
    },
    "collapsed": true
   },
   "outputs": [],
   "source": [
    "def get_pre_and_be_words(article,ngram):\n",
    "    article = replace_Chinese_punctuation(article)\n",
    "    art_words = article.split()\n",
    "    n = len(art_words)\n",
    "    index = 1\n",
    "    content = []\n",
    "    for i in range(n):\n",
    "        word = art_words[i]\n",
    "        if str(index) == word:\n",
    "            pre_word = ''\n",
    "            if i < ngram-1:\n",
    "                for k in range(ngram-1-i):\n",
    "                    pre_word += NONE_STR\n",
    "            else:\n",
    "#                 pre_word = art_words[i-1-(ngram-2):i-1]\n",
    "                pre_word = pre_word.join(art_words[i-1-(ngram-2):i])\n",
    "            if has_punctuation(pre_word):\n",
    "                pre_word = ''\n",
    "                for k in range(ngram-1):\n",
    "                    pre_word += NONE_STR\n",
    "            pre_word = replace_punctuation(pre_word)\n",
    "            content.append(pre_word.lower())\n",
    "            index += 1\n",
    "    return content"
   ]
  },
  {
   "cell_type": "markdown",
   "metadata": {},
   "source": [
    "<font color=blue size=15 face=雅黑>bigram Test</font>"
   ]
  },
  {
   "cell_type": "code",
   "execution_count": 21,
   "metadata": {
    "ExecuteTime": {
     "end_time": "2019-12-17T02:24:09.648272Z",
     "start_time": "2019-12-17T02:24:01.509268Z"
    },
    "collapsed": true
   },
   "outputs": [],
   "source": [
    "pre_words_dict,be_words_dict = word_dict(lines,2)"
   ]
  },
  {
   "cell_type": "code",
   "execution_count": 22,
   "metadata": {
    "ExecuteTime": {
     "end_time": "2019-12-17T02:24:09.659670Z",
     "start_time": "2019-12-17T02:24:09.650841Z"
    },
    "collapsed": true
   },
   "outputs": [],
   "source": [
    "pre_words = list(pre_words_dict.keys())\n",
    "be_words = list(be_words_dict.keys())"
   ]
  },
  {
   "cell_type": "code",
   "execution_count": 23,
   "metadata": {
    "ExecuteTime": {
     "end_time": "2019-12-17T02:24:09.775104Z",
     "start_time": "2019-12-17T02:24:09.662915Z"
    }
   },
   "outputs": [
    {
     "name": "stdout",
     "output_type": "stream",
     "text": [
      "(146579, 146579)\n"
     ]
    }
   ],
   "source": [
    "m = len(pre_words)\n",
    "n = len(be_words)\n",
    "words_matrix = np.zeros((m,n),dtype=np.int32) \n",
    "print(words_matrix.shape)"
   ]
  },
  {
   "cell_type": "code",
   "execution_count": 24,
   "metadata": {
    "ExecuteTime": {
     "end_time": "2019-12-17T02:48:20.173135Z",
     "start_time": "2019-12-17T02:24:09.777260Z"
    },
    "scrolled": false
   },
   "outputs": [
    {
     "name": "stderr",
     "output_type": "stream",
     "text": [
      "100%|██████████| 499388/499388 [24:10<00:00, 344.35it/s]\n"
     ]
    }
   ],
   "source": [
    "words_matrix = get_words_matrix(pre_words,be_words,lines,2)"
   ]
  },
  {
   "cell_type": "code",
   "execution_count": 25,
   "metadata": {
    "ExecuteTime": {
     "end_time": "2019-12-17T02:48:20.180576Z",
     "start_time": "2019-12-17T02:48:20.175644Z"
    },
    "collapsed": true,
    "scrolled": true
   },
   "outputs": [],
   "source": [
    "content_list,options_list,answers_list = read_train_data(2)"
   ]
  },
  {
   "cell_type": "code",
   "execution_count": 29,
   "metadata": {
    "ExecuteTime": {
     "end_time": "2019-12-17T02:20:55.779429Z",
     "start_time": "2019-12-17T02:20:55.653313Z"
    }
   },
   "outputs": [
    {
     "name": "stdout",
     "output_type": "stream",
     "text": [
      "[\"i'd\", 'my', 'was', 'to', 'was', 'little', 'in', 'not', 'and', 'was', 'helped', 'something', 'very', 'i', '<s>', 'to', 'ben', '<s>', 'a', 'there']\n"
     ]
    }
   ],
   "source": [
    "print(content_list[0])"
   ]
  },
  {
   "cell_type": "code",
   "execution_count": 30,
   "metadata": {
    "ExecuteTime": {
     "end_time": "2019-12-17T02:20:55.910022Z",
     "start_time": "2019-12-17T02:20:55.782975Z"
    },
    "scrolled": true
   },
   "outputs": [
    {
     "name": "stdout",
     "output_type": "stream",
     "text": [
      "[[['also'], ['often'], ['even'], ['last']], [['delight'], ['relief'], ['anger'], ['worry']], [['scared'], ['shocked'], ['thrilled'], ['ashamed']], [['talk'], ['stay'], ['meet'], ['settle']], [['bathed'], ['clean'], ['deep'], ['formed']], [['faster'], ['closer'], ['heavier'], ['wiser']], [['trouble'], ['advance'], ['question'], ['battle']], [['real'], ['right'], ['fair'], ['fit']], [['stared'], ['sank'], ['dived'], ['fell']], [['arguing'], ['fighting'], ['shouting'], ['shaking']], [['lead'], ['persuade'], ['carry'], ['keep']], [['happened'], ['occurred'], ['applied'], ['appealed']], [['sharp'], ['pleasant'], ['attractive'], ['familiar']], [['agreed'], ['hesitated'], ['doubted'], ['knew']], [['fortunately'], ['frankly'], ['sadly'], ['suddenly']], [['return'], ['relax'], ['speak'], ['leave']], [['joked'], ['turned'], ['listened'], ['pointed']], [['created'], ['honored'], ['saved'], ['guided']], [['coincidence'], ['change'], ['pity'], ['pain']], [['on', 'board'], ['in', 'time'], ['for', 'sure'], ['on', 'purpose']]]\n"
     ]
    }
   ],
   "source": [
    "print(options_list[0])"
   ]
  },
  {
   "cell_type": "code",
   "execution_count": 31,
   "metadata": {
    "ExecuteTime": {
     "end_time": "2019-12-17T02:20:56.174303Z",
     "start_time": "2019-12-17T02:20:55.912872Z"
    }
   },
   "outputs": [
    {
     "name": "stdout",
     "output_type": "stream",
     "text": [
      "['D', 'A', 'C', 'C', 'A', 'B', 'A', 'B', 'C', 'D', 'C', 'B', 'D', 'D', 'A', 'D', 'B', 'C', 'A', 'B']\n"
     ]
    }
   ],
   "source": [
    "print(answers_list[0])"
   ]
  },
  {
   "cell_type": "markdown",
   "metadata": {},
   "source": [
    "<font color=black size=5 face=雅黑>全选A/B/C/D 观察正确率</font>"
   ]
  },
  {
   "cell_type": "code",
   "execution_count": 35,
   "metadata": {
    "ExecuteTime": {
     "end_time": "2019-12-17T02:51:49.978386Z",
     "start_time": "2019-12-17T02:51:49.947283Z"
    },
    "scrolled": true
   },
   "outputs": [
    {
     "name": "stdout",
     "output_type": "stream",
     "text": [
      "---------2---------\n",
      "predict: A ground_true: A\n",
      "空的前后词 my\n",
      "选项 [['delight'], ['relief'], ['anger'], ['worry']]\n",
      "---------5---------\n",
      "predict: A ground_true: A\n",
      "空的前后词 was\n",
      "选项 [['bathed'], ['clean'], ['deep'], ['formed']]\n",
      "---------7---------\n",
      "predict: A ground_true: A\n",
      "空的前后词 in\n",
      "选项 [['trouble'], ['advance'], ['question'], ['battle']]\n",
      "---------15---------\n",
      "predict: A ground_true: A\n",
      "空的前后词 <s>\n",
      "选项 [['fortunately'], ['frankly'], ['sadly'], ['suddenly']]\n",
      "---------19---------\n",
      "predict: A ground_true: A\n",
      "空的前后词 a\n",
      "选项 [['coincidence'], ['change'], ['pity'], ['pain']]\n",
      "---------5---------\n",
      "predict: A ground_true: A\n",
      "空的前后词 could\n",
      "选项 [['see'], ['find'], ['guess'], ['learn']]\n",
      "---------8---------\n",
      "predict: A ground_true: A\n",
      "空的前后词 i\n",
      "选项 [['chatted', 'with'], ['looked', 'at'], ['laughed', 'at'], ['talked', 'about']]\n",
      "---------12---------\n",
      "predict: A ground_true: A\n",
      "空的前后词 and\n",
      "选项 [['left'], ['acted'], ['sat', 'down'], ['calmed', 'down']]\n",
      "---------13---------\n",
      "predict: A ground_true: A\n",
      "空的前后词 had\n",
      "选项 [['wanted'], ['tried'], ['ordered'], ['wished']]\n",
      "---------17---------\n",
      "predict: A ground_true: A\n",
      "空的前后词 i\n",
      "选项 [['must'], ['can'], ['need'], ['may']]\n",
      "---------3---------\n",
      "predict: A ground_true: A\n",
      "空的前后词 weren't\n",
      "选项 [['excited'], ['worried'], ['moved'], ['tired']]\n",
      "---------12---------\n",
      "predict: A ground_true: A\n",
      "空的前后词 <s>\n",
      "选项 [['eventually'], ['naturally'], ['directly'], ['normally']]\n",
      "---------15---------\n",
      "predict: A ground_true: A\n",
      "空的前后词 he\n",
      "选项 [['taught'], ['wrote'], ['questioned'], ['promised']]\n",
      "---------18---------\n",
      "predict: A ground_true: A\n",
      "空的前后词 to\n",
      "选项 [['analyze'], ['describe'], ['rebuild'], ['control']]\n",
      "---------20---------\n",
      "predict: A ground_true: A\n",
      "空的前后词 my\n",
      "选项 [['role'], ['desire'], ['concern'], ['behavior']]\n",
      "accuracy: 0.25\n"
     ]
    }
   ],
   "source": [
    "test(content_list,options_list,answers_list,showAll=False,predict='A')"
   ]
  },
  {
   "cell_type": "code",
   "execution_count": 36,
   "metadata": {
    "ExecuteTime": {
     "end_time": "2019-12-17T02:52:09.007008Z",
     "start_time": "2019-12-17T02:52:08.977664Z"
    },
    "scrolled": true
   },
   "outputs": [
    {
     "name": "stdout",
     "output_type": "stream",
     "text": [
      "---------6---------\n",
      "predict: B ground_true: B\n",
      "空的前后词 little\n",
      "选项 [['faster'], ['closer'], ['heavier'], ['wiser']]\n",
      "---------8---------\n",
      "predict: B ground_true: B\n",
      "空的前后词 not\n",
      "选项 [['real'], ['right'], ['fair'], ['fit']]\n",
      "---------12---------\n",
      "predict: B ground_true: B\n",
      "空的前后词 something\n",
      "选项 [['happened'], ['occurred'], ['applied'], ['appealed']]\n",
      "---------17---------\n",
      "predict: B ground_true: B\n",
      "空的前后词 ben\n",
      "选项 [['joked'], ['turned'], ['listened'], ['pointed']]\n",
      "---------20---------\n",
      "predict: B ground_true: B\n",
      "空的前后词 there\n",
      "选项 [['on', 'board'], ['in', 'time'], ['for', 'sure'], ['on', 'purpose']]\n",
      "---------3---------\n",
      "predict: B ground_true: B\n",
      "空的前后词 newspaper\n",
      "选项 [['flat'], ['open'], ['cut'], ['fixed']]\n",
      "---------7---------\n",
      "predict: B ground_true: B\n",
      "空的前后词 the\n",
      "选项 [['direct'], ['familiar'], ['strange'], ['funny']]\n",
      "---------9---------\n",
      "predict: B ground_true: B\n",
      "空的前后词 as\n",
      "选项 [['the', 'waiter'], ['time'], ['i'], ['the', 'dinner']]\n",
      "---------16---------\n",
      "predict: B ground_true: B\n",
      "空的前后词 my\n",
      "选项 [['care'], ['surprise'], ['worry'], ['regret']]\n",
      "---------18---------\n",
      "predict: B ground_true: B\n",
      "空的前后词 a\n",
      "选项 [['discovery'], ['mistake'], ['decision'], ['fortune']]\n",
      "---------1---------\n",
      "predict: B ground_true: B\n",
      "空的前后词 i\n",
      "选项 [['put', 'forward'], ['jumped', 'at'], ['tried', 'out'], ['turned', 'down']]\n",
      "---------7---------\n",
      "predict: B ground_true: B\n",
      "空的前后词 to\n",
      "选项 [['interview'], ['meet'], ['challenge'], ['beat']]\n",
      "---------10---------\n",
      "predict: B ground_true: B\n",
      "空的前后词 to\n",
      "选项 [['attend'], ['pass'], ['skip'], ['observe']]\n",
      "---------14---------\n",
      "predict: B ground_true: B\n",
      "空的前后词 the\n",
      "选项 [['criterion'], ['classroom'], ['department'], ['situation']]\n",
      "---------17---------\n",
      "predict: B ground_true: B\n",
      "空的前后词 good\n",
      "选项 [['grades'], ['decisions'], ['impressions'], ['comments']]\n",
      "accuracy: 0.25\n"
     ]
    }
   ],
   "source": [
    "test(content_list,options_list,answers_list,showAll=False,predict='B')"
   ]
  },
  {
   "cell_type": "code",
   "execution_count": 37,
   "metadata": {
    "ExecuteTime": {
     "end_time": "2019-12-17T02:52:14.846473Z",
     "start_time": "2019-12-17T02:52:14.816821Z"
    },
    "scrolled": true
   },
   "outputs": [
    {
     "name": "stdout",
     "output_type": "stream",
     "text": [
      "---------3---------\n",
      "predict: C ground_true: C\n",
      "空的前后词 was\n",
      "选项 [['scared'], ['shocked'], ['thrilled'], ['ashamed']]\n",
      "---------4---------\n",
      "predict: C ground_true: C\n",
      "空的前后词 to\n",
      "选项 [['talk'], ['stay'], ['meet'], ['settle']]\n",
      "---------9---------\n",
      "predict: C ground_true: C\n",
      "空的前后词 and\n",
      "选项 [['stared'], ['sank'], ['dived'], ['fell']]\n",
      "---------11---------\n",
      "predict: C ground_true: C\n",
      "空的前后词 helped\n",
      "选项 [['lead'], ['persuade'], ['carry'], ['keep']]\n",
      "---------18---------\n",
      "predict: C ground_true: C\n",
      "空的前后词 <s>\n",
      "选项 [['created'], ['honored'], ['saved'], ['guided']]\n",
      "---------1---------\n",
      "predict: C ground_true: C\n",
      "空的前后词 i\n",
      "选项 [['knew'], ['understood'], ['noticed'], ['recognized']]\n",
      "---------4---------\n",
      "predict: C ground_true: C\n",
      "空的前后词 was\n",
      "选项 [['hoping'], ['thinking'], ['pretending'], ['continuing']]\n",
      "---------10---------\n",
      "predict: C ground_true: C\n",
      "空的前后词 became\n",
      "选项 [['true'], ['hopeful'], ['clear'], ['possible']]\n",
      "---------14---------\n",
      "predict: C ground_true: C\n",
      "空的前后词 he\n",
      "选项 [['met'], ['caught'], ['followed'], ['discovered']]\n",
      "---------20---------\n",
      "predict: C ground_true: C\n",
      "空的前后词 <s>\n",
      "选项 [['thus'], ['however'], ['otherwise'], ['therefore']]\n",
      "---------2---------\n",
      "predict: C ground_true: C\n",
      "空的前后词 to\n",
      "选项 [['waste'], ['earn'], ['save'], ['pay']]\n",
      "---------6---------\n",
      "predict: C ground_true: C\n",
      "空的前后词 game's\n",
      "选项 [['fastest'], ['easiest'], ['best'], ['rarest']]\n",
      "---------9---------\n",
      "predict: C ground_true: C\n",
      "空的前后词 it\n",
      "选项 [['real'], ['perfect'], ['clear'], ['possible']]\n",
      "---------11---------\n",
      "predict: C ground_true: C\n",
      "空的前后词 to\n",
      "选项 [['add'], ['expose'], ['apply'], ['compare']]\n",
      "---------13---------\n",
      "predict: C ground_true: C\n",
      "空的前后词 that\n",
      "选项 [['game'], ['presentation'], ['course'], ['experiment']]\n",
      "accuracy: 0.25\n"
     ]
    }
   ],
   "source": [
    "test(content_list,options_list,answers_list,showAll=False,predict='C')"
   ]
  },
  {
   "cell_type": "code",
   "execution_count": 38,
   "metadata": {
    "ExecuteTime": {
     "end_time": "2019-12-17T02:52:21.288587Z",
     "start_time": "2019-12-17T02:52:21.259033Z"
    },
    "scrolled": true
   },
   "outputs": [
    {
     "name": "stdout",
     "output_type": "stream",
     "text": [
      "---------1---------\n",
      "predict: D ground_true: D\n",
      "空的前后词 i'd\n",
      "选项 [['also'], ['often'], ['even'], ['last']]\n",
      "---------10---------\n",
      "predict: D ground_true: D\n",
      "空的前后词 was\n",
      "选项 [['arguing'], ['fighting'], ['shouting'], ['shaking']]\n",
      "---------13---------\n",
      "predict: D ground_true: D\n",
      "空的前后词 very\n",
      "选项 [['sharp'], ['pleasant'], ['attractive'], ['familiar']]\n",
      "---------14---------\n",
      "predict: D ground_true: D\n",
      "空的前后词 i\n",
      "选项 [['agreed'], ['hesitated'], ['doubted'], ['knew']]\n",
      "---------16---------\n",
      "predict: D ground_true: D\n",
      "空的前后词 to\n",
      "选项 [['return'], ['relax'], ['speak'], ['leave']]\n",
      "---------2---------\n",
      "predict: D ground_true: D\n",
      "空的前后词 <s>\n",
      "选项 [['since'], ['even', 'if'], ['though'], ['as', 'if']]\n",
      "---------6---------\n",
      "predict: D ground_true: D\n",
      "空的前后词 my\n",
      "选项 [['menu'], ['bill'], ['paper'], ['food']]\n",
      "---------11---------\n",
      "predict: D ground_true: D\n",
      "空的前后词 the\n",
      "选项 [['restaurant'], ['washroom'], ['office'], ['kitchen']]\n",
      "---------15---------\n",
      "predict: D ground_true: D\n",
      "空的前后词 he\n",
      "选项 [['was', 'to', 'beat'], ['was', 'dealing', 'with'], ['was', 'to', 'meet'], ['was', 'looking', 'for']]\n",
      "---------19---------\n",
      "predict: D ground_true: D\n",
      "空的前后词 really\n",
      "选项 [['a', 'pity'], ['natural'], ['a', 'chance'], ['lucky']]\n",
      "---------4---------\n",
      "predict: D ground_true: D\n",
      "空的前后词 our\n",
      "选项 [['title'], ['competitor'], ['textbook'], ['instructor']]\n",
      "---------5---------\n",
      "predict: D ground_true: D\n",
      "空的前后词 which\n",
      "选项 [['urged'], ['demanded'], ['held'], ['meant']]\n",
      "---------8---------\n",
      "predict: D ground_true: D\n",
      "空的前后词 this\n",
      "选项 [['chance'], ['qualification'], ['honor'], ['job']]\n",
      "---------16---------\n",
      "predict: D ground_true: D\n",
      "空的前后词 important\n",
      "选项 [['fact'], ['step'], ['manner'], ['skill']]\n",
      "---------19---------\n",
      "predict: D ground_true: D\n",
      "空的前后词 and\n",
      "选项 [['announce'], ['signal'], ['block'], ['evaluate']]\n",
      "accuracy: 0.25\n"
     ]
    }
   ],
   "source": [
    "test(content_list,options_list,answers_list,showAll=False,predict='D')"
   ]
  },
  {
   "cell_type": "markdown",
   "metadata": {
    "ExecuteTime": {
     "end_time": "2019-12-17T02:48:20.529894Z",
     "start_time": "2019-12-17T02:39:27.032Z"
    }
   },
   "source": [
    "<font color=black size=5 face=雅黑>采用bigram模型后，正确率</font>"
   ]
  },
  {
   "cell_type": "code",
   "execution_count": 40,
   "metadata": {
    "ExecuteTime": {
     "end_time": "2019-12-17T02:53:06.884249Z",
     "start_time": "2019-12-17T02:53:06.695485Z"
    },
    "scrolled": true
   },
   "outputs": [
    {
     "name": "stdout",
     "output_type": "stream",
     "text": [
      "---------1---------\n",
      "predict: A ground_true: D\n",
      "空的前后词 i'd\n",
      "选项 [['also'], ['often'], ['even'], ['last']]\n",
      "---------2---------\n",
      "predict: C ground_true: A\n",
      "空的前后词 my\n",
      "选项 [['delight'], ['relief'], ['anger'], ['worry']]\n",
      "---------3---------\n",
      "predict: B ground_true: C\n",
      "空的前后词 was\n",
      "选项 [['scared'], ['shocked'], ['thrilled'], ['ashamed']]\n",
      "---------4---------\n",
      "predict: B ground_true: C\n",
      "空的前后词 to\n",
      "选项 [['talk'], ['stay'], ['meet'], ['settle']]\n",
      "---------5---------\n",
      "predict: D ground_true: A\n",
      "空的前后词 was\n",
      "选项 [['bathed'], ['clean'], ['deep'], ['formed']]\n",
      "---------6---------\n",
      "predict: A ground_true: B\n",
      "空的前后词 little\n",
      "选项 [['faster'], ['closer'], ['heavier'], ['wiser']]\n",
      "---------7---------\n",
      "predict: B ground_true: A\n",
      "空的前后词 in\n",
      "选项 [['trouble'], ['advance'], ['question'], ['battle']]\n",
      "---------8---------\n",
      "predict: B ground_true: B\n",
      "空的前后词 not\n",
      "选项 [['real'], ['right'], ['fair'], ['fit']]\n",
      "---------9---------\n",
      "predict: D ground_true: C\n",
      "空的前后词 and\n",
      "选项 [['stared'], ['sank'], ['dived'], ['fell']]\n",
      "---------10---------\n",
      "predict: D ground_true: D\n",
      "空的前后词 was\n",
      "选项 [['arguing'], ['fighting'], ['shouting'], ['shaking']]\n",
      "---------11---------\n",
      "predict: D ground_true: C\n",
      "空的前后词 helped\n",
      "选项 [['lead'], ['persuade'], ['carry'], ['keep']]\n",
      "---------12---------\n",
      "predict: A ground_true: B\n",
      "空的前后词 something\n",
      "选项 [['happened'], ['occurred'], ['applied'], ['appealed']]\n",
      "---------13---------\n",
      "predict: C ground_true: D\n",
      "空的前后词 very\n",
      "选项 [['sharp'], ['pleasant'], ['attractive'], ['familiar']]\n",
      "---------14---------\n",
      "predict: D ground_true: D\n",
      "空的前后词 i\n",
      "选项 [['agreed'], ['hesitated'], ['doubted'], ['knew']]\n",
      "---------15---------\n",
      "predict: D ground_true: A\n",
      "空的前后词 <s>\n",
      "选项 [['fortunately'], ['frankly'], ['sadly'], ['suddenly']]\n",
      "---------16---------\n",
      "predict: D ground_true: D\n",
      "空的前后词 to\n",
      "选项 [['return'], ['relax'], ['speak'], ['leave']]\n",
      "---------17---------\n",
      "predict: A ground_true: B\n",
      "空的前后词 ben\n",
      "选项 [['joked'], ['turned'], ['listened'], ['pointed']]\n",
      "---------18---------\n",
      "predict: D ground_true: C\n",
      "空的前后词 <s>\n",
      "选项 [['created'], ['honored'], ['saved'], ['guided']]\n",
      "---------19---------\n",
      "predict: B ground_true: A\n",
      "空的前后词 a\n",
      "选项 [['coincidence'], ['change'], ['pity'], ['pain']]\n",
      "---------20---------\n",
      "predict: C ground_true: B\n",
      "空的前后词 there\n",
      "选项 [['on', 'board'], ['in', 'time'], ['for', 'sure'], ['on', 'purpose']]\n",
      "---------1---------\n",
      "predict: A ground_true: C\n",
      "空的前后词 i\n",
      "选项 [['knew'], ['understood'], ['noticed'], ['recognized']]\n",
      "---------2---------\n",
      "predict: D ground_true: D\n",
      "空的前后词 <s>\n",
      "选项 [['since'], ['even', 'if'], ['though'], ['as', 'if']]\n",
      "---------3---------\n",
      "predict: A ground_true: B\n",
      "空的前后词 newspaper\n",
      "选项 [['flat'], ['open'], ['cut'], ['fixed']]\n",
      "---------4---------\n",
      "predict: B ground_true: C\n",
      "空的前后词 was\n",
      "选项 [['hoping'], ['thinking'], ['pretending'], ['continuing']]\n",
      "---------5---------\n",
      "predict: A ground_true: A\n",
      "空的前后词 could\n",
      "选项 [['see'], ['find'], ['guess'], ['learn']]\n",
      "---------6---------\n",
      "predict: C ground_true: D\n",
      "空的前后词 my\n",
      "选项 [['menu'], ['bill'], ['paper'], ['food']]\n",
      "---------7---------\n",
      "predict: C ground_true: B\n",
      "空的前后词 the\n",
      "选项 [['direct'], ['familiar'], ['strange'], ['funny']]\n",
      "---------8---------\n",
      "predict: B ground_true: A\n",
      "空的前后词 i\n",
      "选项 [['chatted', 'with'], ['looked', 'at'], ['laughed', 'at'], ['talked', 'about']]\n",
      "---------9---------\n",
      "predict: A ground_true: B\n",
      "空的前后词 as\n",
      "选项 [['the', 'waiter'], ['time'], ['i'], ['the', 'dinner']]\n",
      "---------10---------\n",
      "predict: C ground_true: C\n",
      "空的前后词 became\n",
      "选项 [['true'], ['hopeful'], ['clear'], ['possible']]\n",
      "---------11---------\n",
      "predict: D ground_true: D\n",
      "空的前后词 the\n",
      "选项 [['restaurant'], ['washroom'], ['office'], ['kitchen']]\n",
      "---------12---------\n",
      "predict: A ground_true: A\n",
      "空的前后词 and\n",
      "选项 [['left'], ['acted'], ['sat', 'down'], ['calmed', 'down']]\n",
      "---------13---------\n",
      "predict: B ground_true: A\n",
      "空的前后词 had\n",
      "选项 [['wanted'], ['tried'], ['ordered'], ['wished']]\n",
      "---------14---------\n",
      "predict: A ground_true: C\n",
      "空的前后词 he\n",
      "选项 [['met'], ['caught'], ['followed'], ['discovered']]\n",
      "---------15---------\n",
      "predict: A ground_true: D\n",
      "空的前后词 he\n",
      "选项 [['was', 'to', 'beat'], ['was', 'dealing', 'with'], ['was', 'to', 'meet'], ['was', 'looking', 'for']]\n",
      "---------16---------\n",
      "predict: B ground_true: B\n",
      "空的前后词 my\n",
      "选项 [['care'], ['surprise'], ['worry'], ['regret']]\n",
      "---------17---------\n",
      "predict: B ground_true: A\n",
      "空的前后词 i\n",
      "选项 [['must'], ['can'], ['need'], ['may']]\n",
      "---------18---------\n",
      "predict: B ground_true: B\n",
      "空的前后词 a\n",
      "选项 [['discovery'], ['mistake'], ['decision'], ['fortune']]\n",
      "---------19---------\n",
      "predict: A ground_true: D\n",
      "空的前后词 really\n",
      "选项 [['a', 'pity'], ['natural'], ['a', 'chance'], ['lucky']]\n",
      "---------20---------\n",
      "predict: B ground_true: C\n",
      "空的前后词 <s>\n",
      "选项 [['thus'], ['however'], ['otherwise'], ['therefore']]\n",
      "---------1---------\n",
      "predict: C ground_true: B\n",
      "空的前后词 i\n",
      "选项 [['put', 'forward'], ['jumped', 'at'], ['tried', 'out'], ['turned', 'down']]\n",
      "---------2---------\n",
      "predict: D ground_true: C\n",
      "空的前后词 to\n",
      "选项 [['waste'], ['earn'], ['save'], ['pay']]\n",
      "---------3---------\n",
      "predict: A ground_true: A\n",
      "空的前后词 weren't\n",
      "选项 [['excited'], ['worried'], ['moved'], ['tired']]\n",
      "---------4---------\n",
      "predict: A ground_true: D\n",
      "空的前后词 our\n",
      "选项 [['title'], ['competitor'], ['textbook'], ['instructor']]\n",
      "---------5---------\n",
      "predict: D ground_true: D\n",
      "空的前后词 which\n",
      "选项 [['urged'], ['demanded'], ['held'], ['meant']]\n",
      "---------6---------\n",
      "predict: A ground_true: C\n",
      "空的前后词 game's\n",
      "选项 [['fastest'], ['easiest'], ['best'], ['rarest']]\n",
      "---------7---------\n",
      "predict: B ground_true: B\n",
      "空的前后词 to\n",
      "选项 [['interview'], ['meet'], ['challenge'], ['beat']]\n",
      "---------8---------\n",
      "predict: D ground_true: D\n",
      "空的前后词 this\n",
      "选项 [['chance'], ['qualification'], ['honor'], ['job']]\n",
      "---------9---------\n",
      "predict: D ground_true: C\n",
      "空的前后词 it\n",
      "选项 [['real'], ['perfect'], ['clear'], ['possible']]\n",
      "---------10---------\n",
      "predict: A ground_true: B\n",
      "空的前后词 to\n",
      "选项 [['attend'], ['pass'], ['skip'], ['observe']]\n",
      "---------11---------\n",
      "predict: A ground_true: C\n",
      "空的前后词 to\n",
      "选项 [['add'], ['expose'], ['apply'], ['compare']]\n",
      "---------12---------\n",
      "predict: A ground_true: A\n",
      "空的前后词 <s>\n",
      "选项 [['eventually'], ['naturally'], ['directly'], ['normally']]\n",
      "---------13---------\n",
      "predict: A ground_true: C\n",
      "空的前后词 that\n",
      "选项 [['game'], ['presentation'], ['course'], ['experiment']]\n",
      "---------14---------\n",
      "predict: B ground_true: B\n",
      "空的前后词 the\n",
      "选项 [['criterion'], ['classroom'], ['department'], ['situation']]\n",
      "---------15---------\n",
      "predict: B ground_true: A\n",
      "空的前后词 he\n",
      "选项 [['taught'], ['wrote'], ['questioned'], ['promised']]\n",
      "---------16---------\n",
      "predict: B ground_true: D\n",
      "空的前后词 important\n",
      "选项 [['fact'], ['step'], ['manner'], ['skill']]\n",
      "---------17---------\n",
      "predict: A ground_true: B\n",
      "空的前后词 good\n",
      "选项 [['grades'], ['decisions'], ['impressions'], ['comments']]\n",
      "---------18---------\n",
      "predict: D ground_true: A\n",
      "空的前后词 to\n",
      "选项 [['analyze'], ['describe'], ['rebuild'], ['control']]\n",
      "---------19---------\n",
      "predict: C ground_true: D\n",
      "空的前后词 and\n",
      "选项 [['announce'], ['signal'], ['block'], ['evaluate']]\n",
      "---------20---------\n",
      "predict: B ground_true: A\n",
      "空的前后词 my\n",
      "选项 [['role'], ['desire'], ['concern'], ['behavior']]\n",
      "accuracy: 0.2833333333333333\n"
     ]
    }
   ],
   "source": [
    "test(content_list,options_list,answers_list,True)"
   ]
  },
  {
   "cell_type": "code",
   "execution_count": 41,
   "metadata": {
    "ExecuteTime": {
     "end_time": "2019-12-17T02:53:11.922581Z",
     "start_time": "2019-12-17T02:53:11.806596Z"
    },
    "scrolled": true
   },
   "outputs": [
    {
     "name": "stdout",
     "output_type": "stream",
     "text": [
      "---------8---------\n",
      "predict: B ground_true: B\n",
      "空的前后词 not\n",
      "选项 [['real'], ['right'], ['fair'], ['fit']]\n",
      "---------10---------\n",
      "predict: D ground_true: D\n",
      "空的前后词 was\n",
      "选项 [['arguing'], ['fighting'], ['shouting'], ['shaking']]\n",
      "---------14---------\n",
      "predict: D ground_true: D\n",
      "空的前后词 i\n",
      "选项 [['agreed'], ['hesitated'], ['doubted'], ['knew']]\n",
      "---------16---------\n",
      "predict: D ground_true: D\n",
      "空的前后词 to\n",
      "选项 [['return'], ['relax'], ['speak'], ['leave']]\n",
      "---------2---------\n",
      "predict: D ground_true: D\n",
      "空的前后词 <s>\n",
      "选项 [['since'], ['even', 'if'], ['though'], ['as', 'if']]\n",
      "---------5---------\n",
      "predict: A ground_true: A\n",
      "空的前后词 could\n",
      "选项 [['see'], ['find'], ['guess'], ['learn']]\n",
      "---------10---------\n",
      "predict: C ground_true: C\n",
      "空的前后词 became\n",
      "选项 [['true'], ['hopeful'], ['clear'], ['possible']]\n",
      "---------11---------\n",
      "predict: D ground_true: D\n",
      "空的前后词 the\n",
      "选项 [['restaurant'], ['washroom'], ['office'], ['kitchen']]\n",
      "---------12---------\n",
      "predict: A ground_true: A\n",
      "空的前后词 and\n",
      "选项 [['left'], ['acted'], ['sat', 'down'], ['calmed', 'down']]\n",
      "---------16---------\n",
      "predict: B ground_true: B\n",
      "空的前后词 my\n",
      "选项 [['care'], ['surprise'], ['worry'], ['regret']]\n",
      "---------18---------\n",
      "predict: B ground_true: B\n",
      "空的前后词 a\n",
      "选项 [['discovery'], ['mistake'], ['decision'], ['fortune']]\n",
      "---------3---------\n",
      "predict: A ground_true: A\n",
      "空的前后词 weren't\n",
      "选项 [['excited'], ['worried'], ['moved'], ['tired']]\n",
      "---------5---------\n",
      "predict: D ground_true: D\n",
      "空的前后词 which\n",
      "选项 [['urged'], ['demanded'], ['held'], ['meant']]\n",
      "---------7---------\n",
      "predict: B ground_true: B\n",
      "空的前后词 to\n",
      "选项 [['interview'], ['meet'], ['challenge'], ['beat']]\n",
      "---------8---------\n",
      "predict: D ground_true: D\n",
      "空的前后词 this\n",
      "选项 [['chance'], ['qualification'], ['honor'], ['job']]\n",
      "---------12---------\n",
      "predict: A ground_true: A\n",
      "空的前后词 <s>\n",
      "选项 [['eventually'], ['naturally'], ['directly'], ['normally']]\n",
      "---------14---------\n",
      "predict: B ground_true: B\n",
      "空的前后词 the\n",
      "选项 [['criterion'], ['classroom'], ['department'], ['situation']]\n",
      "accuracy: 0.2833333333333333\n"
     ]
    }
   ],
   "source": [
    "test(content_list,options_list,answers_list,False)"
   ]
  },
  {
   "cell_type": "markdown",
   "metadata": {
    "ExecuteTime": {
     "end_time": "2019-12-15T05:35:45.947587Z",
     "start_time": "2019-12-15T05:35:45.943222Z"
    }
   },
   "source": [
    "<font color=blue size=15 face=雅黑>trigram Test</font>"
   ]
  },
  {
   "cell_type": "code",
   "execution_count": 26,
   "metadata": {
    "ExecuteTime": {
     "end_time": "2019-12-17T03:05:06.596359Z",
     "start_time": "2019-12-17T03:04:53.479945Z"
    },
    "collapsed": true
   },
   "outputs": [],
   "source": [
    "N = 3\n",
    "pre_words_dict,be_words_dict = word_dict(lines,N)\n",
    "be_words = list(be_words_dict.keys())"
   ]
  },
  {
   "cell_type": "code",
   "execution_count": 27,
   "metadata": {
    "ExecuteTime": {
     "end_time": "2019-12-17T03:05:06.602377Z",
     "start_time": "2019-12-17T03:05:06.598469Z"
    }
   },
   "outputs": [
    {
     "name": "stdout",
     "output_type": "stream",
     "text": [
      "未处理过得pre_words length: 1467004\n"
     ]
    }
   ],
   "source": [
    "print('未处理过得pre_words length:',len(pre_words_dict.keys()))"
   ]
  },
  {
   "cell_type": "code",
   "execution_count": 28,
   "metadata": {
    "ExecuteTime": {
     "end_time": "2019-12-17T03:05:06.902691Z",
     "start_time": "2019-12-17T03:05:06.604169Z"
    },
    "collapsed": true
   },
   "outputs": [],
   "source": [
    "#对pre_words做特殊处理，因为3-gram时，pre_words过大\n",
    "pre_words = []\n",
    "for key, value in pre_words_dict.items():\n",
    "    if value > 4:\n",
    "        pre_words.append(key)"
   ]
  },
  {
   "cell_type": "code",
   "execution_count": 29,
   "metadata": {
    "ExecuteTime": {
     "end_time": "2019-12-17T03:05:06.908697Z",
     "start_time": "2019-12-17T03:05:06.904894Z"
    }
   },
   "outputs": [
    {
     "name": "stdout",
     "output_type": "stream",
     "text": [
      "处理过得pre_words length: 167397\n"
     ]
    }
   ],
   "source": [
    "print('处理过得pre_words length:',len(pre_words))"
   ]
  },
  {
   "cell_type": "code",
   "execution_count": 30,
   "metadata": {
    "ExecuteTime": {
     "end_time": "2019-12-17T03:05:07.012269Z",
     "start_time": "2019-12-17T03:05:06.910473Z"
    },
    "scrolled": true
   },
   "outputs": [
    {
     "name": "stdout",
     "output_type": "stream",
     "text": [
      "(167397, 146579)\n"
     ]
    }
   ],
   "source": [
    "m = len(pre_words)\n",
    "n = len(be_words)\n",
    "words_matrix = np.zeros((m,n),dtype=np.int32) \n",
    "print(words_matrix.shape)"
   ]
  },
  {
   "cell_type": "markdown",
   "metadata": {},
   "source": [
    "处理过的pre_words大小缩小了将近10倍，但是也带来一个问题，就是一些词的组合可能查找不到了"
   ]
  },
  {
   "cell_type": "code",
   "execution_count": null,
   "metadata": {
    "ExecuteTime": {
     "start_time": "2019-12-17T03:05:00.381Z"
    }
   },
   "outputs": [
    {
     "name": "stderr",
     "output_type": "stream",
     "text": [
      "  5%|▍         | 22880/499388 [15:21<4:43:01, 28.06it/s] "
     ]
    }
   ],
   "source": [
    "words_matrix = get_words_matrix(pre_words,be_words,lines,N)"
   ]
  },
  {
   "cell_type": "code",
   "execution_count": null,
   "metadata": {
    "ExecuteTime": {
     "end_time": "2019-12-15T21:13:58.326587Z",
     "start_time": "2019-12-15T13:35:24.658Z"
    },
    "collapsed": true
   },
   "outputs": [],
   "source": [
    "content_list,options_list,answers_list = read_train_data(N)"
   ]
  },
  {
   "cell_type": "code",
   "execution_count": null,
   "metadata": {
    "ExecuteTime": {
     "end_time": "2019-12-15T21:13:58.327875Z",
     "start_time": "2019-12-15T13:35:24.905Z"
    },
    "collapsed": true
   },
   "outputs": [],
   "source": [
    "test(content_list,options_list,answers_list,True)"
   ]
  },
  {
   "cell_type": "code",
   "execution_count": null,
   "metadata": {
    "ExecuteTime": {
     "end_time": "2019-12-15T21:13:58.329051Z",
     "start_time": "2019-12-15T13:35:25.577Z"
    },
    "collapsed": true
   },
   "outputs": [],
   "source": [
    "test(content_list,options_list,answers_list,False)"
   ]
  },
  {
   "cell_type": "code",
   "execution_count": null,
   "metadata": {
    "collapsed": true
   },
   "outputs": [],
   "source": []
  }
 ],
 "metadata": {
  "kernelspec": {
   "display_name": "Python 3",
   "language": "python",
   "name": "python3"
  },
  "language_info": {
   "codemirror_mode": {
    "name": "ipython",
    "version": 3
   },
   "file_extension": ".py",
   "mimetype": "text/x-python",
   "name": "python",
   "nbconvert_exporter": "python",
   "pygments_lexer": "ipython3",
   "version": "3.6.2"
  }
 },
 "nbformat": 4,
 "nbformat_minor": 2
}
