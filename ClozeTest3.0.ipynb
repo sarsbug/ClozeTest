{
 "cells": [
  {
   "cell_type": "code",
   "execution_count": 19,
   "metadata": {
    "ExecuteTime": {
     "end_time": "2019-12-22T10:57:19.107978Z",
     "start_time": "2019-12-22T10:57:19.082579Z"
    },
    "collapsed": true
   },
   "outputs": [],
   "source": [
    "import torch\n",
    "import torch.autograd as autograd\n",
    "import torch.nn as nn\n",
    "import torch.nn.functional as F\n",
    "import torch.optim as optim\n",
    "import glob \n",
    "import json\n",
    "import re\n",
    "import string\n",
    "import operator\n",
    "import collections\n",
    "import numpy as np\n",
    "import string\n",
    "import math\n",
    "from tqdm import tqdm\n",
    "from array import array\n",
    "import pandas as pd\n",
    "import nltk\n",
    "import nltk.data\n",
    "from nltk.corpus import treebank\n",
    "from textblob import TextBlob\n",
    "from nltk import Tree\n",
    "from nltk.chunk.regexp import *"
   ]
  },
  {
   "cell_type": "code",
   "execution_count": 20,
   "metadata": {
    "ExecuteTime": {
     "end_time": "2019-12-22T10:57:19.266763Z",
     "start_time": "2019-12-22T10:57:19.110025Z"
    },
    "collapsed": true
   },
   "outputs": [],
   "source": [
    "def splitSentence(paragraph):\n",
    "    tokenizer = nltk.data.load('tokenizers/punkt/english.pickle')\n",
    "    sentences = tokenizer.tokenize(paragraph)\n",
    "    return sentences"
   ]
  },
  {
   "cell_type": "code",
   "execution_count": 21,
   "metadata": {
    "ExecuteTime": {
     "end_time": "2019-12-22T10:57:19.388222Z",
     "start_time": "2019-12-22T10:57:19.270381Z"
    },
    "collapsed": true
   },
   "outputs": [],
   "source": [
    "NONE_STR = '<s>'"
   ]
  },
  {
   "cell_type": "code",
   "execution_count": 22,
   "metadata": {
    "ExecuteTime": {
     "end_time": "2019-12-22T10:57:19.499826Z",
     "start_time": "2019-12-22T10:57:19.391692Z"
    },
    "collapsed": true
   },
   "outputs": [],
   "source": [
    "def delete_other_letter(line):\n",
    "    punctuation =\"\"\"!\"#$%&\\()*+,./:;<=>?@[\\\\]^_`{|}~\\\\n\"\"\"\n",
    "    re_punctuation =\"[{}]+\".format(punctuation)\n",
    "    line =re.sub(re_punctuation, \"\", line)\n",
    "    return line.lower()"
   ]
  },
  {
   "cell_type": "code",
   "execution_count": 23,
   "metadata": {
    "ExecuteTime": {
     "end_time": "2019-12-22T10:57:19.631844Z",
     "start_time": "2019-12-22T10:57:19.502186Z"
    },
    "collapsed": true
   },
   "outputs": [],
   "source": [
    "def read_articles(paths):\n",
    "    alllines = []\n",
    "    for path in paths:\n",
    "        filenames = glob.glob(path+\"/*txt\")\n",
    "        for filename in filenames:\n",
    "            with open(filename, 'r', encoding='utf-8') as fpr:\n",
    "                data_raw = json.load(fpr)\n",
    "                article = data_raw['article']\n",
    "                \n",
    "#                 lines = article.split('.')\n",
    "                lines = splitSentence(article)\n",
    "                for line in lines:\n",
    "                    line = delete_other_letter(line)\n",
    "                    alllines.append(line)\n",
    "                \n",
    "    return alllines"
   ]
  },
  {
   "cell_type": "code",
   "execution_count": 24,
   "metadata": {
    "ExecuteTime": {
     "end_time": "2019-12-22T10:57:51.880479Z",
     "start_time": "2019-12-22T10:57:19.634174Z"
    },
    "collapsed": true
   },
   "outputs": [],
   "source": [
    "lines = read_articles(['./RACE/train/high','./RACE/train/middle'])"
   ]
  },
  {
   "cell_type": "code",
   "execution_count": 25,
   "metadata": {
    "ExecuteTime": {
     "end_time": "2019-12-22T10:57:51.887419Z",
     "start_time": "2019-12-22T10:57:51.883171Z"
    },
    "scrolled": true
   },
   "outputs": [
    {
     "name": "stdout",
     "output_type": "stream",
     "text": [
      "443717\n"
     ]
    }
   ],
   "source": [
    "print(len(lines))"
   ]
  },
  {
   "cell_type": "code",
   "execution_count": 26,
   "metadata": {
    "ExecuteTime": {
     "end_time": "2019-12-22T10:57:52.078956Z",
     "start_time": "2019-12-22T10:57:51.889611Z"
    },
    "collapsed": true
   },
   "outputs": [],
   "source": [
    "def word_dict(lines,n):\n",
    "                \n",
    "    pre_words = collections.defaultdict(int)\n",
    "    be_words = collections.defaultdict(int)\n",
    "    n = n-1\n",
    "    for line in lines:\n",
    "        for k in range(n):\n",
    "            line = NONE_STR+' '+line+' '+NONE_STR\n",
    "        line_words = line.split()\n",
    "        for i in range(len(line_words)-(n-1)):\n",
    "            ngramTemp = ' '.join(line_words[i:i+n])\n",
    "\n",
    "            pre_words[ngramTemp] += 1\n",
    "            be_words[line_words[i]] += 1\n",
    "            \n",
    "    return pre_words,be_words"
   ]
  },
  {
   "cell_type": "code",
   "execution_count": 27,
   "metadata": {
    "ExecuteTime": {
     "end_time": "2019-12-22T10:57:52.259873Z",
     "start_time": "2019-12-22T10:57:52.081311Z"
    },
    "collapsed": true
   },
   "outputs": [],
   "source": [
    "def replace_punctuation(word):\n",
    "    for puc in punctuation_list:\n",
    "        word = word.replace(puc,'')\n",
    "    return word"
   ]
  },
  {
   "cell_type": "code",
   "execution_count": 28,
   "metadata": {
    "ExecuteTime": {
     "end_time": "2019-12-22T10:57:52.583447Z",
     "start_time": "2019-12-22T10:57:52.263123Z"
    },
    "collapsed": true
   },
   "outputs": [],
   "source": [
    "def replace_Chinese_punctuation(content):\n",
    "    content = content.replace('’','\\'')\n",
    "    content = content.replace('”','\"')\n",
    "    content = content.replace('“','\"')\n",
    "    return content"
   ]
  },
  {
   "cell_type": "code",
   "execution_count": 29,
   "metadata": {
    "ExecuteTime": {
     "end_time": "2019-12-22T10:57:52.976377Z",
     "start_time": "2019-12-22T10:57:52.586761Z"
    },
    "collapsed": true
   },
   "outputs": [],
   "source": [
    "def get_options(options_str):\n",
    "    options_str = replace_Chinese_punctuation(options_str)\n",
    "    options = []\n",
    "    opt_rows = options_str.split('#')\n",
    "    for opt in opt_rows:\n",
    "        indexA = opt.find('A.')\n",
    "        indexB = opt.find('B.')\n",
    "        indexC = opt.find('C.')\n",
    "        indexD = opt.find('D.')\n",
    "        As = opt[indexA+2:indexB].strip().lower().split(' ')\n",
    "        Bs = opt[indexB+2:indexC].strip().lower().split(' ')\n",
    "        Cs = opt[indexC+2:indexD].strip().lower().split(' ')\n",
    "        Ds = opt[indexD+2:].strip().lower().split(' ')\n",
    "        options.append([As,Bs,Cs,Ds])\n",
    "    return options"
   ]
  },
  {
   "cell_type": "code",
   "execution_count": 30,
   "metadata": {
    "ExecuteTime": {
     "end_time": "2019-12-22T10:57:53.107689Z",
     "start_time": "2019-12-22T10:57:52.978605Z"
    },
    "collapsed": true
   },
   "outputs": [],
   "source": [
    "def read_train_data(ngram=3):\n",
    "    path = './data'\n",
    "    filenames = glob.glob(path+\"/*txt\")\n",
    "    \n",
    "    answers_list =[]\n",
    "    options_list = []\n",
    "    content_list = [] #问题空的前后缀\n",
    "    sentence_list = [] #问题所在句子\n",
    "    for filename in filenames:\n",
    "        with open(filename, 'r', encoding='utf-8') as fpr:\n",
    "            data_raw = json.load(fpr)\n",
    "            article = data_raw['article']\n",
    "            content = get_pre_and_be_words(article,ngram)\n",
    "            sentence = get_question_sentences(article)\n",
    "            options_str = data_raw['options']\n",
    "            options = get_options(options_str)\n",
    "            answers = list(data_raw['answers'])\n",
    "            answers_list.append(answers)\n",
    "            options_list.append(options)\n",
    "            content_list.append(content)\n",
    "            sentence_list.append(sentence)\n",
    "    return content_list,sentence_list,options_list,answers_list"
   ]
  },
  {
   "cell_type": "code",
   "execution_count": 31,
   "metadata": {
    "ExecuteTime": {
     "end_time": "2019-12-22T10:57:53.237425Z",
     "start_time": "2019-12-22T10:57:53.110731Z"
    },
    "collapsed": true
   },
   "outputs": [],
   "source": [
    "def is_options_are_the_same_tag(options):\n",
    "    tag = ''\n",
    "    for opt in options:\n",
    "        sen_pos = nltk.pos_tag(nltk.word_tokenize(opt[0]))\n",
    "        opt_tag = sen_pos[0][1]\n",
    "        if tag == '':\n",
    "            tag = opt_tag\n",
    "        elif tag != opt_tag:\n",
    "            return False\n",
    "    return True"
   ]
  },
  {
   "cell_type": "code",
   "execution_count": 32,
   "metadata": {
    "ExecuteTime": {
     "end_time": "2019-12-22T10:57:53.400084Z",
     "start_time": "2019-12-22T10:57:53.240772Z"
    },
    "collapsed": true
   },
   "outputs": [],
   "source": [
    "def get_pre_and_be_words(article,ngram):\n",
    "    article = replace_Chinese_punctuation(article)\n",
    "    art_words = article.split()\n",
    "    n = len(art_words)\n",
    "    index = 1\n",
    "    content = []\n",
    "    for i in range(n):\n",
    "        word = art_words[i]\n",
    "        if str(index) == word:\n",
    "            pre_word_list = []\n",
    "            be_word_list = []\n",
    "            if i < ngram-1:\n",
    "                for k in range(ngram-1-i):\n",
    "                    pre_word_list.append(NONE_STR)\n",
    "            else:\n",
    "                pre_word_list = art_words[i-1-(ngram-2):i]\n",
    "            pre_word_list = check_punctuation_and_replace_with_none(pre_word_list,True)\n",
    "\n",
    "            if i > n-ngram:\n",
    "                for k in range(ngram-1-(n-ngram)):\n",
    "                    be_word_list.append(NONE_STR)\n",
    "            else:\n",
    "                be_word_list = art_words[i+1:i+1+ngram-1]\n",
    "            be_word_list = check_punctuation_and_replace_with_none(be_word_list,False)\n",
    "            \n",
    "            content.append([pre_word_list,be_word_list])\n",
    "            index += 1\n",
    "    return content"
   ]
  },
  {
   "cell_type": "markdown",
   "metadata": {},
   "source": [
    "自动做出选择的代码，逻辑如下\n",
    "\n",
    "\n",
    "1.先判断4个选项的词性，相同则转2，不同则转3\n",
    "\n",
    "2.如果能找到有效分块则采用模型2.0\n",
    "\n",
    "3.如果不能则采用trigram模型2.0"
   ]
  },
  {
   "cell_type": "code",
   "execution_count": 61,
   "metadata": {
    "ExecuteTime": {
     "end_time": "2019-12-22T11:02:13.334111Z",
     "start_time": "2019-12-22T11:02:12.967313Z"
    },
    "collapsed": true
   },
   "outputs": [],
   "source": [
    "def get_probability_of_block(block,option,opt_pos):\n",
    "        \n",
    "    if block is None:\n",
    "        return 0\n",
    "    \n",
    "    n = len(option)\n",
    "    for i in range(n):\n",
    "        if i == 0:\n",
    "            block[opt_pos]=option[i]\n",
    "            continue\n",
    "        block.insert(opt_pos+i,option[i])\n",
    "    \n",
    "    ngram = len(block)\n",
    "    if ngram > 6:\n",
    "        return 0\n",
    "    \n",
    "    pre_word = ' '.join(block[0:ngram-1])\n",
    "    prob = math.log(probability(pre_word,block[ngram-1],ngram))\n",
    "    return prob"
   ]
  },
  {
   "cell_type": "code",
   "execution_count": 112,
   "metadata": {
    "ExecuteTime": {
     "end_time": "2019-12-24T01:43:57.038150Z",
     "start_time": "2019-12-24T01:43:56.968887Z"
    },
    "collapsed": true
   },
   "outputs": [],
   "source": [
    "def auto_select_model(question,options,ngram=3,block=None,opt_pos=-1,lambd=0):\n",
    "    index = 0\n",
    "    maxprob = -10000000000\n",
    "    n = len(options)\n",
    "    for i in range(n):\n",
    "        \n",
    "        option = options[i]\n",
    "        block_prob = get_probability_of_block(block,option,opt_pos)\n",
    "        \n",
    "        word_list = []\n",
    "        word_list = question[0].copy()\n",
    "        word_list.append(options[i][0])\n",
    "        word_list.extend(question[1])\n",
    "        wln = len(word_list)\n",
    "        prob = 0\n",
    "        ngram = 3\n",
    "        for k in range(wln-ngram+1):\n",
    "            pre_word = ' '.join(word_list[k:k+ngram-1])\n",
    "            prob += math.log(probability(pre_word,word_list[k+ngram-1],3))\n",
    "        \n",
    "        model_version = 2\n",
    "#         print('block_prob:',block_prob)\n",
    "#         print('prob:',prob)\n",
    "        if block_prob != 0 and lambd != 0:\n",
    "            prob = block_prob*lambd+prob\n",
    "            model_version = 3\n",
    "#         print('-------total prob:',prob)\n",
    "        if prob > maxprob:\n",
    "            maxprob = prob\n",
    "            index = i\n",
    "    return chr(ord('A')+index),model_version"
   ]
  },
  {
   "cell_type": "code",
   "execution_count": 119,
   "metadata": {
    "ExecuteTime": {
     "end_time": "2019-12-24T01:44:35.204910Z",
     "start_time": "2019-12-24T01:44:35.183878Z"
    },
    "collapsed": true
   },
   "outputs": [],
   "source": [
    "def auto_select(question,sentence,options,index):\n",
    "    #对于模型2.0 ngram默认用3\n",
    "    ngram = 3\n",
    "    flag = is_options_are_the_same_tag(options)    \n",
    "    if flag:\n",
    "        block,opt_pos = get_sentence_option_block(sentence,index,options)\n",
    "#         print(block,opt_pos)\n",
    "        if block != None:\n",
    "            ngram = len(block)\n",
    "            answer,model_version = auto_select_model(question,options,ngram=ngram,block=block,\n",
    "                                                     opt_pos=opt_pos,lambd=2)\n",
    "            return answer,model_version\n",
    "    ngram = 3\n",
    "    answer,model_version = auto_select_model(question,options,ngram)\n",
    "\n",
    "    return answer,model_version"
   ]
  },
  {
   "cell_type": "code",
   "execution_count": 120,
   "metadata": {
    "ExecuteTime": {
     "end_time": "2019-12-24T01:44:35.847430Z",
     "start_time": "2019-12-24T01:44:35.472852Z"
    }
   },
   "outputs": [
    {
     "name": "stdout",
     "output_type": "stream",
     "text": [
      "---------1---------\n",
      "$$$ 预测模型: 2  $$$\n",
      "问题: He'd moved to England with his mum when he was three and it had been 13 years since I'd  1  seen him.\n",
      "选项: [['also'], ['often'], ['even'], ['last']]\n",
      "predict: A ground truth: D\n",
      "\n",
      "空前后的词 [['since', \"i'd\"], ['seen', 'him']]\n",
      "---------2---------\n",
      "$$$ 预测模型: 3  $$$\n",
      "问题: So imagine my  2   when he emailed me saying he wanted to come to visit me.\n",
      "选项: [['delight'], ['relief'], ['anger'], ['worry']]\n",
      "predict: A ground truth: A\n",
      "\n",
      "空前后的词 [['imagine', 'my'], ['when', 'he']]\n",
      "---------3---------\n",
      "$$$ 预测模型: 3  $$$\n",
      "问题: I was   3  !\n",
      "选项: [['scared'], ['shocked'], ['thrilled'], ['ashamed']]\n",
      "predict: B ground truth: C\n",
      "\n",
      "空前后的词 [['i', 'was'], ['<s>', '<s>']]\n",
      "---------4---------\n",
      "$$$ 预测模型: 2  $$$\n",
      "问题: I arrived early at Byron Bay where we were supposed to   4  .\n",
      "选项: [['talk'], ['stay'], ['meet'], ['settle']]\n",
      "predict: C ground truth: C\n",
      "\n",
      "空前后的词 [['supposed', 'to'], ['<s>', '<s>']]\n",
      "---------5---------\n",
      "$$$ 预测模型: 2  $$$\n",
      "问题: The bay was  5   in sunshine, and there was a group of kayakers around 150m off the shore.\n",
      "选项: [['bathed'], ['clean'], ['deep'], ['formed']]\n",
      "predict: A ground truth: A\n",
      "\n",
      "空前后的词 [['bay', 'was'], ['in', 'sunshine']]\n",
      "---------6---------\n",
      "$$$ 预测模型: 3  $$$\n",
      "问题: Getting a little   6  , I realized one kayak  was in  7  .\n",
      "选项: [['faster'], ['closer'], ['heavier'], ['wiser']]\n",
      "predict: C ground truth: B\n",
      "\n",
      "空前后的词 [['a', 'little'], ['<s>', '<s>']]\n",
      "---------7---------\n",
      "$$$ 预测模型: 3  $$$\n",
      "问题: Getting a little   6  , I realized one kayak  was in  7  .\n",
      "选项: [['trouble'], ['advance'], ['question'], ['battle']]\n",
      "predict: A ground truth: A\n",
      "\n",
      "空前后的词 [['was', 'in'], ['<s>', '<s>']]\n",
      "---------8---------\n",
      "$$$ 预测模型: 2  $$$\n",
      "问题: \"Something's not   8  !\"\n",
      "选项: [['real'], ['right'], ['fair'], ['fit']]\n",
      "predict: C ground truth: B\n",
      "\n",
      "空前后的词 [[\"something's\", 'not'], ['<s>', '<s>']]\n",
      "---------9---------\n",
      "$$$ 预测模型: 2  $$$\n",
      "问题: I took off my T-shirt and  9   into the water.\n",
      "选项: [['stared'], ['sank'], ['dived'], ['fell']]\n",
      "predict: C ground truth: C\n",
      "\n",
      "空前后的词 [['t-shirt', 'and'], ['into', 'the']]\n",
      "---------10---------\n",
      "$$$ 预测模型: 3  $$$\n",
      "问题: He was  10   violently.\n",
      "选项: [['arguing'], ['fighting'], ['shouting'], ['shaking']]\n",
      "predict: D ground truth: D\n",
      "\n",
      "空前后的词 [['he', 'was'], ['violently', '<s>']]\n",
      "---------11---------\n",
      "$$$ 预测模型: 2  $$$\n",
      "问题: Linking arms with one of the instructors， I helped  11   the young man out of the water.\n",
      "选项: [['lead'], ['persuade'], ['carry'], ['keep']]\n",
      "predict: D ground truth: C\n",
      "\n",
      "空前后的词 [['i', 'helped'], ['the', 'young']]\n",
      "---------12---------\n",
      "$$$ 预测模型: 2  $$$\n",
      "问题: He was unconscious and as I looked at his face, something  12   to me.\n",
      "选项: [['happened'], ['occurred'], ['applied'], ['appealed']]\n",
      "predict: B ground truth: B\n",
      "\n",
      "空前后的词 [['<s>', 'something'], ['to', 'me']]\n",
      "---------13---------\n",
      "$$$ 预测模型: 2  $$$\n",
      "问题: Those brown eyes were very   13  .\n",
      "选项: [['sharp'], ['pleasant'], ['attractive'], ['familiar']]\n",
      "predict: D ground truth: D\n",
      "\n",
      "空前后的词 [['were', 'very'], ['<s>', '<s>']]\n",
      "---------14---------\n",
      "$$$ 预测模型: 2  $$$\n",
      "问题: \"Ben,\" he replied, and immediately I  14  .\n",
      "选项: [['agreed'], ['hesitated'], ['doubted'], ['knew']]\n",
      "predict: B ground truth: D\n",
      "\n",
      "空前后的词 [['immediately', 'i'], ['<s>', '<s>']]\n",
      "---------15---------\n",
      "$$$ 预测模型: 2  $$$\n",
      "问题: 15 , after a brief stay in hospital, Ben was well enough to be allowed to  16   and later the family met up for dinner.\n",
      "选项: [['fortunately'], ['frankly'], ['sadly'], ['suddenly']]\n",
      "predict: D ground truth: A\n",
      "\n",
      "空前后的词 [['<s>', '<s>'], ['<s>', '<s>']]\n",
      "---------16---------\n",
      "$$$ 预测模型: 2  $$$\n",
      "问题: 15 , after a brief stay in hospital, Ben was well enough to be allowed to  16   and later the family met up for dinner.\n",
      "选项: [['return'], ['relax'], ['speak'], ['leave']]\n",
      "predict: D ground truth: D\n",
      "\n",
      "空前后的词 [['allowed', 'to'], ['and', 'later']]\n",
      "---------17---------\n",
      "$$$ 预测模型: 2  $$$\n",
      "问题: We chatted about everything and then Ben  17   to me.\n",
      "选项: [['joked'], ['turned'], ['listened'], ['pointed']]\n",
      "predict: B ground truth: B\n",
      "\n",
      "空前后的词 [['then', 'ben'], ['to', 'me']]\n",
      "---------18---------\n",
      "$$$ 预测模型: 2  $$$\n",
      "问题: \"You  18   my life!\"\n",
      "选项: [['created'], ['honored'], ['saved'], ['guided']]\n",
      "predict: C ground truth: C\n",
      "\n",
      "空前后的词 [['<s>', 'you'], ['my', 'life']]\n",
      "---------19---------\n",
      "$$$ 预测模型: 3  $$$\n",
      "问题: I still can't believe what a  19   it was.\n",
      "选项: [['coincidence'], ['change'], ['pity'], ['pain']]\n",
      "predict: C ground truth: A\n",
      "\n",
      "空前后的词 [['what', 'a'], ['it', 'was']]\n",
      "---------20---------\n",
      "$$$ 预测模型: 2  $$$\n",
      "问题: I'm just so glad I was there  20   to help my son.\n",
      "选项: [['on', 'board'], ['in', 'time'], ['for', 'sure'], ['on', 'purpose']]\n",
      "predict: D ground truth: B\n",
      "\n",
      "空前后的词 [['was', 'there'], ['to', 'help']]\n",
      "---------1---------\n",
      "$$$ 预测模型: 2  $$$\n",
      "问题: Suddenly I 1 that a man sitting at a table near the window kept glancing in my direction, 2 he knew me.\n",
      "选项: [['knew'], ['understood'], ['noticed'], ['recognized']]\n",
      "predict: B ground truth: C\n",
      "\n",
      "空前后的词 [['suddenly', 'i'], ['that', 'a']]\n",
      "---------2---------\n",
      "$$$ 预测模型: 2  $$$\n",
      "问题: Suddenly I 1 that a man sitting at a table near the window kept glancing in my direction, 2 he knew me.\n",
      "选项: [['since'], ['even', 'if'], ['though'], ['as', 'if']]\n",
      "predict: D ground truth: D\n",
      "\n",
      "空前后的词 [['<s>', '<s>'], ['he', 'knew']]\n",
      "---------3---------\n",
      "$$$ 预测模型: 2  $$$\n",
      "问题: The man had a newspaper 3 in front of him, which he was 4 to read, but I could 5 that he was keeping an eye on me.\n",
      "选项: [['flat'], ['open'], ['cut'], ['fixed']]\n",
      "predict: A ground truth: B\n",
      "\n",
      "空前后的词 [['a', 'newspaper'], ['in', 'front']]\n",
      "---------4---------\n",
      "$$$ 预测模型: 2  $$$\n",
      "问题: The man had a newspaper 3 in front of him, which he was 4 to read, but I could 5 that he was keeping an eye on me.\n",
      "选项: [['hoping'], ['thinking'], ['pretending'], ['continuing']]\n",
      "predict: C ground truth: C\n",
      "\n",
      "空前后的词 [['he', 'was'], ['to', 'read']]\n",
      "---------5---------\n",
      "$$$ 预测模型: 2  $$$\n",
      "问题: The man had a newspaper 3 in front of him, which he was 4 to read, but I could 5 that he was keeping an eye on me.\n",
      "选项: [['see'], ['find'], ['guess'], ['learn']]\n",
      "predict: A ground truth: A\n",
      "\n",
      "空前后的词 [['i', 'could'], ['that', 'he']]\n",
      "---------6---------\n",
      "$$$ 预测模型: 2  $$$\n",
      "问题: When the waiter brought my 6 the man was clearly puzzled by the 7 way in which the waiter and I 8 each other.\n",
      "选项: [['menu'], ['bill'], ['paper'], ['food']]\n",
      "predict: B ground truth: D\n",
      "\n",
      "空前后的词 [['brought', 'my'], ['the', 'man']]\n",
      "---------7---------\n",
      "$$$ 预测模型: 2  $$$\n",
      "问题: When the waiter brought my 6 the man was clearly puzzled by the 7 way in which the waiter and I 8 each other.\n",
      "选项: [['direct'], ['familiar'], ['strange'], ['funny']]\n",
      "predict: C ground truth: B\n",
      "\n",
      "空前后的词 [['by', 'the'], ['way', 'in']]\n",
      "---------8---------\n",
      "$$$ 预测模型: 2  $$$\n",
      "问题: When the waiter brought my 6 the man was clearly puzzled by the 7 way in which the waiter and I 8 each other.\n",
      "选项: [['chatted', 'with'], ['looked', 'at'], ['laughed', 'at'], ['talked', 'about']]\n",
      "predict: B ground truth: A\n",
      "\n",
      "空前后的词 [['and', 'i'], ['each', 'other']]\n",
      "---------9---------\n",
      "$$$ 预测模型: 2  $$$\n",
      "问题: He seemed even more puzzled as 9 went on and it became 10 that all the waiters in the restaurant knew me.\n",
      "选项: [['the', 'waiter'], ['time'], ['i'], ['the', 'dinner']]\n",
      "predict: B ground truth: B\n",
      "\n",
      "空前后的词 [['puzzled', 'as'], ['went', 'on']]\n",
      "---------10---------\n",
      "$$$ 预测模型: 2  $$$\n",
      "问题: He seemed even more puzzled as 9 went on and it became 10 that all the waiters in the restaurant knew me.\n",
      "选项: [['true'], ['hopeful'], ['clear'], ['possible']]\n",
      "predict: C ground truth: C\n",
      "\n",
      "空前后的词 [['it', 'became'], ['that', 'all']]\n",
      "---------11---------\n",
      "$$$ 预测模型: 2  $$$\n",
      "问题: Finally he got up and went into the 11 .\n",
      "选项: [['restaurant'], ['washroom'], ['office'], ['kitchen']]\n",
      "predict: D ground truth: D\n",
      "\n",
      "空前后的词 [['into', 'the'], ['<s>', '<s>']]\n",
      "---------12---------\n",
      "$$$ 预测模型: 2  $$$\n",
      "问题: When he came out, he paid his bill and 12 without another glance in my direction.I called the owner of the restaurant and asked what the man had 13 .\n",
      "选项: [['left'], ['acted'], ['sat', 'down'], ['calmed', 'down']]\n",
      "predict: A ground truth: A\n",
      "\n",
      "空前后的词 [['bill', 'and'], ['without', 'another']]\n",
      "---------13---------\n",
      "$$$ 预测模型: 2  $$$\n",
      "问题: When he came out, he paid his bill and 12 without another glance in my direction.I called the owner of the restaurant and asked what the man had 13 .\n",
      "选项: [['wanted'], ['tried'], ['ordered'], ['wished']]\n",
      "predict: A ground truth: A\n",
      "\n",
      "空前后的词 [['man', 'had'], ['<s>', '<s>']]\n",
      "---------14---------\n",
      "$$$ 预测模型: 2  $$$\n",
      "问题: He 14 you here because he thought you were the man he 15 .\"\n",
      "选项: [['met'], ['caught'], ['followed'], ['discovered']]\n",
      "predict: D ground truth: C\n",
      "\n",
      "空前后的词 [['<s>', 'he'], ['you', 'here']]\n",
      "---------15---------\n",
      "$$$ 预测模型: 2  $$$\n",
      "问题: He 14 you here because he thought you were the man he 15 .\"\n",
      "选项: [['was', 'to', 'beat'], ['was', 'dealing', 'with'], ['was', 'to', 'meet'], ['was', 'looking', 'for']]\n",
      "predict: C ground truth: D\n",
      "\n",
      "空前后的词 [['man', 'he'], ['<s>', '<s>']]\n",
      "---------16---------\n",
      "$$$ 预测模型: 2  $$$\n",
      "问题: I said, showing my 16 .\n",
      "选项: [['care'], ['surprise'], ['worry'], ['regret']]\n",
      "predict: A ground truth: B\n",
      "\n",
      "空前后的词 [['showing', 'my'], ['<s>', '<s>']]\n",
      "---------17---------\n",
      "$$$ 预测模型: 2  $$$\n",
      "问题: I 17 say he looked very much like you!\n",
      "选项: [['must'], ['can'], ['need'], ['may']]\n",
      "predict: B ground truth: A\n",
      "\n",
      "空前后的词 [['<s>', 'i'], ['say', 'he']]\n",
      "---------18---------\n",
      "$$$ 预测模型: 2  $$$\n",
      "问题: Of course, since we know you, we told him that he had made a 18 .\"\n",
      "选项: [['discovery'], ['mistake'], ['decision'], ['fortune']]\n",
      "predict: B ground truth: B\n",
      "\n",
      "空前后的词 [['made', 'a'], ['<s>', '<s>']]\n",
      "---------19---------\n",
      "$$$ 预测模型: 2  $$$\n",
      "问题: \"Well, it's really 19 I came to a restaurant where I'm known, \" I said.\"\n",
      "选项: [['a', 'pity'], ['natural'], ['a', 'chance'], ['lucky']]\n",
      "predict: A ground truth: D\n",
      "\n"
     ]
    },
    {
     "name": "stdout",
     "output_type": "stream",
     "text": [
      "空前后的词 [[\"it's\", 'really'], ['i', 'came']]\n",
      "---------20---------\n",
      "$$$ 预测模型: 2  $$$\n",
      "问题: 20 , I might have been in trouble.\"\n",
      "选项: [['thus'], ['however'], ['otherwise'], ['therefore']]\n",
      "predict: B ground truth: C\n",
      "\n",
      "空前后的词 [['<s>', '<s>'], ['<s>', '<s>']]\n",
      "---------1---------\n",
      "$$$ 预测模型: 2  $$$\n",
      "问题: I  1 the idea of taking the class because, after all, who doesn't want to  2  a few dollars?\n",
      "选项: [['put', 'forward'], ['jumped', 'at'], ['tried', 'out'], ['turned', 'down']]\n",
      "predict: A ground truth: B\n",
      "\n",
      "空前后的词 [['<s>', 'i'], ['the', 'idea']]\n",
      "---------2---------\n",
      "$$$ 预测模型: 2  $$$\n",
      "问题: I  1 the idea of taking the class because, after all, who doesn't want to  2  a few dollars?\n",
      "选项: [['waste'], ['earn'], ['save'], ['pay']]\n",
      "predict: C ground truth: C\n",
      "\n",
      "空前后的词 [['want', 'to'], ['a', 'few']]\n",
      "---------3---------\n",
      "$$$ 预测模型: 2  $$$\n",
      "问题: And, even if I weren't  3  enough about free credits, news about our  4  was appealing enough to me.\n",
      "选项: [['excited'], ['worried'], ['moved'], ['tired']]\n",
      "predict: A ground truth: A\n",
      "\n",
      "空前后的词 [['i', \"weren't\"], ['enough', 'about']]\n",
      "---------4---------\n",
      "$$$ 预测模型: 3  $$$\n",
      "问题: And, even if I weren't  3  enough about free credits, news about our  4  was appealing enough to me.\n",
      "选项: [['title'], ['competitor'], ['textbook'], ['instructor']]\n",
      "predict: A ground truth: D\n",
      "\n",
      "空前后的词 [['about', 'our'], ['was', 'appealing']]\n",
      "---------5---------\n",
      "$$$ 预测模型: 2  $$$\n",
      "问题: He was an international grandmaster, which  5  I would be learning from one of the game's  6 .\n",
      "选项: [['urged'], ['demanded'], ['held'], ['meant']]\n",
      "predict: D ground truth: D\n",
      "\n",
      "空前后的词 [['<s>', 'which'], ['i', 'would']]\n",
      "---------6---------\n",
      "$$$ 预测模型: 2  $$$\n",
      "问题: He was an international grandmaster, which  5  I would be learning from one of the game's  6 .\n",
      "选项: [['fastest'], ['easiest'], ['best'], ['rarest']]\n",
      "predict: A ground truth: C\n",
      "\n",
      "空前后的词 [['the', \"game's\"], ['<s>', '<s>']]\n",
      "---------7---------\n",
      "$$$ 预测模型: 3  $$$\n",
      "问题: I could hardly wait to  7  him.\n",
      "选项: [['interview'], ['meet'], ['challenge'], ['beat']]\n",
      "predict: B ground truth: B\n",
      "\n",
      "空前后的词 [['wait', 'to'], ['him', '<s>']]\n",
      "---------8---------\n",
      "$$$ 预测模型: 3  $$$\n",
      "问题: Maurice Ashley was kind and smart, a former graduate returning to teach, and this  8  was no game for him; he meant business.\n",
      "选项: [['chance'], ['qualification'], ['honor'], ['job']]\n",
      "predict: D ground truth: D\n",
      "\n",
      "空前后的词 [['and', 'this'], ['was', 'no']]\n",
      "---------9---------\n",
      "$$$ 预测模型: 2  $$$\n",
      "问题: In his introduction, he made it  9  that our credits would be hard-earned.\n",
      "选项: [['real'], ['perfect'], ['clear'], ['possible']]\n",
      "predict: C ground truth: C\n",
      "\n",
      "空前后的词 [['made', 'it'], ['that', 'our']]\n",
      "---------10---------\n",
      "$$$ 预测模型: 3  $$$\n",
      "问题: In order to  10  the class, among other criteria, we had to write a paper on how we plan to  11  what we would learn in class to our future professions and,  12 , to our lives.\n",
      "选项: [['attend'], ['pass'], ['skip'], ['observe']]\n",
      "predict: A ground truth: B\n",
      "\n",
      "空前后的词 [['order', 'to'], ['the', 'class']]\n",
      "---------11---------\n",
      "$$$ 预测模型: 2  $$$\n",
      "问题: In order to  10  the class, among other criteria, we had to write a paper on how we plan to  11  what we would learn in class to our future professions and,  12 , to our lives.\n",
      "选项: [['add'], ['expose'], ['apply'], ['compare']]\n",
      "predict: D ground truth: C\n",
      "\n",
      "空前后的词 [['plan', 'to'], ['what', 'we']]\n",
      "---------12---------\n",
      "$$$ 预测模型: 2  $$$\n",
      "问题: In order to  10  the class, among other criteria, we had to write a paper on how we plan to  11  what we would learn in class to our future professions and,  12 , to our lives.\n",
      "选项: [['eventually'], ['naturally'], ['directly'], ['normally']]\n",
      "predict: A ground truth: A\n",
      "\n",
      "空前后的词 [['<s>', '<s>'], ['<s>', '<s>']]\n",
      "---------13---------\n",
      "$$$ 预测模型: 2  $$$\n",
      "问题: I managed to get an A in that 13  and learned life lessons that have served me well beyond the  14 .Ten years after my chess class with Ashley, I'm still putting to use what he  15  me :\"The absolute most important  16  that you learn when you play chess is how to make good  17 .\n",
      "选项: [['game'], ['presentation'], ['course'], ['experiment']]\n",
      "predict: C ground truth: C\n",
      "\n",
      "空前后的词 [['in', 'that'], ['and', 'learned']]\n",
      "---------14---------\n",
      "$$$ 预测模型: 2  $$$\n",
      "问题: I managed to get an A in that 13  and learned life lessons that have served me well beyond the  14 .Ten years after my chess class with Ashley, I'm still putting to use what he  15  me :\"The absolute most important  16  that you learn when you play chess is how to make good  17 .\n",
      "选项: [['criterion'], ['classroom'], ['department'], ['situation']]\n",
      "predict: B ground truth: B\n",
      "\n",
      "空前后的词 [['beyond', 'the'], ['<s>', '<s>']]\n",
      "---------15---------\n",
      "$$$ 预测模型: 2  $$$\n",
      "问题: I managed to get an A in that 13  and learned life lessons that have served me well beyond the  14 .Ten years after my chess class with Ashley, I'm still putting to use what he  15  me :\"The absolute most important  16  that you learn when you play chess is how to make good  17 .\n",
      "选项: [['taught'], ['wrote'], ['questioned'], ['promised']]\n",
      "predict: A ground truth: A\n",
      "\n",
      "空前后的词 [['what', 'he'], ['me', ':the']]\n",
      "---------16---------\n",
      "$$$ 预测模型: 3  $$$\n",
      "问题: I managed to get an A in that 13  and learned life lessons that have served me well beyond the  14 .Ten years after my chess class with Ashley, I'm still putting to use what he  15  me :\"The absolute most important  16  that you learn when you play chess is how to make good  17 .\n",
      "选项: [['fact'], ['step'], ['manner'], ['skill']]\n",
      "predict: D ground truth: D\n",
      "\n",
      "空前后的词 [['most', 'important'], ['that', 'you']]\n",
      "---------17---------\n",
      "$$$ 预测模型: 3  $$$\n",
      "问题: I managed to get an A in that 13  and learned life lessons that have served me well beyond the  14 .Ten years after my chess class with Ashley, I'm still putting to use what he  15  me :\"The absolute most important  16  that you learn when you play chess is how to make good  17 .\n",
      "选项: [['grades'], ['decisions'], ['impressions'], ['comments']]\n",
      "predict: B ground truth: B\n",
      "\n",
      "空前后的词 [['make', 'good'], ['<s>', '<s>']]\n",
      "---------18---------\n",
      "$$$ 预测模型: 2  $$$\n",
      "问题: On every single move you have to 18  a situation, process what your opponent is doing and  19  the best move from among all your options.\"\n",
      "选项: [['analyze'], ['describe'], ['rebuild'], ['control']]\n",
      "predict: B ground truth: A\n",
      "\n",
      "空前后的词 [['have', 'to'], ['a', 'situation']]\n",
      "---------19---------\n",
      "$$$ 预测模型: 3  $$$\n",
      "问题: On every single move you have to 18  a situation, process what your opponent is doing and  19  the best move from among all your options.\"\n",
      "选项: [['announce'], ['signal'], ['block'], ['evaluate']]\n",
      "predict: C ground truth: D\n",
      "\n",
      "空前后的词 [['doing', 'and'], ['the', 'best']]\n",
      "---------20---------\n",
      "$$$ 预测模型: 2  $$$\n",
      "问题: These words still ring true today in my  20  as a journalist.\n",
      "选项: [['role'], ['desire'], ['concern'], ['behavior']]\n",
      "predict: A ground truth: A\n",
      "\n",
      "空前后的词 [['in', 'my'], ['as', 'a']]\n",
      "accuracy: 0.55  model3: 13  model2: 47\n"
     ]
    }
   ],
   "source": [
    "test(content_list,sentence_list,options_list,answers_list,showAll=True)"
   ]
  },
  {
   "cell_type": "code",
   "execution_count": 36,
   "metadata": {
    "ExecuteTime": {
     "end_time": "2019-12-22T10:57:53.972252Z",
     "start_time": "2019-12-22T10:57:53.855629Z"
    },
    "collapsed": true
   },
   "outputs": [],
   "source": [
    "def test(content_list,sentence_list,options_list,answers_list,showAll=False,predict=None):\n",
    "    \n",
    "    n_model2 = 0\n",
    "    n_model3 = 0\n",
    "    \n",
    "    cn = len(content_list)\n",
    "    right_n = 0\n",
    "    total_n = 0\n",
    "    for k in range(cn):\n",
    "        content = content_list[k]\n",
    "        answers = answers_list[k]\n",
    "        options = options_list[k]\n",
    "        sentence = sentence_list[k]\n",
    "    \n",
    "        n = len(answers)\n",
    "        total_n += n\n",
    "        for i in range(n):\n",
    "            if showAll:\n",
    "                print('---------'+str(i+1)+'---------')\n",
    "            if predict is None:\n",
    "                choice,model_version = auto_select(content[i],sentence[i],options[i],i+1)\n",
    "            else:\n",
    "                choice = predict\n",
    "            if choice == answers[i]:\n",
    "                right_n += 1\n",
    "                if showAll == False:\n",
    "                    print('---------'+str(i+1)+'---------')\n",
    "                    show_result(choice,answers[i],sentence[i],options[i],content[i],model_version)\n",
    "                    print('空前后的词',content[i])\n",
    "            if showAll:\n",
    "                show_result(choice,answers[i],sentence[i],options[i],content[i],model_version)\n",
    "                print('空前后的词',content[i])\n",
    "            if model_version == 2:\n",
    "                n_model2 += 1\n",
    "            else:\n",
    "                n_model3 += 1\n",
    "    accuracy = float(right_n)/total_n\n",
    "    print('accuracy:',accuracy,' model3:',n_model3,' model2:',n_model2)"
   ]
  },
  {
   "cell_type": "code",
   "execution_count": 37,
   "metadata": {
    "ExecuteTime": {
     "end_time": "2019-12-22T10:57:54.129671Z",
     "start_time": "2019-12-22T10:57:53.975169Z"
    },
    "collapsed": true
   },
   "outputs": [],
   "source": [
    "def show_result(choice,answer,sentence,option,content,model_version):\n",
    "    print('$$$ 预测模型:',model_version,' $$$')\n",
    "    print('问题:',sentence)\n",
    "    print('选项:',option)\n",
    "    print('predict:',choice,'ground truth:',answer)\n",
    "    print('')"
   ]
  },
  {
   "cell_type": "code",
   "execution_count": 38,
   "metadata": {
    "ExecuteTime": {
     "end_time": "2019-12-22T10:57:54.235713Z",
     "start_time": "2019-12-22T10:57:54.133500Z"
    },
    "collapsed": true
   },
   "outputs": [],
   "source": [
    "def get_words_matrix(pre_words,be_words,lines,n):  \n",
    "    n = n-1\n",
    "    for line in tqdm(lines):\n",
    "        for k in range(n):\n",
    "            line = NONE_STR+' '+line+' '+NONE_STR\n",
    "        line_words = line.split()\n",
    "        words_n = len(line_words)-n\n",
    "        for k in range(words_n):\n",
    "            pre_word = ' '.join(line_words[k:k+n])\n",
    "                \n",
    "            be_word = line_words[k+n]\n",
    "            \n",
    "            if pre_word in pre_words and be_word in be_words:\n",
    "                i = pre_words.index(pre_word)\n",
    "                j = be_words.index(be_word)\n",
    "                words_matrix[i][j] += 1\n",
    "                    \n",
    "#             if n > 1:\n",
    "#                 if pre_word in pre_words:\n",
    "#                     i = pre_words.index(pre_word)\n",
    "#                     j = be_words.index(be_word)\n",
    "#                     words_matrix[i][j] += 1\n",
    "#             else:\n",
    "#                 i = pre_words.index(pre_word)\n",
    "#                 j = be_words.index(be_word)\n",
    "#                 words_matrix[i][j] += 1\n",
    "            \n",
    "    return words_matrix"
   ]
  },
  {
   "cell_type": "code",
   "execution_count": 39,
   "metadata": {
    "ExecuteTime": {
     "end_time": "2019-12-22T10:57:54.470891Z",
     "start_time": "2019-12-22T10:57:54.238816Z"
    },
    "collapsed": true
   },
   "outputs": [],
   "source": [
    "def count_word_num(lines,n):\n",
    "    pre_words = collections.defaultdict(int)\n",
    "    be_words = collections.defaultdict(int)\n",
    "    \n",
    "    words = collections.defaultdict(int)\n",
    "    n = n-1\n",
    "    \n",
    "    index = 0\n",
    "    for line in lines:\n",
    "        for k in range(n):\n",
    "            line = NONE_STR+' '+line+' '+NONE_STR\n",
    "        line_words = line.split()\n",
    "        for i in range(len(line_words)-(n-1)):\n",
    "            pre_word = ' '.join(line_words[i-1:i+n-1])\n",
    "            be_word = line_words[i+n-1]\n",
    "            \n",
    "            pre_words[pre_word] += 1\n",
    "            be_words[be_word] += 1\n",
    "            \n",
    "            words[pre_word+' '+be_word] += 1\n",
    "    return pre_words,be_words,words"
   ]
  },
  {
   "cell_type": "code",
   "execution_count": 40,
   "metadata": {
    "ExecuteTime": {
     "end_time": "2019-12-22T10:57:54.571150Z",
     "start_time": "2019-12-22T10:57:54.474910Z"
    },
    "collapsed": true
   },
   "outputs": [],
   "source": [
    "punctuation_list = ['.',',','?','!','\\\"','“']"
   ]
  },
  {
   "cell_type": "code",
   "execution_count": 41,
   "metadata": {
    "ExecuteTime": {
     "end_time": "2019-12-22T10:57:54.695196Z",
     "start_time": "2019-12-22T10:57:54.573974Z"
    },
    "collapsed": true
   },
   "outputs": [],
   "source": [
    "def check_punctuation_and_replace_with_none(word_list,reverse = False):\n",
    "    n = len(word_list)\n",
    "    f_flag = False #第一个字符是否为标点\n",
    "    b_flag = False #最后一个字符是否为标点\n",
    "    if reverse == True:\n",
    "        for i in range(n-1, -1, -1):\n",
    "            word = word_list[i]\n",
    "            if b_flag == False:\n",
    "                for puc in punctuation_list:\n",
    "                    if word[-1]==puc :\n",
    "                        b_flag = True \n",
    "                        break\n",
    "                    elif word[0] == puc:\n",
    "                        f_flag = True\n",
    "                        break\n",
    "            if b_flag == True:\n",
    "                word_list[i] = NONE_STR\n",
    "            else:\n",
    "                word_list[i] = replace_punctuation(word).lower()\n",
    "            if f_flag == True:\n",
    "                b_flag = True\n",
    "    else:\n",
    "        for i in range(n):\n",
    "            word = word_list[i]\n",
    "            if f_flag == False:\n",
    "                for puc in punctuation_list:\n",
    "                    if word[0] == puc:\n",
    "                        f_flag = True\n",
    "                        break\n",
    "                    elif word[-1]==puc :\n",
    "                        b_flag = True \n",
    "                        break\n",
    "            if f_flag == True:\n",
    "                word_list[i] = NONE_STR\n",
    "            else:\n",
    "                word_list[i] = replace_punctuation(word).lower()\n",
    "            if b_flag == True:\n",
    "                f_flag = True\n",
    "    return word_list"
   ]
  },
  {
   "cell_type": "code",
   "execution_count": 42,
   "metadata": {
    "ExecuteTime": {
     "end_time": "2019-12-22T10:57:54.855269Z",
     "start_time": "2019-12-22T10:57:54.698043Z"
    },
    "collapsed": true
   },
   "outputs": [],
   "source": [
    "def get_question_sentences(article):\n",
    "    article = replace_Chinese_punctuation(article)\n",
    "    sentences = splitSentence(article)\n",
    "    \n",
    "    content = []\n",
    "    index = 1\n",
    "    for sentence in sentences:\n",
    "        art_words = sentence.split()\n",
    "        n = len(art_words)\n",
    "        for i in range(n):\n",
    "            word = art_words[i]\n",
    "            if str(index) == word:\n",
    "                content.append(sentence)\n",
    "                index += 1\n",
    "    return content"
   ]
  },
  {
   "cell_type": "code",
   "execution_count": 43,
   "metadata": {
    "ExecuteTime": {
     "end_time": "2019-12-22T10:57:54.979716Z",
     "start_time": "2019-12-22T10:57:54.858632Z"
    },
    "collapsed": true
   },
   "outputs": [],
   "source": [
    "def delete_sparse_words(words_dict,threshold=4):\n",
    "    words_list = []\n",
    "    for key, value in words_dict.items():\n",
    "        if value > 4:\n",
    "            words_list.append(key)\n",
    "    return words_list"
   ]
  },
  {
   "cell_type": "code",
   "execution_count": 44,
   "metadata": {
    "ExecuteTime": {
     "end_time": "2019-12-22T10:57:55.108549Z",
     "start_time": "2019-12-22T10:57:54.982696Z"
    },
    "collapsed": true
   },
   "outputs": [],
   "source": [
    "def probability(word1,word2,ngram):\n",
    "    pre_words = pre_words_list[ngram-2]\n",
    "    words = words_list[ngram-2]\n",
    "    \n",
    "    eclipse = 0.0000000000001\n",
    "    all = pre_words[word1]\n",
    "    single = words[word1+' '+word2]\n",
    "    \n",
    "    if all == 0:\n",
    "        return eclipse\n",
    "    \n",
    "    prob = float(single)/all\n",
    "    if prob == 0:\n",
    "        prob = eclipse\n",
    "    return prob"
   ]
  },
  {
   "cell_type": "markdown",
   "metadata": {},
   "source": [
    "<font color=blue size=8 face=雅黑>使用NLTK将句子划分开</font>"
   ]
  },
  {
   "cell_type": "markdown",
   "metadata": {},
   "source": [
    "计算bi、tri、four-gram的数据，准备之后用"
   ]
  },
  {
   "cell_type": "code",
   "execution_count": 60,
   "metadata": {
    "ExecuteTime": {
     "end_time": "2019-12-22T11:02:12.965114Z",
     "start_time": "2019-12-22T11:00:15.777955Z"
    },
    "collapsed": true,
    "scrolled": true
   },
   "outputs": [],
   "source": [
    "pre_words_list = []\n",
    "be_words_list = []\n",
    "words_list = []\n",
    "#计算2,3,4,5,6-gram,词组出现的次数\n",
    "for i in range(2,7):\n",
    "    pre_words,be_words,words = count_word_num(lines,i)\n",
    "    pre_words_list.append(pre_words)\n",
    "    be_words_list.append(be_words)\n",
    "    words_list.append(words)"
   ]
  },
  {
   "cell_type": "code",
   "execution_count": 46,
   "metadata": {
    "ExecuteTime": {
     "end_time": "2019-12-22T10:58:52.259924Z",
     "start_time": "2019-12-22T10:58:52.119609Z"
    },
    "collapsed": true,
    "scrolled": false
   },
   "outputs": [],
   "source": [
    "content_list,sentence_list,options_list,answers_list = read_train_data()"
   ]
  },
  {
   "cell_type": "code",
   "execution_count": 47,
   "metadata": {
    "ExecuteTime": {
     "end_time": "2019-12-22T10:58:52.367541Z",
     "start_time": "2019-12-22T10:58:52.263017Z"
    }
   },
   "outputs": [
    {
     "name": "stdout",
     "output_type": "stream",
     "text": [
      "[['t-shirt', 'and'], ['into', 'the']]\n",
      "I took off my T-shirt and  9   into the water.\n"
     ]
    }
   ],
   "source": [
    "print(content_list[0][8])\n",
    "print(sentence_list[0][8])"
   ]
  },
  {
   "cell_type": "code",
   "execution_count": 48,
   "metadata": {
    "ExecuteTime": {
     "end_time": "2019-12-22T10:58:52.508029Z",
     "start_time": "2019-12-22T10:58:52.370651Z"
    }
   },
   "outputs": [
    {
     "name": "stdout",
     "output_type": "stream",
     "text": [
      "[['stared'], ['sank'], ['dived'], ['fell']]\n"
     ]
    }
   ],
   "source": [
    "print(options_list[0][8])"
   ]
  },
  {
   "cell_type": "code",
   "execution_count": 49,
   "metadata": {
    "ExecuteTime": {
     "end_time": "2019-12-22T10:58:52.618480Z",
     "start_time": "2019-12-22T10:58:52.512180Z"
    },
    "collapsed": true
   },
   "outputs": [],
   "source": [
    "def get_sentence_block(sentence):\n",
    "    reg_parser = RegexpParser('''\n",
    "            NP: {<PRP.*>?<MD>?<PRP$>?<DT>?<JJ.*>*<NN.*>*}   \n",
    "             P: {<IN>}    \n",
    "          VERB: {<RB.*>?<V.*>?<RB.*>?<TO>*<RP>?}                \n",
    "      VERB_CON: {<VERB>+<NP>?<P>?<NP>?}             \n",
    "    ''')\n",
    "    \n",
    "    test_sent_pos = nltk.pos_tag(nltk.word_tokenize(sentence))\n",
    "    sentence_tree = reg_parser.parse(test_sent_pos)\n",
    "    # sentence_tree.draw()\n",
    "\n",
    "    def get_words_from_tree(tree,word_list):\n",
    "        if isinstance(tree, Tree): \n",
    "            for i in range(len(tree)):\n",
    "                get_words_from_tree(tree[i],word_list)\n",
    "        else:\n",
    "            word_list.append(tree[0])\n",
    "\n",
    "\n",
    "    temp_list = []\n",
    "    for child in sentence_tree:\n",
    "        if isinstance(child, Tree):               \n",
    "            if child.label() == 'VERB_CON' or child.label() == 'NP':\n",
    "                if len(child)>1 and len(child)<5:\n",
    "                    item = []\n",
    "                    get_words_from_tree(child,item)\n",
    "                    temp_list.append(item)\n",
    "\n",
    "    return temp_list"
   ]
  },
  {
   "cell_type": "code",
   "execution_count": 50,
   "metadata": {
    "ExecuteTime": {
     "end_time": "2019-12-22T10:58:52.749571Z",
     "start_time": "2019-12-22T10:58:52.621706Z"
    },
    "collapsed": true
   },
   "outputs": [],
   "source": [
    "def does_list_exits_in_other_list(list1,list2):\n",
    "    index = -1\n",
    "    pos = -1\n",
    "    n = len(list1)\n",
    "    flag = False\n",
    "    for opt in list2:\n",
    "        for i in range(index+1,n):\n",
    "            word = list1[i]\n",
    "            if flag == True:\n",
    "                if opt != word:\n",
    "                    return False\n",
    "                else:\n",
    "                    index += 1\n",
    "                    break\n",
    "            else:\n",
    "                if opt == word:\n",
    "                    index = i\n",
    "                    pos = index\n",
    "                    flag = True\n",
    "                    break\n",
    "    return flag,pos"
   ]
  },
  {
   "cell_type": "code",
   "execution_count": 51,
   "metadata": {
    "ExecuteTime": {
     "end_time": "2019-12-22T10:58:52.931857Z",
     "start_time": "2019-12-22T10:58:52.752965Z"
    },
    "collapsed": true
   },
   "outputs": [],
   "source": [
    "def get_sentence_option_block(sentence,index,options):\n",
    "    #用A选项替换空中的标号\n",
    "    A = options[0]\n",
    "    sentence = sentence.replace(' '+str(index)+' ',' '.join(A))\n",
    "    sentence = sentence.replace(str(index)+' ',' '.join(A))\n",
    "    sentence = sentence.replace(' '+str(index),' '.join(A))\n",
    "    #获得句子分块\n",
    "    blocks = get_sentence_block(sentence)\n",
    "    #找到分块中与选项相关的部分\n",
    "    for block in blocks:\n",
    "        flag,pos = does_list_exits_in_other_list(block,A)\n",
    "        if flag:\n",
    "            return block,pos\n",
    "    return None,-1"
   ]
  },
  {
   "cell_type": "code",
   "execution_count": 52,
   "metadata": {
    "ExecuteTime": {
     "end_time": "2019-12-22T10:58:53.072094Z",
     "start_time": "2019-12-22T10:58:52.935192Z"
    },
    "scrolled": true
   },
   "outputs": [
    {
     "name": "stdout",
     "output_type": "stream",
     "text": [
      "[[['since', \"i'd\"], ['seen', 'him']], [['imagine', 'my'], ['when', 'he']], [['i', 'was'], ['<s>', '<s>']], [['supposed', 'to'], ['<s>', '<s>']], [['bay', 'was'], ['in', 'sunshine']], [['a', 'little'], ['<s>', '<s>']], [['was', 'in'], ['<s>', '<s>']], [[\"something's\", 'not'], ['<s>', '<s>']], [['t-shirt', 'and'], ['into', 'the']], [['he', 'was'], ['violently', '<s>']], [['i', 'helped'], ['the', 'young']], [['<s>', 'something'], ['to', 'me']], [['were', 'very'], ['<s>', '<s>']], [['immediately', 'i'], ['<s>', '<s>']], [['<s>', '<s>'], ['<s>', '<s>']], [['allowed', 'to'], ['and', 'later']], [['then', 'ben'], ['to', 'me']], [['<s>', 'you'], ['my', 'life']], [['what', 'a'], ['it', 'was']], [['was', 'there'], ['to', 'help']]]\n"
     ]
    }
   ],
   "source": [
    "print(content_list[0])"
   ]
  },
  {
   "cell_type": "code",
   "execution_count": 53,
   "metadata": {
    "ExecuteTime": {
     "end_time": "2019-12-22T10:58:53.206748Z",
     "start_time": "2019-12-22T10:58:53.075115Z"
    },
    "scrolled": true
   },
   "outputs": [
    {
     "name": "stdout",
     "output_type": "stream",
     "text": [
      "[[['also'], ['often'], ['even'], ['last']], [['delight'], ['relief'], ['anger'], ['worry']], [['scared'], ['shocked'], ['thrilled'], ['ashamed']], [['talk'], ['stay'], ['meet'], ['settle']], [['bathed'], ['clean'], ['deep'], ['formed']], [['faster'], ['closer'], ['heavier'], ['wiser']], [['trouble'], ['advance'], ['question'], ['battle']], [['real'], ['right'], ['fair'], ['fit']], [['stared'], ['sank'], ['dived'], ['fell']], [['arguing'], ['fighting'], ['shouting'], ['shaking']], [['lead'], ['persuade'], ['carry'], ['keep']], [['happened'], ['occurred'], ['applied'], ['appealed']], [['sharp'], ['pleasant'], ['attractive'], ['familiar']], [['agreed'], ['hesitated'], ['doubted'], ['knew']], [['fortunately'], ['frankly'], ['sadly'], ['suddenly']], [['return'], ['relax'], ['speak'], ['leave']], [['joked'], ['turned'], ['listened'], ['pointed']], [['created'], ['honored'], ['saved'], ['guided']], [['coincidence'], ['change'], ['pity'], ['pain']], [['on', 'board'], ['in', 'time'], ['for', 'sure'], ['on', 'purpose']]]\n"
     ]
    }
   ],
   "source": [
    "print(options_list[0])"
   ]
  },
  {
   "cell_type": "code",
   "execution_count": 54,
   "metadata": {
    "ExecuteTime": {
     "end_time": "2019-12-22T10:58:53.314832Z",
     "start_time": "2019-12-22T10:58:53.209643Z"
    }
   },
   "outputs": [
    {
     "name": "stdout",
     "output_type": "stream",
     "text": [
      "['D', 'A', 'C', 'C', 'A', 'B', 'A', 'B', 'C', 'D', 'C', 'B', 'D', 'D', 'A', 'D', 'B', 'C', 'A', 'B']\n"
     ]
    }
   ],
   "source": [
    "print(answers_list[0])"
   ]
  },
  {
   "cell_type": "code",
   "execution_count": 55,
   "metadata": {
    "ExecuteTime": {
     "end_time": "2019-12-22T10:58:54.081638Z",
     "start_time": "2019-12-22T10:58:53.318197Z"
    },
    "scrolled": true
   },
   "outputs": [
    {
     "name": "stdout",
     "output_type": "stream",
     "text": [
      "---------1---------\n",
      "$$$ 预测模型: 2  $$$\n",
      "问题: He'd moved to England with his mum when he was three and it had been 13 years since I'd  1  seen him.\n",
      "选项: [['also'], ['often'], ['even'], ['last']]\n",
      "predict: A ground truth: D\n",
      "\n",
      "空前后的词 [['since', \"i'd\"], ['seen', 'him']]\n",
      "---------2---------\n",
      "$$$ 预测模型: 3  $$$\n",
      "问题: So imagine my  2   when he emailed me saying he wanted to come to visit me.\n",
      "选项: [['delight'], ['relief'], ['anger'], ['worry']]\n",
      "predict: A ground truth: A\n",
      "\n",
      "空前后的词 [['imagine', 'my'], ['when', 'he']]\n",
      "---------3---------\n",
      "$$$ 预测模型: 3  $$$\n",
      "问题: I was   3  !\n",
      "选项: [['scared'], ['shocked'], ['thrilled'], ['ashamed']]\n",
      "predict: B ground truth: C\n",
      "\n",
      "空前后的词 [['i', 'was'], ['<s>', '<s>']]\n",
      "---------4---------\n",
      "$$$ 预测模型: 2  $$$\n",
      "问题: I arrived early at Byron Bay where we were supposed to   4  .\n",
      "选项: [['talk'], ['stay'], ['meet'], ['settle']]\n",
      "predict: C ground truth: C\n",
      "\n",
      "空前后的词 [['supposed', 'to'], ['<s>', '<s>']]\n",
      "---------5---------\n",
      "$$$ 预测模型: 2  $$$\n",
      "问题: The bay was  5   in sunshine, and there was a group of kayakers around 150m off the shore.\n",
      "选项: [['bathed'], ['clean'], ['deep'], ['formed']]\n",
      "predict: A ground truth: A\n",
      "\n",
      "空前后的词 [['bay', 'was'], ['in', 'sunshine']]\n",
      "---------6---------\n",
      "$$$ 预测模型: 3  $$$\n",
      "问题: Getting a little   6  , I realized one kayak  was in  7  .\n",
      "选项: [['faster'], ['closer'], ['heavier'], ['wiser']]\n",
      "predict: A ground truth: B\n",
      "\n",
      "空前后的词 [['a', 'little'], ['<s>', '<s>']]\n",
      "---------7---------\n",
      "$$$ 预测模型: 3  $$$\n",
      "问题: Getting a little   6  , I realized one kayak  was in  7  .\n",
      "选项: [['trouble'], ['advance'], ['question'], ['battle']]\n",
      "predict: A ground truth: A\n",
      "\n",
      "空前后的词 [['was', 'in'], ['<s>', '<s>']]\n",
      "---------8---------\n",
      "$$$ 预测模型: 2  $$$\n",
      "问题: \"Something's not   8  !\"\n",
      "选项: [['real'], ['right'], ['fair'], ['fit']]\n",
      "predict: C ground truth: B\n",
      "\n",
      "空前后的词 [[\"something's\", 'not'], ['<s>', '<s>']]\n",
      "---------9---------\n",
      "$$$ 预测模型: 2  $$$\n",
      "问题: I took off my T-shirt and  9   into the water.\n",
      "选项: [['stared'], ['sank'], ['dived'], ['fell']]\n",
      "predict: C ground truth: C\n",
      "\n",
      "空前后的词 [['t-shirt', 'and'], ['into', 'the']]\n",
      "---------10---------\n",
      "$$$ 预测模型: 3  $$$\n",
      "问题: He was  10   violently.\n",
      "选项: [['arguing'], ['fighting'], ['shouting'], ['shaking']]\n",
      "predict: D ground truth: D\n",
      "\n",
      "空前后的词 [['he', 'was'], ['violently', '<s>']]\n",
      "---------11---------\n",
      "$$$ 预测模型: 2  $$$\n",
      "问题: Linking arms with one of the instructors， I helped  11   the young man out of the water.\n",
      "选项: [['lead'], ['persuade'], ['carry'], ['keep']]\n",
      "predict: D ground truth: C\n",
      "\n",
      "空前后的词 [['i', 'helped'], ['the', 'young']]\n",
      "---------12---------\n",
      "$$$ 预测模型: 2  $$$\n",
      "问题: He was unconscious and as I looked at his face, something  12   to me.\n",
      "选项: [['happened'], ['occurred'], ['applied'], ['appealed']]\n",
      "predict: B ground truth: B\n",
      "\n",
      "空前后的词 [['<s>', 'something'], ['to', 'me']]\n",
      "---------13---------\n",
      "$$$ 预测模型: 2  $$$\n",
      "问题: Those brown eyes were very   13  .\n",
      "选项: [['sharp'], ['pleasant'], ['attractive'], ['familiar']]\n",
      "predict: D ground truth: D\n",
      "\n",
      "空前后的词 [['were', 'very'], ['<s>', '<s>']]\n",
      "---------14---------\n",
      "$$$ 预测模型: 2  $$$\n",
      "问题: \"Ben,\" he replied, and immediately I  14  .\n",
      "选项: [['agreed'], ['hesitated'], ['doubted'], ['knew']]\n",
      "predict: B ground truth: D\n",
      "\n",
      "空前后的词 [['immediately', 'i'], ['<s>', '<s>']]\n",
      "---------15---------\n",
      "$$$ 预测模型: 2  $$$\n",
      "问题: 15 , after a brief stay in hospital, Ben was well enough to be allowed to  16   and later the family met up for dinner.\n",
      "选项: [['fortunately'], ['frankly'], ['sadly'], ['suddenly']]\n",
      "predict: D ground truth: A\n",
      "\n",
      "空前后的词 [['<s>', '<s>'], ['<s>', '<s>']]\n",
      "---------16---------\n",
      "$$$ 预测模型: 2  $$$\n",
      "问题: 15 , after a brief stay in hospital, Ben was well enough to be allowed to  16   and later the family met up for dinner.\n",
      "选项: [['return'], ['relax'], ['speak'], ['leave']]\n",
      "predict: D ground truth: D\n",
      "\n",
      "空前后的词 [['allowed', 'to'], ['and', 'later']]\n",
      "---------17---------\n",
      "$$$ 预测模型: 2  $$$\n",
      "问题: We chatted about everything and then Ben  17   to me.\n",
      "选项: [['joked'], ['turned'], ['listened'], ['pointed']]\n",
      "predict: B ground truth: B\n",
      "\n",
      "空前后的词 [['then', 'ben'], ['to', 'me']]\n",
      "---------18---------\n",
      "$$$ 预测模型: 2  $$$\n",
      "问题: \"You  18   my life!\"\n",
      "选项: [['created'], ['honored'], ['saved'], ['guided']]\n",
      "predict: C ground truth: C\n",
      "\n",
      "空前后的词 [['<s>', 'you'], ['my', 'life']]\n",
      "---------19---------\n",
      "$$$ 预测模型: 3  $$$\n",
      "问题: I still can't believe what a  19   it was.\n",
      "选项: [['coincidence'], ['change'], ['pity'], ['pain']]\n",
      "predict: B ground truth: A\n",
      "\n",
      "空前后的词 [['what', 'a'], ['it', 'was']]\n",
      "---------20---------\n",
      "$$$ 预测模型: 2  $$$\n",
      "问题: I'm just so glad I was there  20   to help my son.\n",
      "选项: [['on', 'board'], ['in', 'time'], ['for', 'sure'], ['on', 'purpose']]\n",
      "predict: B ground truth: B\n",
      "\n",
      "空前后的词 [['was', 'there'], ['to', 'help']]\n",
      "---------1---------\n",
      "$$$ 预测模型: 2  $$$\n",
      "问题: Suddenly I 1 that a man sitting at a table near the window kept glancing in my direction, 2 he knew me.\n",
      "选项: [['knew'], ['understood'], ['noticed'], ['recognized']]\n",
      "predict: B ground truth: C\n",
      "\n",
      "空前后的词 [['suddenly', 'i'], ['that', 'a']]\n",
      "---------2---------\n",
      "$$$ 预测模型: 2  $$$\n",
      "问题: Suddenly I 1 that a man sitting at a table near the window kept glancing in my direction, 2 he knew me.\n",
      "选项: [['since'], ['even', 'if'], ['though'], ['as', 'if']]\n",
      "predict: D ground truth: D\n",
      "\n",
      "空前后的词 [['<s>', '<s>'], ['he', 'knew']]\n",
      "---------3---------\n",
      "$$$ 预测模型: 2  $$$\n",
      "问题: The man had a newspaper 3 in front of him, which he was 4 to read, but I could 5 that he was keeping an eye on me.\n",
      "选项: [['flat'], ['open'], ['cut'], ['fixed']]\n",
      "predict: A ground truth: B\n",
      "\n",
      "空前后的词 [['a', 'newspaper'], ['in', 'front']]\n",
      "---------4---------\n",
      "$$$ 预测模型: 2  $$$\n",
      "问题: The man had a newspaper 3 in front of him, which he was 4 to read, but I could 5 that he was keeping an eye on me.\n",
      "选项: [['hoping'], ['thinking'], ['pretending'], ['continuing']]\n",
      "predict: C ground truth: C\n",
      "\n",
      "空前后的词 [['he', 'was'], ['to', 'read']]\n",
      "---------5---------\n",
      "$$$ 预测模型: 2  $$$\n",
      "问题: The man had a newspaper 3 in front of him, which he was 4 to read, but I could 5 that he was keeping an eye on me.\n",
      "选项: [['see'], ['find'], ['guess'], ['learn']]\n",
      "predict: A ground truth: A\n",
      "\n",
      "空前后的词 [['i', 'could'], ['that', 'he']]\n",
      "---------6---------\n",
      "$$$ 预测模型: 2  $$$\n",
      "问题: When the waiter brought my 6 the man was clearly puzzled by the 7 way in which the waiter and I 8 each other.\n",
      "选项: [['menu'], ['bill'], ['paper'], ['food']]\n",
      "predict: B ground truth: D\n",
      "\n",
      "空前后的词 [['brought', 'my'], ['the', 'man']]\n",
      "---------7---------\n",
      "$$$ 预测模型: 2  $$$\n",
      "问题: When the waiter brought my 6 the man was clearly puzzled by the 7 way in which the waiter and I 8 each other.\n",
      "选项: [['direct'], ['familiar'], ['strange'], ['funny']]\n",
      "predict: C ground truth: B\n",
      "\n",
      "空前后的词 [['by', 'the'], ['way', 'in']]\n",
      "---------8---------\n",
      "$$$ 预测模型: 2  $$$\n",
      "问题: When the waiter brought my 6 the man was clearly puzzled by the 7 way in which the waiter and I 8 each other.\n",
      "选项: [['chatted', 'with'], ['looked', 'at'], ['laughed', 'at'], ['talked', 'about']]\n",
      "predict: B ground truth: A\n",
      "\n",
      "空前后的词 [['and', 'i'], ['each', 'other']]\n",
      "---------9---------\n",
      "$$$ 预测模型: 2  $$$\n",
      "问题: He seemed even more puzzled as 9 went on and it became 10 that all the waiters in the restaurant knew me.\n",
      "选项: [['the', 'waiter'], ['time'], ['i'], ['the', 'dinner']]\n",
      "predict: B ground truth: B\n",
      "\n",
      "空前后的词 [['puzzled', 'as'], ['went', 'on']]\n",
      "---------10---------\n",
      "$$$ 预测模型: 2  $$$\n",
      "问题: He seemed even more puzzled as 9 went on and it became 10 that all the waiters in the restaurant knew me.\n",
      "选项: [['true'], ['hopeful'], ['clear'], ['possible']]\n",
      "predict: C ground truth: C\n",
      "\n",
      "空前后的词 [['it', 'became'], ['that', 'all']]\n",
      "---------11---------\n",
      "$$$ 预测模型: 2  $$$\n",
      "问题: Finally he got up and went into the 11 .\n",
      "选项: [['restaurant'], ['washroom'], ['office'], ['kitchen']]\n",
      "predict: D ground truth: D\n",
      "\n",
      "空前后的词 [['into', 'the'], ['<s>', '<s>']]\n",
      "---------12---------\n",
      "$$$ 预测模型: 2  $$$\n",
      "问题: When he came out, he paid his bill and 12 without another glance in my direction.I called the owner of the restaurant and asked what the man had 13 .\n",
      "选项: [['left'], ['acted'], ['sat', 'down'], ['calmed', 'down']]\n",
      "predict: A ground truth: A\n",
      "\n",
      "空前后的词 [['bill', 'and'], ['without', 'another']]\n",
      "---------13---------\n",
      "$$$ 预测模型: 2  $$$\n",
      "问题: When he came out, he paid his bill and 12 without another glance in my direction.I called the owner of the restaurant and asked what the man had 13 .\n",
      "选项: [['wanted'], ['tried'], ['ordered'], ['wished']]\n",
      "predict: A ground truth: A\n",
      "\n",
      "空前后的词 [['man', 'had'], ['<s>', '<s>']]\n",
      "---------14---------\n",
      "$$$ 预测模型: 2  $$$\n",
      "问题: He 14 you here because he thought you were the man he 15 .\"\n",
      "选项: [['met'], ['caught'], ['followed'], ['discovered']]\n",
      "predict: D ground truth: C\n",
      "\n",
      "空前后的词 [['<s>', 'he'], ['you', 'here']]\n",
      "---------15---------\n",
      "$$$ 预测模型: 2  $$$\n",
      "问题: He 14 you here because he thought you were the man he 15 .\"\n",
      "选项: [['was', 'to', 'beat'], ['was', 'dealing', 'with'], ['was', 'to', 'meet'], ['was', 'looking', 'for']]\n",
      "predict: B ground truth: D\n",
      "\n",
      "空前后的词 [['man', 'he'], ['<s>', '<s>']]\n",
      "---------16---------\n"
     ]
    },
    {
     "name": "stdout",
     "output_type": "stream",
     "text": [
      "$$$ 预测模型: 2  $$$\n",
      "问题: I said, showing my 16 .\n",
      "选项: [['care'], ['surprise'], ['worry'], ['regret']]\n",
      "predict: A ground truth: B\n",
      "\n",
      "空前后的词 [['showing', 'my'], ['<s>', '<s>']]\n",
      "---------17---------\n",
      "$$$ 预测模型: 2  $$$\n",
      "问题: I 17 say he looked very much like you!\n",
      "选项: [['must'], ['can'], ['need'], ['may']]\n",
      "predict: B ground truth: A\n",
      "\n",
      "空前后的词 [['<s>', 'i'], ['say', 'he']]\n",
      "---------18---------\n",
      "$$$ 预测模型: 2  $$$\n",
      "问题: Of course, since we know you, we told him that he had made a 18 .\"\n",
      "选项: [['discovery'], ['mistake'], ['decision'], ['fortune']]\n",
      "predict: B ground truth: B\n",
      "\n",
      "空前后的词 [['made', 'a'], ['<s>', '<s>']]\n",
      "---------19---------\n",
      "$$$ 预测模型: 2  $$$\n",
      "问题: \"Well, it's really 19 I came to a restaurant where I'm known, \" I said.\"\n",
      "选项: [['a', 'pity'], ['natural'], ['a', 'chance'], ['lucky']]\n",
      "predict: A ground truth: D\n",
      "\n",
      "空前后的词 [[\"it's\", 'really'], ['i', 'came']]\n",
      "---------20---------\n",
      "$$$ 预测模型: 2  $$$\n",
      "问题: 20 , I might have been in trouble.\"\n",
      "选项: [['thus'], ['however'], ['otherwise'], ['therefore']]\n",
      "predict: B ground truth: C\n",
      "\n",
      "空前后的词 [['<s>', '<s>'], ['<s>', '<s>']]\n",
      "---------1---------\n",
      "$$$ 预测模型: 2  $$$\n",
      "问题: I  1 the idea of taking the class because, after all, who doesn't want to  2  a few dollars?\n",
      "选项: [['put', 'forward'], ['jumped', 'at'], ['tried', 'out'], ['turned', 'down']]\n",
      "predict: A ground truth: B\n",
      "\n",
      "空前后的词 [['<s>', 'i'], ['the', 'idea']]\n",
      "---------2---------\n",
      "$$$ 预测模型: 2  $$$\n",
      "问题: I  1 the idea of taking the class because, after all, who doesn't want to  2  a few dollars?\n",
      "选项: [['waste'], ['earn'], ['save'], ['pay']]\n",
      "predict: C ground truth: C\n",
      "\n",
      "空前后的词 [['want', 'to'], ['a', 'few']]\n",
      "---------3---------\n",
      "$$$ 预测模型: 2  $$$\n",
      "问题: And, even if I weren't  3  enough about free credits, news about our  4  was appealing enough to me.\n",
      "选项: [['excited'], ['worried'], ['moved'], ['tired']]\n",
      "predict: A ground truth: A\n",
      "\n",
      "空前后的词 [['i', \"weren't\"], ['enough', 'about']]\n",
      "---------4---------\n",
      "$$$ 预测模型: 3  $$$\n",
      "问题: And, even if I weren't  3  enough about free credits, news about our  4  was appealing enough to me.\n",
      "选项: [['title'], ['competitor'], ['textbook'], ['instructor']]\n",
      "predict: A ground truth: D\n",
      "\n",
      "空前后的词 [['about', 'our'], ['was', 'appealing']]\n",
      "---------5---------\n",
      "$$$ 预测模型: 2  $$$\n",
      "问题: He was an international grandmaster, which  5  I would be learning from one of the game's  6 .\n",
      "选项: [['urged'], ['demanded'], ['held'], ['meant']]\n",
      "predict: D ground truth: D\n",
      "\n",
      "空前后的词 [['<s>', 'which'], ['i', 'would']]\n",
      "---------6---------\n",
      "$$$ 预测模型: 2  $$$\n",
      "问题: He was an international grandmaster, which  5  I would be learning from one of the game's  6 .\n",
      "选项: [['fastest'], ['easiest'], ['best'], ['rarest']]\n",
      "predict: A ground truth: C\n",
      "\n",
      "空前后的词 [['the', \"game's\"], ['<s>', '<s>']]\n",
      "---------7---------\n",
      "$$$ 预测模型: 2  $$$\n",
      "问题: I could hardly wait to  7  him.\n",
      "选项: [['interview'], ['meet'], ['challenge'], ['beat']]\n",
      "predict: B ground truth: B\n",
      "\n",
      "空前后的词 [['wait', 'to'], ['him', '<s>']]\n",
      "---------8---------\n",
      "$$$ 预测模型: 3  $$$\n",
      "问题: Maurice Ashley was kind and smart, a former graduate returning to teach, and this  8  was no game for him; he meant business.\n",
      "选项: [['chance'], ['qualification'], ['honor'], ['job']]\n",
      "predict: D ground truth: D\n",
      "\n",
      "空前后的词 [['and', 'this'], ['was', 'no']]\n",
      "---------9---------\n",
      "$$$ 预测模型: 2  $$$\n",
      "问题: In his introduction, he made it  9  that our credits would be hard-earned.\n",
      "选项: [['real'], ['perfect'], ['clear'], ['possible']]\n",
      "predict: C ground truth: C\n",
      "\n",
      "空前后的词 [['made', 'it'], ['that', 'our']]\n",
      "---------10---------\n",
      "$$$ 预测模型: 3  $$$\n",
      "问题: In order to  10  the class, among other criteria, we had to write a paper on how we plan to  11  what we would learn in class to our future professions and,  12 , to our lives.\n",
      "选项: [['attend'], ['pass'], ['skip'], ['observe']]\n",
      "predict: A ground truth: B\n",
      "\n",
      "空前后的词 [['order', 'to'], ['the', 'class']]\n",
      "---------11---------\n",
      "$$$ 预测模型: 2  $$$\n",
      "问题: In order to  10  the class, among other criteria, we had to write a paper on how we plan to  11  what we would learn in class to our future professions and,  12 , to our lives.\n",
      "选项: [['add'], ['expose'], ['apply'], ['compare']]\n",
      "predict: D ground truth: C\n",
      "\n",
      "空前后的词 [['plan', 'to'], ['what', 'we']]\n",
      "---------12---------\n",
      "$$$ 预测模型: 2  $$$\n",
      "问题: In order to  10  the class, among other criteria, we had to write a paper on how we plan to  11  what we would learn in class to our future professions and,  12 , to our lives.\n",
      "选项: [['eventually'], ['naturally'], ['directly'], ['normally']]\n",
      "predict: A ground truth: A\n",
      "\n",
      "空前后的词 [['<s>', '<s>'], ['<s>', '<s>']]\n",
      "---------13---------\n",
      "$$$ 预测模型: 2  $$$\n",
      "问题: I managed to get an A in that 13  and learned life lessons that have served me well beyond the  14 .Ten years after my chess class with Ashley, I'm still putting to use what he  15  me :\"The absolute most important  16  that you learn when you play chess is how to make good  17 .\n",
      "选项: [['game'], ['presentation'], ['course'], ['experiment']]\n",
      "predict: C ground truth: C\n",
      "\n",
      "空前后的词 [['in', 'that'], ['and', 'learned']]\n",
      "---------14---------\n",
      "$$$ 预测模型: 2  $$$\n",
      "问题: I managed to get an A in that 13  and learned life lessons that have served me well beyond the  14 .Ten years after my chess class with Ashley, I'm still putting to use what he  15  me :\"The absolute most important  16  that you learn when you play chess is how to make good  17 .\n",
      "选项: [['criterion'], ['classroom'], ['department'], ['situation']]\n",
      "predict: B ground truth: B\n",
      "\n",
      "空前后的词 [['beyond', 'the'], ['<s>', '<s>']]\n",
      "---------15---------\n",
      "$$$ 预测模型: 2  $$$\n",
      "问题: I managed to get an A in that 13  and learned life lessons that have served me well beyond the  14 .Ten years after my chess class with Ashley, I'm still putting to use what he  15  me :\"The absolute most important  16  that you learn when you play chess is how to make good  17 .\n",
      "选项: [['taught'], ['wrote'], ['questioned'], ['promised']]\n",
      "predict: A ground truth: A\n",
      "\n",
      "空前后的词 [['what', 'he'], ['me', ':the']]\n",
      "---------16---------\n",
      "$$$ 预测模型: 2  $$$\n",
      "问题: I managed to get an A in that 13  and learned life lessons that have served me well beyond the  14 .Ten years after my chess class with Ashley, I'm still putting to use what he  15  me :\"The absolute most important  16  that you learn when you play chess is how to make good  17 .\n",
      "选项: [['fact'], ['step'], ['manner'], ['skill']]\n",
      "predict: D ground truth: D\n",
      "\n",
      "空前后的词 [['most', 'important'], ['that', 'you']]\n",
      "---------17---------\n",
      "$$$ 预测模型: 3  $$$\n",
      "问题: I managed to get an A in that 13  and learned life lessons that have served me well beyond the  14 .Ten years after my chess class with Ashley, I'm still putting to use what he  15  me :\"The absolute most important  16  that you learn when you play chess is how to make good  17 .\n",
      "选项: [['grades'], ['decisions'], ['impressions'], ['comments']]\n",
      "predict: B ground truth: B\n",
      "\n",
      "空前后的词 [['make', 'good'], ['<s>', '<s>']]\n",
      "---------18---------\n",
      "$$$ 预测模型: 2  $$$\n",
      "问题: On every single move you have to 18  a situation, process what your opponent is doing and  19  the best move from among all your options.\"\n",
      "选项: [['analyze'], ['describe'], ['rebuild'], ['control']]\n",
      "predict: B ground truth: A\n",
      "\n",
      "空前后的词 [['have', 'to'], ['a', 'situation']]\n",
      "---------19---------\n",
      "$$$ 预测模型: 2  $$$\n",
      "问题: On every single move you have to 18  a situation, process what your opponent is doing and  19  the best move from among all your options.\"\n",
      "选项: [['announce'], ['signal'], ['block'], ['evaluate']]\n",
      "predict: C ground truth: D\n",
      "\n",
      "空前后的词 [['doing', 'and'], ['the', 'best']]\n",
      "---------20---------\n",
      "$$$ 预测模型: 2  $$$\n",
      "问题: These words still ring true today in my  20  as a journalist.\n",
      "选项: [['role'], ['desire'], ['concern'], ['behavior']]\n",
      "predict: A ground truth: A\n",
      "\n",
      "空前后的词 [['in', 'my'], ['as', 'a']]\n",
      "accuracy: 0.5666666666666667  model3: 10  model2: 50\n"
     ]
    }
   ],
   "source": [
    "test(content_list,sentence_list,options_list,answers_list,showAll=True)"
   ]
  },
  {
   "cell_type": "markdown",
   "metadata": {},
   "source": [
    "功能测试代码。"
   ]
  },
  {
   "cell_type": "code",
   "execution_count": 56,
   "metadata": {
    "ExecuteTime": {
     "end_time": "2019-12-22T10:58:54.137943Z",
     "start_time": "2019-12-22T10:58:54.084235Z"
    },
    "scrolled": true
   },
   "outputs": [
    {
     "name": "stdout",
     "output_type": "stream",
     "text": [
      "(S\n",
      "  (NP I/PRP)\n",
      "  (VERB_CON (VERB took/VBD off/RP) (NP my/PRP$ T-shirt/NN))\n",
      "  and/CC\n",
      "  (VERB_CON (VERB stared/VBD) (P into/IN) (NP the/DT water/NN))\n",
      "  ./.)\n",
      "[['took', 'off', 'my', 'T-shirt'], ['stared', 'into', 'the', 'water']]\n"
     ]
    }
   ],
   "source": [
    "\n",
    "sentence = 'I took off my T-shirt and  stared    into the water.'\n",
    "# opt_word = \n",
    "\n",
    "# ‘<XX>’ 代表XX类型的词 ‘<XX>?’代表必须含有这个类型的词1或者0次 '<XX>*‘表示含有有这个类型的词0或者多次 '<XX>+'表示一定含有这个词\n",
    "\n",
    "# NP DT:限定词 JJ:形容词 NNP:专有名词 NN:名词单数 NNS:名词复数\n",
    "# Preposition\n",
    "# Verb\n",
    "# PP -> P NP\n",
    "# VP -> V (NP|PP)*\n",
    "\n",
    "reg_parser = RegexpParser('''\n",
    "        NP: {<PRP.*>?<MD>?<PRP$>?<DT>?<JJ.*>*<NN.*>*}   \n",
    "         P: {<IN>}    \n",
    "      VERB: {<RB.*>?<V.*>?<RB.*>?<TO>*<RP>?}                \n",
    "  VERB_CON: {<VERB>+<NP>?<P>?<NP>?}             \n",
    "''')\n",
    "\n",
    "test_sent = \"Mr. Obama played a big role in the insurance bill\"\n",
    "# test_sent = \"He'd moved to England with his mum\"\n",
    "test_sent_pos = nltk.pos_tag(nltk.word_tokenize(sentence))\n",
    "sentence_tree = reg_parser.parse(test_sent_pos)\n",
    "print(sentence_tree)\n",
    "# sentence_tree.draw()\n",
    "\n",
    "def get_words_from_tree(tree,word_list):\n",
    "    if isinstance(tree, Tree): \n",
    "        for i in range(len(tree)):\n",
    "            get_words_from_tree(tree[i],word_list)\n",
    "    else:\n",
    "        word_list.append(tree[0])\n",
    "\n",
    "\n",
    "temp_list = []\n",
    "for child in sentence_tree:\n",
    "    if isinstance(child, Tree):               \n",
    "        if child.label() == 'VERB_CON' or child.label() == 'NP':\n",
    "            if len(child)>1 and len(child)<5:\n",
    "                item = []\n",
    "                get_words_from_tree(child,item)\n",
    "                temp_list.append(item)\n",
    "                \n",
    "print(temp_list)"
   ]
  },
  {
   "cell_type": "code",
   "execution_count": 57,
   "metadata": {
    "ExecuteTime": {
     "end_time": "2019-12-22T10:58:54.302785Z",
     "start_time": "2019-12-22T10:58:54.140798Z"
    }
   },
   "outputs": [
    {
     "ename": "AttributeError",
     "evalue": "'list' object has no attribute 'replace'",
     "output_type": "error",
     "traceback": [
      "\u001b[0;31m---------------------------------------------------------------------------\u001b[0m",
      "\u001b[0;31mAttributeError\u001b[0m                            Traceback (most recent call last)",
      "\u001b[0;32m<ipython-input-57-73ecbdfec2ec>\u001b[0m in \u001b[0;36m<module>\u001b[0;34m()\u001b[0m\n\u001b[0;32m----> 1\u001b[0;31m \u001b[0mblock\u001b[0m \u001b[0;34m=\u001b[0m \u001b[0mget_sentence_option_block\u001b[0m\u001b[0;34m(\u001b[0m\u001b[0mcontent_list\u001b[0m\u001b[0;34m[\u001b[0m\u001b[0;36m0\u001b[0m\u001b[0;34m]\u001b[0m\u001b[0;34m[\u001b[0m\u001b[0;36m8\u001b[0m\u001b[0;34m]\u001b[0m\u001b[0;34m,\u001b[0m\u001b[0;36m9\u001b[0m\u001b[0;34m,\u001b[0m\u001b[0moptions_list\u001b[0m\u001b[0;34m[\u001b[0m\u001b[0;36m0\u001b[0m\u001b[0;34m]\u001b[0m\u001b[0;34m[\u001b[0m\u001b[0;36m8\u001b[0m\u001b[0;34m]\u001b[0m\u001b[0;34m)\u001b[0m\u001b[0;34m\u001b[0m\u001b[0m\n\u001b[0m\u001b[1;32m      2\u001b[0m \u001b[0mprint\u001b[0m\u001b[0;34m(\u001b[0m\u001b[0mblock\u001b[0m\u001b[0;34m)\u001b[0m\u001b[0;34m\u001b[0m\u001b[0m\n",
      "\u001b[0;32m<ipython-input-51-b5330e353153>\u001b[0m in \u001b[0;36mget_sentence_option_block\u001b[0;34m(sentence, index, options)\u001b[0m\n\u001b[1;32m      2\u001b[0m     \u001b[0;31m#用A选项替换空中的标号\u001b[0m\u001b[0;34m\u001b[0m\u001b[0;34m\u001b[0m\u001b[0m\n\u001b[1;32m      3\u001b[0m     \u001b[0mA\u001b[0m \u001b[0;34m=\u001b[0m \u001b[0moptions\u001b[0m\u001b[0;34m[\u001b[0m\u001b[0;36m0\u001b[0m\u001b[0;34m]\u001b[0m\u001b[0;34m\u001b[0m\u001b[0m\n\u001b[0;32m----> 4\u001b[0;31m     \u001b[0msentence\u001b[0m \u001b[0;34m=\u001b[0m \u001b[0msentence\u001b[0m\u001b[0;34m.\u001b[0m\u001b[0mreplace\u001b[0m\u001b[0;34m(\u001b[0m\u001b[0;34m' '\u001b[0m\u001b[0;34m+\u001b[0m\u001b[0mstr\u001b[0m\u001b[0;34m(\u001b[0m\u001b[0mindex\u001b[0m\u001b[0;34m)\u001b[0m\u001b[0;34m+\u001b[0m\u001b[0;34m' '\u001b[0m\u001b[0;34m,\u001b[0m\u001b[0;34m' '\u001b[0m\u001b[0;34m.\u001b[0m\u001b[0mjoin\u001b[0m\u001b[0;34m(\u001b[0m\u001b[0mA\u001b[0m\u001b[0;34m)\u001b[0m\u001b[0;34m)\u001b[0m\u001b[0;34m\u001b[0m\u001b[0m\n\u001b[0m\u001b[1;32m      5\u001b[0m     \u001b[0msentence\u001b[0m \u001b[0;34m=\u001b[0m \u001b[0msentence\u001b[0m\u001b[0;34m.\u001b[0m\u001b[0mreplace\u001b[0m\u001b[0;34m(\u001b[0m\u001b[0mstr\u001b[0m\u001b[0;34m(\u001b[0m\u001b[0mindex\u001b[0m\u001b[0;34m)\u001b[0m\u001b[0;34m+\u001b[0m\u001b[0;34m' '\u001b[0m\u001b[0;34m,\u001b[0m\u001b[0;34m' '\u001b[0m\u001b[0;34m.\u001b[0m\u001b[0mjoin\u001b[0m\u001b[0;34m(\u001b[0m\u001b[0mA\u001b[0m\u001b[0;34m)\u001b[0m\u001b[0;34m)\u001b[0m\u001b[0;34m\u001b[0m\u001b[0m\n\u001b[1;32m      6\u001b[0m     \u001b[0msentence\u001b[0m \u001b[0;34m=\u001b[0m \u001b[0msentence\u001b[0m\u001b[0;34m.\u001b[0m\u001b[0mreplace\u001b[0m\u001b[0;34m(\u001b[0m\u001b[0;34m' '\u001b[0m\u001b[0;34m+\u001b[0m\u001b[0mstr\u001b[0m\u001b[0;34m(\u001b[0m\u001b[0mindex\u001b[0m\u001b[0;34m)\u001b[0m\u001b[0;34m,\u001b[0m\u001b[0;34m' '\u001b[0m\u001b[0;34m.\u001b[0m\u001b[0mjoin\u001b[0m\u001b[0;34m(\u001b[0m\u001b[0mA\u001b[0m\u001b[0;34m)\u001b[0m\u001b[0;34m)\u001b[0m\u001b[0;34m\u001b[0m\u001b[0m\n",
      "\u001b[0;31mAttributeError\u001b[0m: 'list' object has no attribute 'replace'"
     ]
    }
   ],
   "source": [
    "block = get_sentence_option_block(content_list[0][8],9,options_list[0][8])\n",
    "print(block)"
   ]
  }
 ],
 "metadata": {
  "kernelspec": {
   "display_name": "Python 3",
   "language": "python",
   "name": "python3"
  }
 },
 "nbformat": 4,
 "nbformat_minor": 2
}
