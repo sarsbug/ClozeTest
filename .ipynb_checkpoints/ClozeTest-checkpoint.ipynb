{
 "cells": [
  {
   "cell_type": "code",
   "execution_count": 60,
   "metadata": {
    "ExecuteTime": {
     "end_time": "2019-12-18T00:53:35.048204Z",
     "start_time": "2019-12-18T00:53:35.028373Z"
    },
    "collapsed": true
   },
   "outputs": [],
   "source": [
    "import torch\n",
    "import torch.autograd as autograd\n",
    "import torch.nn as nn\n",
    "import torch.nn.functional as F\n",
    "import torch.optim as optim\n",
    "import glob \n",
    "import json\n",
    "import re\n",
    "import string\n",
    "import operator\n",
    "import collections\n",
    "import numpy as np\n",
    "import string\n",
    "import math\n",
    "from tqdm import tqdm\n",
    "from array import array\n",
    "import pandas as pd"
   ]
  },
  {
   "cell_type": "code",
   "execution_count": 2,
   "metadata": {
    "ExecuteTime": {
     "end_time": "2019-12-18T00:28:18.190499Z",
     "start_time": "2019-12-18T00:28:18.187580Z"
    },
    "collapsed": true
   },
   "outputs": [],
   "source": [
    "NONE_STR = '<s>'"
   ]
  },
  {
   "cell_type": "code",
   "execution_count": 3,
   "metadata": {
    "ExecuteTime": {
     "end_time": "2019-12-18T00:28:18.306427Z",
     "start_time": "2019-12-18T00:28:18.192482Z"
    },
    "collapsed": true
   },
   "outputs": [],
   "source": [
    "def delete_other_letter(line):\n",
    "    punctuation =\"\"\"!\"#$%&\\()*+,./:;<=>?@[\\\\]^_`{|}~\\\\n\"\"\"\n",
    "    re_punctuation =\"[{}]+\".format(punctuation)\n",
    "    line =re.sub(re_punctuation, \"\", line)\n",
    "    return line.lower()"
   ]
  },
  {
   "cell_type": "code",
   "execution_count": 4,
   "metadata": {
    "ExecuteTime": {
     "end_time": "2019-12-18T00:28:18.438935Z",
     "start_time": "2019-12-18T00:28:18.417324Z"
    },
    "collapsed": true
   },
   "outputs": [],
   "source": [
    "def read_articles(paths):\n",
    "    alllines = []\n",
    "    for path in paths:\n",
    "        filenames = glob.glob(path+\"/*txt\")\n",
    "        for filename in filenames:\n",
    "            with open(filename, 'r', encoding='utf-8') as fpr:\n",
    "                data_raw = json.load(fpr)\n",
    "                article = data_raw['article']\n",
    "                \n",
    "                lines = article.split('.')\n",
    "                for line in lines:\n",
    "                    line = delete_other_letter(line)\n",
    "                    alllines.append(line)\n",
    "                \n",
    "    return alllines"
   ]
  },
  {
   "cell_type": "code",
   "execution_count": 5,
   "metadata": {
    "ExecuteTime": {
     "end_time": "2019-12-18T00:28:24.425142Z",
     "start_time": "2019-12-18T00:28:18.696981Z"
    },
    "collapsed": true
   },
   "outputs": [],
   "source": [
    "lines = read_articles(['./RACE/train/high','./RACE/train/middle'])"
   ]
  },
  {
   "cell_type": "code",
   "execution_count": 6,
   "metadata": {
    "ExecuteTime": {
     "end_time": "2019-12-18T00:28:24.431619Z",
     "start_time": "2019-12-18T00:28:24.427491Z"
    },
    "scrolled": true
   },
   "outputs": [
    {
     "name": "stdout",
     "output_type": "stream",
     "text": [
      "499388\n"
     ]
    }
   ],
   "source": [
    "print(len(lines))"
   ]
  },
  {
   "cell_type": "code",
   "execution_count": 7,
   "metadata": {
    "ExecuteTime": {
     "end_time": "2019-12-18T00:28:24.546305Z",
     "start_time": "2019-12-18T00:28:24.433662Z"
    },
    "collapsed": true
   },
   "outputs": [],
   "source": [
    "# def word_dict(lines):\n",
    "#     word_freq = collections.defaultdict(int)\n",
    "#     for line in lines:\n",
    "#         for w in line.split(): \n",
    "#             word_freq[w] += 1\n",
    "    \n",
    "#     return list(word_freq.keys())"
   ]
  },
  {
   "cell_type": "code",
   "execution_count": 8,
   "metadata": {
    "ExecuteTime": {
     "end_time": "2019-12-18T00:28:24.690168Z",
     "start_time": "2019-12-18T00:28:24.549419Z"
    },
    "collapsed": true
   },
   "outputs": [],
   "source": [
    "# def get_words_matrix(words,lines):                                                                                                                                                                                                                                                                                                                                                                                                                                                                                                                                                                                                                                                                                                                                                                                                                                                                                                                                                                                                                                                                                                                                                                                                                                                                                                                                                                                                                                                                                                                                                                                                                                                                                                                                                                                                                                                                                                                                                                                                                                                                                                                                                                                                                                                                                                                                                                                                                                                                                                                                                                                                                                                                                                                                                                                                                                                                                                                                                                                                                                                                                                                                                                                                                                                                                                                                                                                                                                                                                                                                                                                                                                                                                                                                                                                                                                                                                                                                                                                                                                                                                                                                                                                                                                                                                                                                                                                                                                                                                                                                                                                                                                                                                                                                                                                                                                                                                                               \n",
    "#     for line in lines:\n",
    "#         line_words = line.split()\n",
    "#         n = len(line_words)\n",
    "#         for i in range(n-1):\n",
    "#             ww = line_words[i+1]\n",
    "#             i = words.index(line_words[i])\n",
    "#             j = words.index(ww)\n",
    "#             words_matrix[i][j] += 1"
   ]
  },
  {
   "cell_type": "code",
   "execution_count": 31,
   "metadata": {
    "ExecuteTime": {
     "end_time": "2019-12-18T00:39:55.559419Z",
     "start_time": "2019-12-18T00:39:55.537286Z"
    },
    "collapsed": true
   },
   "outputs": [],
   "source": [
    "def word_dict(lines,n):\n",
    "                \n",
    "    pre_words = collections.defaultdict(int)\n",
    "    be_words = collections.defaultdict(int)\n",
    "    n = n-1\n",
    "    for line in lines:\n",
    "        for k in range(n):\n",
    "            line = NONE_STR+' '+line+' '+NONE_STR\n",
    "        line_words = line.split()\n",
    "        for i in range(len(line_words)-(n-1)):\n",
    "            ngramTemp = ' '.join(line_words[i:i+n])\n",
    "\n",
    "            pre_words[ngramTemp] += 1\n",
    "            be_words[line_words[i]] += 1\n",
    "            \n",
    "    return pre_words,be_words"
   ]
  },
  {
   "cell_type": "code",
   "execution_count": 10,
   "metadata": {
    "ExecuteTime": {
     "end_time": "2019-12-18T00:28:24.942244Z",
     "start_time": "2019-12-18T00:28:24.849396Z"
    },
    "collapsed": true
   },
   "outputs": [],
   "source": [
    "punctuation_list = ['.',',','?','!','\\\"','“']"
   ]
  },
  {
   "cell_type": "code",
   "execution_count": 11,
   "metadata": {
    "ExecuteTime": {
     "end_time": "2019-12-18T00:28:25.050483Z",
     "start_time": "2019-12-18T00:28:24.944822Z"
    },
    "collapsed": true
   },
   "outputs": [],
   "source": [
    "def has_punctuation(word):\n",
    "    for puc in punctuation_list:\n",
    "        if word.find(puc) != -1 :\n",
    "            return True\n",
    "    return False"
   ]
  },
  {
   "cell_type": "code",
   "execution_count": 12,
   "metadata": {
    "ExecuteTime": {
     "end_time": "2019-12-18T00:28:25.170535Z",
     "start_time": "2019-12-18T00:28:25.053942Z"
    },
    "collapsed": true
   },
   "outputs": [],
   "source": [
    "def replace_punctuation(word):\n",
    "    for puc in punctuation_list:\n",
    "        word = word.replace(puc,'')\n",
    "    return word"
   ]
  },
  {
   "cell_type": "code",
   "execution_count": 13,
   "metadata": {
    "ExecuteTime": {
     "end_time": "2019-12-18T00:28:25.290167Z",
     "start_time": "2019-12-18T00:28:25.196191Z"
    },
    "collapsed": true
   },
   "outputs": [],
   "source": [
    "def replace_Chinese_punctuation(content):\n",
    "    content = content.replace('’','\\'')\n",
    "    content = content.replace('”','')\n",
    "    return content"
   ]
  },
  {
   "cell_type": "code",
   "execution_count": 14,
   "metadata": {
    "ExecuteTime": {
     "end_time": "2019-12-18T00:28:25.439224Z",
     "start_time": "2019-12-18T00:28:25.293077Z"
    },
    "collapsed": true
   },
   "outputs": [],
   "source": [
    "def get_options(options_str):\n",
    "    options_str = replace_Chinese_punctuation(options_str)\n",
    "    options = []\n",
    "    opt_rows = options_str.split('#')\n",
    "    for opt in opt_rows:\n",
    "        indexA = opt.find('A.')\n",
    "        indexB = opt.find('B.')\n",
    "        indexC = opt.find('C.')\n",
    "        indexD = opt.find('D.')\n",
    "        As = opt[indexA+2:indexB].strip().lower().split(' ')\n",
    "        Bs = opt[indexB+2:indexC].strip().lower().split(' ')\n",
    "        Cs = opt[indexC+2:indexD].strip().lower().split(' ')\n",
    "        Ds = opt[indexD+2:].strip().lower().split(' ')\n",
    "        options.append([As,Bs,Cs,Ds])\n",
    "    return options"
   ]
  },
  {
   "cell_type": "code",
   "execution_count": 15,
   "metadata": {
    "ExecuteTime": {
     "end_time": "2019-12-18T00:28:25.554949Z",
     "start_time": "2019-12-18T00:28:25.442524Z"
    },
    "collapsed": true
   },
   "outputs": [],
   "source": [
    "def probability(word1,word2):\n",
    "    eclipse = 0.0000000000001\n",
    "    try:\n",
    "        index1 = pre_words.index(word1)\n",
    "        index2 = be_words.index(word2)\n",
    "    except ValueError:\n",
    "        return eclipse\n",
    "#     print(word1,index1,word2,index2)\n",
    "    pn_word1 = words_matrix[index1].sum()\n",
    "    pn_word2_under_word1 = words_matrix[index1][index2]\n",
    "#     print(pn_word1,pn_word2_under_word1)\n",
    "    prob = float(pn_word2_under_word1)/pn_word1\n",
    "    if prob == 0:\n",
    "        prob = eclipse\n",
    "    return prob"
   ]
  },
  {
   "cell_type": "code",
   "execution_count": 16,
   "metadata": {
    "ExecuteTime": {
     "end_time": "2019-12-18T00:28:25.722868Z",
     "start_time": "2019-12-18T00:28:25.558190Z"
    },
    "collapsed": true
   },
   "outputs": [],
   "source": [
    "def read_train_data(n):\n",
    "    path = './data'\n",
    "    filenames = glob.glob(path+\"/*txt\")\n",
    "    \n",
    "    answers_list =[]\n",
    "    options_list = []\n",
    "    content_list = []\n",
    "    for filename in filenames:\n",
    "        with open(filename, 'r', encoding='utf-8') as fpr:\n",
    "            data_raw = json.load(fpr)\n",
    "            article = data_raw['article']\n",
    "            content = get_pre_and_be_words(article,n)\n",
    "            options_str = data_raw['options']\n",
    "            options = get_options(options_str)\n",
    "            answers = list(data_raw['answers'])\n",
    "            answers_list.append(answers)\n",
    "            options_list.append(options)\n",
    "            content_list.append(content)\n",
    "    return content_list,options_list,answers_list"
   ]
  },
  {
   "cell_type": "code",
   "execution_count": 17,
   "metadata": {
    "ExecuteTime": {
     "end_time": "2019-12-18T00:28:25.842439Z",
     "start_time": "2019-12-18T00:28:25.726049Z"
    },
    "collapsed": true
   },
   "outputs": [],
   "source": [
    "def auto_select(question,option):\n",
    "    index = 0\n",
    "    maxprob = -10000000000\n",
    "    n = len(option)\n",
    "    for i in range(n):\n",
    "#         prob = math.log(probability(question[0],option[i][0]))+math.log(probability(option[i][-1],question[1]))\n",
    "        prob = probability(question,option[i][0])\n",
    "        if prob > maxprob:\n",
    "            maxprob = prob\n",
    "            index = i\n",
    "    return chr(ord('A')+index)"
   ]
  },
  {
   "cell_type": "code",
   "execution_count": 18,
   "metadata": {
    "ExecuteTime": {
     "end_time": "2019-12-18T00:28:26.005575Z",
     "start_time": "2019-12-18T00:28:25.845728Z"
    },
    "collapsed": true
   },
   "outputs": [],
   "source": [
    "def test(content_list,options_list,answers_list,showAll=False,predict=None):\n",
    "    \n",
    "    cn = len(content_list)\n",
    "    right_n = 0\n",
    "    total_n = 0\n",
    "    for k in range(cn):\n",
    "        content = content_list[k]\n",
    "        answers = answers_list[k]\n",
    "        options = options_list[k]\n",
    "    \n",
    "        n = len(answers)\n",
    "        total_n += n\n",
    "        for i in range(n):\n",
    "            if showAll:\n",
    "                print('---------'+str(i+1)+'---------')\n",
    "            if predict is None:\n",
    "                choice = auto_select(content[i],options[i])\n",
    "            else:\n",
    "                choice = predict\n",
    "            if choice == answers[i]:\n",
    "                right_n += 1\n",
    "                if showAll == False:\n",
    "                    print('---------'+str(i+1)+'---------')\n",
    "                    print('predict:',choice,'ground_true:',answers[i])\n",
    "                    print('空的前后词',content[i])\n",
    "                    print('选项',options[i])\n",
    "            if showAll:\n",
    "                print('predict:',choice,'ground_true:',answers[i])\n",
    "                print('空的前后词',content[i])\n",
    "                print('选项',options[i])\n",
    "    accuracy = float(right_n)/total_n\n",
    "    print('accuracy:',accuracy)"
   ]
  },
  {
   "cell_type": "code",
   "execution_count": 61,
   "metadata": {
    "ExecuteTime": {
     "end_time": "2019-12-18T00:58:59.747586Z",
     "start_time": "2019-12-18T00:58:59.739951Z"
    },
    "collapsed": true
   },
   "outputs": [],
   "source": [
    "def get_index(wlist,w):\n",
    "    n = len(wlist)\n",
    "    for i in range(n):\n",
    "        if wlist[i] == w:\n",
    "            return i"
   ]
  },
  {
   "cell_type": "code",
   "execution_count": 53,
   "metadata": {
    "ExecuteTime": {
     "end_time": "2019-12-18T00:50:04.148828Z",
     "start_time": "2019-12-18T00:50:04.087716Z"
    },
    "collapsed": true
   },
   "outputs": [],
   "source": [
    "def get_words_matrix(pre_words,be_words,lines,n):  \n",
    "    n = n-1\n",
    "    for line in tqdm(lines):\n",
    "        for k in range(n):\n",
    "            line = NONE_STR+' '+line+' '+NONE_STR\n",
    "        line_words = line.split()\n",
    "        words_n = len(line_words)-n\n",
    "        for k in range(words_n):\n",
    "            pre_word = ' '.join(line_words[k:k+n])\n",
    "                \n",
    "            be_word = line_words[k+n]\n",
    "            \n",
    "            if pre_word in pre_words:\n",
    "#                 i = pre_words.index(pre_word)\n",
    "#                 j = be_words.index(be_word)\n",
    "                i = get_index(pre_words,pre_word)\n",
    "                j = get_index(be_words,be_word)\n",
    "                words_matrix[i][j] += 1\n",
    "                    \n",
    "#             if n > 1:\n",
    "#                 if pre_word in pre_words:\n",
    "#                     i = pre_words.index(pre_word)\n",
    "#                     j = be_words.index(be_word)\n",
    "#                     words_matrix[i][j] += 1\n",
    "#             else:\n",
    "#                 i = pre_words.index(pre_word)\n",
    "#                 j = be_words.index(be_word)\n",
    "#                 words_matrix[i][j] += 1\n",
    "            \n",
    "    return words_matrix"
   ]
  },
  {
   "cell_type": "code",
   "execution_count": 20,
   "metadata": {
    "ExecuteTime": {
     "end_time": "2019-12-18T00:28:26.270582Z",
     "start_time": "2019-12-18T00:28:26.121090Z"
    },
    "collapsed": true
   },
   "outputs": [],
   "source": [
    "def get_pre_and_be_words(article,ngram):\n",
    "    article = replace_Chinese_punctuation(article)\n",
    "    art_words = article.split()\n",
    "    n = len(art_words)\n",
    "    index = 1\n",
    "    content = []\n",
    "    for i in range(n):\n",
    "        word = art_words[i]\n",
    "        if str(index) == word:\n",
    "            pre_word = ''\n",
    "            if i < ngram-1:\n",
    "                for k in range(ngram-1-i):\n",
    "                    pre_word += NONE_STR\n",
    "            else:\n",
    "#                 pre_word = art_words[i-1-(ngram-2):i-1]\n",
    "                pre_word = pre_word.join(art_words[i-1-(ngram-2):i])\n",
    "            if has_punctuation(pre_word):\n",
    "                pre_word = ''\n",
    "                for k in range(ngram-1):\n",
    "                    pre_word += NONE_STR\n",
    "            pre_word = replace_punctuation(pre_word)\n",
    "            content.append(pre_word.lower())\n",
    "            index += 1\n",
    "    return content"
   ]
  },
  {
   "cell_type": "markdown",
   "metadata": {},
   "source": [
    "<font color=blue size=15 face=雅黑>bigram Test</font>"
   ]
  },
  {
   "cell_type": "code",
   "execution_count": 21,
   "metadata": {
    "ExecuteTime": {
     "end_time": "2019-12-17T02:24:09.648272Z",
     "start_time": "2019-12-17T02:24:01.509268Z"
    },
    "collapsed": true
   },
   "outputs": [],
   "source": [
    "pre_words_dict,be_words_dict = word_dict(lines,2)"
   ]
  },
  {
   "cell_type": "code",
   "execution_count": 22,
   "metadata": {
    "ExecuteTime": {
     "end_time": "2019-12-17T02:24:09.659670Z",
     "start_time": "2019-12-17T02:24:09.650841Z"
    },
    "collapsed": true
   },
   "outputs": [],
   "source": [
    "pre_words = list(pre_words_dict.keys())\n",
    "be_words = list(be_words_dict.keys())"
   ]
  },
  {
   "cell_type": "code",
   "execution_count": 23,
   "metadata": {
    "ExecuteTime": {
     "end_time": "2019-12-17T02:24:09.775104Z",
     "start_time": "2019-12-17T02:24:09.662915Z"
    }
   },
   "outputs": [
    {
     "name": "stdout",
     "output_type": "stream",
     "text": [
      "(146579, 146579)\n"
     ]
    }
   ],
   "source": [
    "m = len(pre_words)\n",
    "n = len(be_words)\n",
    "words_matrix = np.zeros((m,n),dtype=np.int32) \n",
    "print(words_matrix.shape)"
   ]
  },
  {
   "cell_type": "code",
   "execution_count": 24,
   "metadata": {
    "ExecuteTime": {
     "end_time": "2019-12-17T02:48:20.173135Z",
     "start_time": "2019-12-17T02:24:09.777260Z"
    },
    "scrolled": false
   },
   "outputs": [
    {
     "name": "stderr",
     "output_type": "stream",
     "text": [
      "100%|██████████| 499388/499388 [24:10<00:00, 344.35it/s]\n"
     ]
    }
   ],
   "source": [
    "words_matrix = get_words_matrix(pre_words,be_words,lines,2)"
   ]
  },
  {
   "cell_type": "code",
   "execution_count": 25,
   "metadata": {
    "ExecuteTime": {
     "end_time": "2019-12-17T02:48:20.180576Z",
     "start_time": "2019-12-17T02:48:20.175644Z"
    },
    "collapsed": true,
    "scrolled": true
   },
   "outputs": [],
   "source": [
    "content_list,options_list,answers_list = read_train_data(2)"
   ]
  },
  {
   "cell_type": "code",
   "execution_count": 29,
   "metadata": {
    "ExecuteTime": {
     "end_time": "2019-12-17T02:20:55.779429Z",
     "start_time": "2019-12-17T02:20:55.653313Z"
    }
   },
   "outputs": [
    {
     "name": "stdout",
     "output_type": "stream",
     "text": [
      "[\"i'd\", 'my', 'was', 'to', 'was', 'little', 'in', 'not', 'and', 'was', 'helped', 'something', 'very', 'i', '<s>', 'to', 'ben', '<s>', 'a', 'there']\n"
     ]
    }
   ],
   "source": [
    "print(content_list[0])"
   ]
  },
  {
   "cell_type": "code",
   "execution_count": 30,
   "metadata": {
    "ExecuteTime": {
     "end_time": "2019-12-17T02:20:55.910022Z",
     "start_time": "2019-12-17T02:20:55.782975Z"
    },
    "scrolled": true
   },
   "outputs": [
    {
     "name": "stdout",
     "output_type": "stream",
     "text": [
      "[[['also'], ['often'], ['even'], ['last']], [['delight'], ['relief'], ['anger'], ['worry']], [['scared'], ['shocked'], ['thrilled'], ['ashamed']], [['talk'], ['stay'], ['meet'], ['settle']], [['bathed'], ['clean'], ['deep'], ['formed']], [['faster'], ['closer'], ['heavier'], ['wiser']], [['trouble'], ['advance'], ['question'], ['battle']], [['real'], ['right'], ['fair'], ['fit']], [['stared'], ['sank'], ['dived'], ['fell']], [['arguing'], ['fighting'], ['shouting'], ['shaking']], [['lead'], ['persuade'], ['carry'], ['keep']], [['happened'], ['occurred'], ['applied'], ['appealed']], [['sharp'], ['pleasant'], ['attractive'], ['familiar']], [['agreed'], ['hesitated'], ['doubted'], ['knew']], [['fortunately'], ['frankly'], ['sadly'], ['suddenly']], [['return'], ['relax'], ['speak'], ['leave']], [['joked'], ['turned'], ['listened'], ['pointed']], [['created'], ['honored'], ['saved'], ['guided']], [['coincidence'], ['change'], ['pity'], ['pain']], [['on', 'board'], ['in', 'time'], ['for', 'sure'], ['on', 'purpose']]]\n"
     ]
    }
   ],
   "source": [
    "print(options_list[0])"
   ]
  },
  {
   "cell_type": "code",
   "execution_count": 31,
   "metadata": {
    "ExecuteTime": {
     "end_time": "2019-12-17T02:20:56.174303Z",
     "start_time": "2019-12-17T02:20:55.912872Z"
    }
   },
   "outputs": [
    {
     "name": "stdout",
     "output_type": "stream",
     "text": [
      "['D', 'A', 'C', 'C', 'A', 'B', 'A', 'B', 'C', 'D', 'C', 'B', 'D', 'D', 'A', 'D', 'B', 'C', 'A', 'B']\n"
     ]
    }
   ],
   "source": [
    "print(answers_list[0])"
   ]
  },
  {
   "cell_type": "markdown",
   "metadata": {},
   "source": [
    "<font color=black size=5 face=雅黑>全选A/B/C/D 观察正确率</font>"
   ]
  },
  {
   "cell_type": "code",
   "execution_count": 35,
   "metadata": {
    "ExecuteTime": {
     "end_time": "2019-12-17T02:51:49.978386Z",
     "start_time": "2019-12-17T02:51:49.947283Z"
    },
    "scrolled": true
   },
   "outputs": [
    {
     "name": "stdout",
     "output_type": "stream",
     "text": [
      "---------2---------\n",
      "predict: A ground_true: A\n",
      "空的前后词 my\n",
      "选项 [['delight'], ['relief'], ['anger'], ['worry']]\n",
      "---------5---------\n",
      "predict: A ground_true: A\n",
      "空的前后词 was\n",
      "选项 [['bathed'], ['clean'], ['deep'], ['formed']]\n",
      "---------7---------\n",
      "predict: A ground_true: A\n",
      "空的前后词 in\n",
      "选项 [['trouble'], ['advance'], ['question'], ['battle']]\n",
      "---------15---------\n",
      "predict: A ground_true: A\n",
      "空的前后词 <s>\n",
      "选项 [['fortunately'], ['frankly'], ['sadly'], ['suddenly']]\n",
      "---------19---------\n",
      "predict: A ground_true: A\n",
      "空的前后词 a\n",
      "选项 [['coincidence'], ['change'], ['pity'], ['pain']]\n",
      "---------5---------\n",
      "predict: A ground_true: A\n",
      "空的前后词 could\n",
      "选项 [['see'], ['find'], ['guess'], ['learn']]\n",
      "---------8---------\n",
      "predict: A ground_true: A\n",
      "空的前后词 i\n",
      "选项 [['chatted', 'with'], ['looked', 'at'], ['laughed', 'at'], ['talked', 'about']]\n",
      "---------12---------\n",
      "predict: A ground_true: A\n",
      "空的前后词 and\n",
      "选项 [['left'], ['acted'], ['sat', 'down'], ['calmed', 'down']]\n",
      "---------13---------\n",
      "predict: A ground_true: A\n",
      "空的前后词 had\n",
      "选项 [['wanted'], ['tried'], ['ordered'], ['wished']]\n",
      "---------17---------\n",
      "predict: A ground_true: A\n",
      "空的前后词 i\n",
      "选项 [['must'], ['can'], ['need'], ['may']]\n",
      "---------3---------\n",
      "predict: A ground_true: A\n",
      "空的前后词 weren't\n",
      "选项 [['excited'], ['worried'], ['moved'], ['tired']]\n",
      "---------12---------\n",
      "predict: A ground_true: A\n",
      "空的前后词 <s>\n",
      "选项 [['eventually'], ['naturally'], ['directly'], ['normally']]\n",
      "---------15---------\n",
      "predict: A ground_true: A\n",
      "空的前后词 he\n",
      "选项 [['taught'], ['wrote'], ['questioned'], ['promised']]\n",
      "---------18---------\n",
      "predict: A ground_true: A\n",
      "空的前后词 to\n",
      "选项 [['analyze'], ['describe'], ['rebuild'], ['control']]\n",
      "---------20---------\n",
      "predict: A ground_true: A\n",
      "空的前后词 my\n",
      "选项 [['role'], ['desire'], ['concern'], ['behavior']]\n",
      "accuracy: 0.25\n"
     ]
    }
   ],
   "source": [
    "test(content_list,options_list,answers_list,showAll=False,predict='A')"
   ]
  },
  {
   "cell_type": "code",
   "execution_count": 36,
   "metadata": {
    "ExecuteTime": {
     "end_time": "2019-12-17T02:52:09.007008Z",
     "start_time": "2019-12-17T02:52:08.977664Z"
    },
    "scrolled": true
   },
   "outputs": [
    {
     "name": "stdout",
     "output_type": "stream",
     "text": [
      "---------6---------\n",
      "predict: B ground_true: B\n",
      "空的前后词 little\n",
      "选项 [['faster'], ['closer'], ['heavier'], ['wiser']]\n",
      "---------8---------\n",
      "predict: B ground_true: B\n",
      "空的前后词 not\n",
      "选项 [['real'], ['right'], ['fair'], ['fit']]\n",
      "---------12---------\n",
      "predict: B ground_true: B\n",
      "空的前后词 something\n",
      "选项 [['happened'], ['occurred'], ['applied'], ['appealed']]\n",
      "---------17---------\n",
      "predict: B ground_true: B\n",
      "空的前后词 ben\n",
      "选项 [['joked'], ['turned'], ['listened'], ['pointed']]\n",
      "---------20---------\n",
      "predict: B ground_true: B\n",
      "空的前后词 there\n",
      "选项 [['on', 'board'], ['in', 'time'], ['for', 'sure'], ['on', 'purpose']]\n",
      "---------3---------\n",
      "predict: B ground_true: B\n",
      "空的前后词 newspaper\n",
      "选项 [['flat'], ['open'], ['cut'], ['fixed']]\n",
      "---------7---------\n",
      "predict: B ground_true: B\n",
      "空的前后词 the\n",
      "选项 [['direct'], ['familiar'], ['strange'], ['funny']]\n",
      "---------9---------\n",
      "predict: B ground_true: B\n",
      "空的前后词 as\n",
      "选项 [['the', 'waiter'], ['time'], ['i'], ['the', 'dinner']]\n",
      "---------16---------\n",
      "predict: B ground_true: B\n",
      "空的前后词 my\n",
      "选项 [['care'], ['surprise'], ['worry'], ['regret']]\n",
      "---------18---------\n",
      "predict: B ground_true: B\n",
      "空的前后词 a\n",
      "选项 [['discovery'], ['mistake'], ['decision'], ['fortune']]\n",
      "---------1---------\n",
      "predict: B ground_true: B\n",
      "空的前后词 i\n",
      "选项 [['put', 'forward'], ['jumped', 'at'], ['tried', 'out'], ['turned', 'down']]\n",
      "---------7---------\n",
      "predict: B ground_true: B\n",
      "空的前后词 to\n",
      "选项 [['interview'], ['meet'], ['challenge'], ['beat']]\n",
      "---------10---------\n",
      "predict: B ground_true: B\n",
      "空的前后词 to\n",
      "选项 [['attend'], ['pass'], ['skip'], ['observe']]\n",
      "---------14---------\n",
      "predict: B ground_true: B\n",
      "空的前后词 the\n",
      "选项 [['criterion'], ['classroom'], ['department'], ['situation']]\n",
      "---------17---------\n",
      "predict: B ground_true: B\n",
      "空的前后词 good\n",
      "选项 [['grades'], ['decisions'], ['impressions'], ['comments']]\n",
      "accuracy: 0.25\n"
     ]
    }
   ],
   "source": [
    "test(content_list,options_list,answers_list,showAll=False,predict='B')"
   ]
  },
  {
   "cell_type": "code",
   "execution_count": 37,
   "metadata": {
    "ExecuteTime": {
     "end_time": "2019-12-17T02:52:14.846473Z",
     "start_time": "2019-12-17T02:52:14.816821Z"
    },
    "scrolled": true
   },
   "outputs": [
    {
     "name": "stdout",
     "output_type": "stream",
     "text": [
      "---------3---------\n",
      "predict: C ground_true: C\n",
      "空的前后词 was\n",
      "选项 [['scared'], ['shocked'], ['thrilled'], ['ashamed']]\n",
      "---------4---------\n",
      "predict: C ground_true: C\n",
      "空的前后词 to\n",
      "选项 [['talk'], ['stay'], ['meet'], ['settle']]\n",
      "---------9---------\n",
      "predict: C ground_true: C\n",
      "空的前后词 and\n",
      "选项 [['stared'], ['sank'], ['dived'], ['fell']]\n",
      "---------11---------\n",
      "predict: C ground_true: C\n",
      "空的前后词 helped\n",
      "选项 [['lead'], ['persuade'], ['carry'], ['keep']]\n",
      "---------18---------\n",
      "predict: C ground_true: C\n",
      "空的前后词 <s>\n",
      "选项 [['created'], ['honored'], ['saved'], ['guided']]\n",
      "---------1---------\n",
      "predict: C ground_true: C\n",
      "空的前后词 i\n",
      "选项 [['knew'], ['understood'], ['noticed'], ['recognized']]\n",
      "---------4---------\n",
      "predict: C ground_true: C\n",
      "空的前后词 was\n",
      "选项 [['hoping'], ['thinking'], ['pretending'], ['continuing']]\n",
      "---------10---------\n",
      "predict: C ground_true: C\n",
      "空的前后词 became\n",
      "选项 [['true'], ['hopeful'], ['clear'], ['possible']]\n",
      "---------14---------\n",
      "predict: C ground_true: C\n",
      "空的前后词 he\n",
      "选项 [['met'], ['caught'], ['followed'], ['discovered']]\n",
      "---------20---------\n",
      "predict: C ground_true: C\n",
      "空的前后词 <s>\n",
      "选项 [['thus'], ['however'], ['otherwise'], ['therefore']]\n",
      "---------2---------\n",
      "predict: C ground_true: C\n",
      "空的前后词 to\n",
      "选项 [['waste'], ['earn'], ['save'], ['pay']]\n",
      "---------6---------\n",
      "predict: C ground_true: C\n",
      "空的前后词 game's\n",
      "选项 [['fastest'], ['easiest'], ['best'], ['rarest']]\n",
      "---------9---------\n",
      "predict: C ground_true: C\n",
      "空的前后词 it\n",
      "选项 [['real'], ['perfect'], ['clear'], ['possible']]\n",
      "---------11---------\n",
      "predict: C ground_true: C\n",
      "空的前后词 to\n",
      "选项 [['add'], ['expose'], ['apply'], ['compare']]\n",
      "---------13---------\n",
      "predict: C ground_true: C\n",
      "空的前后词 that\n",
      "选项 [['game'], ['presentation'], ['course'], ['experiment']]\n",
      "accuracy: 0.25\n"
     ]
    }
   ],
   "source": [
    "test(content_list,options_list,answers_list,showAll=False,predict='C')"
   ]
  },
  {
   "cell_type": "code",
   "execution_count": 38,
   "metadata": {
    "ExecuteTime": {
     "end_time": "2019-12-17T02:52:21.288587Z",
     "start_time": "2019-12-17T02:52:21.259033Z"
    },
    "scrolled": true
   },
   "outputs": [
    {
     "name": "stdout",
     "output_type": "stream",
     "text": [
      "---------1---------\n",
      "predict: D ground_true: D\n",
      "空的前后词 i'd\n",
      "选项 [['also'], ['often'], ['even'], ['last']]\n",
      "---------10---------\n",
      "predict: D ground_true: D\n",
      "空的前后词 was\n",
      "选项 [['arguing'], ['fighting'], ['shouting'], ['shaking']]\n",
      "---------13---------\n",
      "predict: D ground_true: D\n",
      "空的前后词 very\n",
      "选项 [['sharp'], ['pleasant'], ['attractive'], ['familiar']]\n",
      "---------14---------\n",
      "predict: D ground_true: D\n",
      "空的前后词 i\n",
      "选项 [['agreed'], ['hesitated'], ['doubted'], ['knew']]\n",
      "---------16---------\n",
      "predict: D ground_true: D\n",
      "空的前后词 to\n",
      "选项 [['return'], ['relax'], ['speak'], ['leave']]\n",
      "---------2---------\n",
      "predict: D ground_true: D\n",
      "空的前后词 <s>\n",
      "选项 [['since'], ['even', 'if'], ['though'], ['as', 'if']]\n",
      "---------6---------\n",
      "predict: D ground_true: D\n",
      "空的前后词 my\n",
      "选项 [['menu'], ['bill'], ['paper'], ['food']]\n",
      "---------11---------\n",
      "predict: D ground_true: D\n",
      "空的前后词 the\n",
      "选项 [['restaurant'], ['washroom'], ['office'], ['kitchen']]\n",
      "---------15---------\n",
      "predict: D ground_true: D\n",
      "空的前后词 he\n",
      "选项 [['was', 'to', 'beat'], ['was', 'dealing', 'with'], ['was', 'to', 'meet'], ['was', 'looking', 'for']]\n",
      "---------19---------\n",
      "predict: D ground_true: D\n",
      "空的前后词 really\n",
      "选项 [['a', 'pity'], ['natural'], ['a', 'chance'], ['lucky']]\n",
      "---------4---------\n",
      "predict: D ground_true: D\n",
      "空的前后词 our\n",
      "选项 [['title'], ['competitor'], ['textbook'], ['instructor']]\n",
      "---------5---------\n",
      "predict: D ground_true: D\n",
      "空的前后词 which\n",
      "选项 [['urged'], ['demanded'], ['held'], ['meant']]\n",
      "---------8---------\n",
      "predict: D ground_true: D\n",
      "空的前后词 this\n",
      "选项 [['chance'], ['qualification'], ['honor'], ['job']]\n",
      "---------16---------\n",
      "predict: D ground_true: D\n",
      "空的前后词 important\n",
      "选项 [['fact'], ['step'], ['manner'], ['skill']]\n",
      "---------19---------\n",
      "predict: D ground_true: D\n",
      "空的前后词 and\n",
      "选项 [['announce'], ['signal'], ['block'], ['evaluate']]\n",
      "accuracy: 0.25\n"
     ]
    }
   ],
   "source": [
    "test(content_list,options_list,answers_list,showAll=False,predict='D')"
   ]
  },
  {
   "cell_type": "markdown",
   "metadata": {
    "ExecuteTime": {
     "end_time": "2019-12-17T02:48:20.529894Z",
     "start_time": "2019-12-17T02:39:27.032Z"
    }
   },
   "source": [
    "<font color=black size=5 face=雅黑>采用bigram模型后，正确率</font>"
   ]
  },
  {
   "cell_type": "code",
   "execution_count": 40,
   "metadata": {
    "ExecuteTime": {
     "end_time": "2019-12-17T02:53:06.884249Z",
     "start_time": "2019-12-17T02:53:06.695485Z"
    },
    "scrolled": true
   },
   "outputs": [
    {
     "name": "stdout",
     "output_type": "stream",
     "text": [
      "---------1---------\n",
      "predict: A ground_true: D\n",
      "空的前后词 i'd\n",
      "选项 [['also'], ['often'], ['even'], ['last']]\n",
      "---------2---------\n",
      "predict: C ground_true: A\n",
      "空的前后词 my\n",
      "选项 [['delight'], ['relief'], ['anger'], ['worry']]\n",
      "---------3---------\n",
      "predict: B ground_true: C\n",
      "空的前后词 was\n",
      "选项 [['scared'], ['shocked'], ['thrilled'], ['ashamed']]\n",
      "---------4---------\n",
      "predict: B ground_true: C\n",
      "空的前后词 to\n",
      "选项 [['talk'], ['stay'], ['meet'], ['settle']]\n",
      "---------5---------\n",
      "predict: D ground_true: A\n",
      "空的前后词 was\n",
      "选项 [['bathed'], ['clean'], ['deep'], ['formed']]\n",
      "---------6---------\n",
      "predict: A ground_true: B\n",
      "空的前后词 little\n",
      "选项 [['faster'], ['closer'], ['heavier'], ['wiser']]\n",
      "---------7---------\n",
      "predict: B ground_true: A\n",
      "空的前后词 in\n",
      "选项 [['trouble'], ['advance'], ['question'], ['battle']]\n",
      "---------8---------\n",
      "predict: B ground_true: B\n",
      "空的前后词 not\n",
      "选项 [['real'], ['right'], ['fair'], ['fit']]\n",
      "---------9---------\n",
      "predict: D ground_true: C\n",
      "空的前后词 and\n",
      "选项 [['stared'], ['sank'], ['dived'], ['fell']]\n",
      "---------10---------\n",
      "predict: D ground_true: D\n",
      "空的前后词 was\n",
      "选项 [['arguing'], ['fighting'], ['shouting'], ['shaking']]\n",
      "---------11---------\n",
      "predict: D ground_true: C\n",
      "空的前后词 helped\n",
      "选项 [['lead'], ['persuade'], ['carry'], ['keep']]\n",
      "---------12---------\n",
      "predict: A ground_true: B\n",
      "空的前后词 something\n",
      "选项 [['happened'], ['occurred'], ['applied'], ['appealed']]\n",
      "---------13---------\n",
      "predict: C ground_true: D\n",
      "空的前后词 very\n",
      "选项 [['sharp'], ['pleasant'], ['attractive'], ['familiar']]\n",
      "---------14---------\n",
      "predict: D ground_true: D\n",
      "空的前后词 i\n",
      "选项 [['agreed'], ['hesitated'], ['doubted'], ['knew']]\n",
      "---------15---------\n",
      "predict: D ground_true: A\n",
      "空的前后词 <s>\n",
      "选项 [['fortunately'], ['frankly'], ['sadly'], ['suddenly']]\n",
      "---------16---------\n",
      "predict: D ground_true: D\n",
      "空的前后词 to\n",
      "选项 [['return'], ['relax'], ['speak'], ['leave']]\n",
      "---------17---------\n",
      "predict: A ground_true: B\n",
      "空的前后词 ben\n",
      "选项 [['joked'], ['turned'], ['listened'], ['pointed']]\n",
      "---------18---------\n",
      "predict: D ground_true: C\n",
      "空的前后词 <s>\n",
      "选项 [['created'], ['honored'], ['saved'], ['guided']]\n",
      "---------19---------\n",
      "predict: B ground_true: A\n",
      "空的前后词 a\n",
      "选项 [['coincidence'], ['change'], ['pity'], ['pain']]\n",
      "---------20---------\n",
      "predict: C ground_true: B\n",
      "空的前后词 there\n",
      "选项 [['on', 'board'], ['in', 'time'], ['for', 'sure'], ['on', 'purpose']]\n",
      "---------1---------\n",
      "predict: A ground_true: C\n",
      "空的前后词 i\n",
      "选项 [['knew'], ['understood'], ['noticed'], ['recognized']]\n",
      "---------2---------\n",
      "predict: D ground_true: D\n",
      "空的前后词 <s>\n",
      "选项 [['since'], ['even', 'if'], ['though'], ['as', 'if']]\n",
      "---------3---------\n",
      "predict: A ground_true: B\n",
      "空的前后词 newspaper\n",
      "选项 [['flat'], ['open'], ['cut'], ['fixed']]\n",
      "---------4---------\n",
      "predict: B ground_true: C\n",
      "空的前后词 was\n",
      "选项 [['hoping'], ['thinking'], ['pretending'], ['continuing']]\n",
      "---------5---------\n",
      "predict: A ground_true: A\n",
      "空的前后词 could\n",
      "选项 [['see'], ['find'], ['guess'], ['learn']]\n",
      "---------6---------\n",
      "predict: C ground_true: D\n",
      "空的前后词 my\n",
      "选项 [['menu'], ['bill'], ['paper'], ['food']]\n",
      "---------7---------\n",
      "predict: C ground_true: B\n",
      "空的前后词 the\n",
      "选项 [['direct'], ['familiar'], ['strange'], ['funny']]\n",
      "---------8---------\n",
      "predict: B ground_true: A\n",
      "空的前后词 i\n",
      "选项 [['chatted', 'with'], ['looked', 'at'], ['laughed', 'at'], ['talked', 'about']]\n",
      "---------9---------\n",
      "predict: A ground_true: B\n",
      "空的前后词 as\n",
      "选项 [['the', 'waiter'], ['time'], ['i'], ['the', 'dinner']]\n",
      "---------10---------\n",
      "predict: C ground_true: C\n",
      "空的前后词 became\n",
      "选项 [['true'], ['hopeful'], ['clear'], ['possible']]\n",
      "---------11---------\n",
      "predict: D ground_true: D\n",
      "空的前后词 the\n",
      "选项 [['restaurant'], ['washroom'], ['office'], ['kitchen']]\n",
      "---------12---------\n",
      "predict: A ground_true: A\n",
      "空的前后词 and\n",
      "选项 [['left'], ['acted'], ['sat', 'down'], ['calmed', 'down']]\n",
      "---------13---------\n",
      "predict: B ground_true: A\n",
      "空的前后词 had\n",
      "选项 [['wanted'], ['tried'], ['ordered'], ['wished']]\n",
      "---------14---------\n",
      "predict: A ground_true: C\n",
      "空的前后词 he\n",
      "选项 [['met'], ['caught'], ['followed'], ['discovered']]\n",
      "---------15---------\n",
      "predict: A ground_true: D\n",
      "空的前后词 he\n",
      "选项 [['was', 'to', 'beat'], ['was', 'dealing', 'with'], ['was', 'to', 'meet'], ['was', 'looking', 'for']]\n",
      "---------16---------\n",
      "predict: B ground_true: B\n",
      "空的前后词 my\n",
      "选项 [['care'], ['surprise'], ['worry'], ['regret']]\n",
      "---------17---------\n",
      "predict: B ground_true: A\n",
      "空的前后词 i\n",
      "选项 [['must'], ['can'], ['need'], ['may']]\n",
      "---------18---------\n",
      "predict: B ground_true: B\n",
      "空的前后词 a\n",
      "选项 [['discovery'], ['mistake'], ['decision'], ['fortune']]\n",
      "---------19---------\n",
      "predict: A ground_true: D\n",
      "空的前后词 really\n",
      "选项 [['a', 'pity'], ['natural'], ['a', 'chance'], ['lucky']]\n",
      "---------20---------\n",
      "predict: B ground_true: C\n",
      "空的前后词 <s>\n",
      "选项 [['thus'], ['however'], ['otherwise'], ['therefore']]\n",
      "---------1---------\n",
      "predict: C ground_true: B\n",
      "空的前后词 i\n",
      "选项 [['put', 'forward'], ['jumped', 'at'], ['tried', 'out'], ['turned', 'down']]\n",
      "---------2---------\n",
      "predict: D ground_true: C\n",
      "空的前后词 to\n",
      "选项 [['waste'], ['earn'], ['save'], ['pay']]\n",
      "---------3---------\n",
      "predict: A ground_true: A\n",
      "空的前后词 weren't\n",
      "选项 [['excited'], ['worried'], ['moved'], ['tired']]\n",
      "---------4---------\n",
      "predict: A ground_true: D\n",
      "空的前后词 our\n",
      "选项 [['title'], ['competitor'], ['textbook'], ['instructor']]\n",
      "---------5---------\n",
      "predict: D ground_true: D\n",
      "空的前后词 which\n",
      "选项 [['urged'], ['demanded'], ['held'], ['meant']]\n",
      "---------6---------\n",
      "predict: A ground_true: C\n",
      "空的前后词 game's\n",
      "选项 [['fastest'], ['easiest'], ['best'], ['rarest']]\n",
      "---------7---------\n",
      "predict: B ground_true: B\n",
      "空的前后词 to\n",
      "选项 [['interview'], ['meet'], ['challenge'], ['beat']]\n",
      "---------8---------\n",
      "predict: D ground_true: D\n",
      "空的前后词 this\n",
      "选项 [['chance'], ['qualification'], ['honor'], ['job']]\n",
      "---------9---------\n",
      "predict: D ground_true: C\n",
      "空的前后词 it\n",
      "选项 [['real'], ['perfect'], ['clear'], ['possible']]\n",
      "---------10---------\n",
      "predict: A ground_true: B\n",
      "空的前后词 to\n",
      "选项 [['attend'], ['pass'], ['skip'], ['observe']]\n",
      "---------11---------\n",
      "predict: A ground_true: C\n",
      "空的前后词 to\n",
      "选项 [['add'], ['expose'], ['apply'], ['compare']]\n",
      "---------12---------\n",
      "predict: A ground_true: A\n",
      "空的前后词 <s>\n",
      "选项 [['eventually'], ['naturally'], ['directly'], ['normally']]\n",
      "---------13---------\n",
      "predict: A ground_true: C\n",
      "空的前后词 that\n",
      "选项 [['game'], ['presentation'], ['course'], ['experiment']]\n",
      "---------14---------\n",
      "predict: B ground_true: B\n",
      "空的前后词 the\n",
      "选项 [['criterion'], ['classroom'], ['department'], ['situation']]\n",
      "---------15---------\n",
      "predict: B ground_true: A\n",
      "空的前后词 he\n",
      "选项 [['taught'], ['wrote'], ['questioned'], ['promised']]\n",
      "---------16---------\n",
      "predict: B ground_true: D\n",
      "空的前后词 important\n",
      "选项 [['fact'], ['step'], ['manner'], ['skill']]\n",
      "---------17---------\n",
      "predict: A ground_true: B\n",
      "空的前后词 good\n",
      "选项 [['grades'], ['decisions'], ['impressions'], ['comments']]\n",
      "---------18---------\n",
      "predict: D ground_true: A\n",
      "空的前后词 to\n",
      "选项 [['analyze'], ['describe'], ['rebuild'], ['control']]\n",
      "---------19---------\n",
      "predict: C ground_true: D\n",
      "空的前后词 and\n",
      "选项 [['announce'], ['signal'], ['block'], ['evaluate']]\n",
      "---------20---------\n",
      "predict: B ground_true: A\n",
      "空的前后词 my\n",
      "选项 [['role'], ['desire'], ['concern'], ['behavior']]\n",
      "accuracy: 0.2833333333333333\n"
     ]
    }
   ],
   "source": [
    "test(content_list,options_list,answers_list,True)"
   ]
  },
  {
   "cell_type": "code",
   "execution_count": 41,
   "metadata": {
    "ExecuteTime": {
     "end_time": "2019-12-17T02:53:11.922581Z",
     "start_time": "2019-12-17T02:53:11.806596Z"
    },
    "scrolled": true
   },
   "outputs": [
    {
     "name": "stdout",
     "output_type": "stream",
     "text": [
      "---------8---------\n",
      "predict: B ground_true: B\n",
      "空的前后词 not\n",
      "选项 [['real'], ['right'], ['fair'], ['fit']]\n",
      "---------10---------\n",
      "predict: D ground_true: D\n",
      "空的前后词 was\n",
      "选项 [['arguing'], ['fighting'], ['shouting'], ['shaking']]\n",
      "---------14---------\n",
      "predict: D ground_true: D\n",
      "空的前后词 i\n",
      "选项 [['agreed'], ['hesitated'], ['doubted'], ['knew']]\n",
      "---------16---------\n",
      "predict: D ground_true: D\n",
      "空的前后词 to\n",
      "选项 [['return'], ['relax'], ['speak'], ['leave']]\n",
      "---------2---------\n",
      "predict: D ground_true: D\n",
      "空的前后词 <s>\n",
      "选项 [['since'], ['even', 'if'], ['though'], ['as', 'if']]\n",
      "---------5---------\n",
      "predict: A ground_true: A\n",
      "空的前后词 could\n",
      "选项 [['see'], ['find'], ['guess'], ['learn']]\n",
      "---------10---------\n",
      "predict: C ground_true: C\n",
      "空的前后词 became\n",
      "选项 [['true'], ['hopeful'], ['clear'], ['possible']]\n",
      "---------11---------\n",
      "predict: D ground_true: D\n",
      "空的前后词 the\n",
      "选项 [['restaurant'], ['washroom'], ['office'], ['kitchen']]\n",
      "---------12---------\n",
      "predict: A ground_true: A\n",
      "空的前后词 and\n",
      "选项 [['left'], ['acted'], ['sat', 'down'], ['calmed', 'down']]\n",
      "---------16---------\n",
      "predict: B ground_true: B\n",
      "空的前后词 my\n",
      "选项 [['care'], ['surprise'], ['worry'], ['regret']]\n",
      "---------18---------\n",
      "predict: B ground_true: B\n",
      "空的前后词 a\n",
      "选项 [['discovery'], ['mistake'], ['decision'], ['fortune']]\n",
      "---------3---------\n",
      "predict: A ground_true: A\n",
      "空的前后词 weren't\n",
      "选项 [['excited'], ['worried'], ['moved'], ['tired']]\n",
      "---------5---------\n",
      "predict: D ground_true: D\n",
      "空的前后词 which\n",
      "选项 [['urged'], ['demanded'], ['held'], ['meant']]\n",
      "---------7---------\n",
      "predict: B ground_true: B\n",
      "空的前后词 to\n",
      "选项 [['interview'], ['meet'], ['challenge'], ['beat']]\n",
      "---------8---------\n",
      "predict: D ground_true: D\n",
      "空的前后词 this\n",
      "选项 [['chance'], ['qualification'], ['honor'], ['job']]\n",
      "---------12---------\n",
      "predict: A ground_true: A\n",
      "空的前后词 <s>\n",
      "选项 [['eventually'], ['naturally'], ['directly'], ['normally']]\n",
      "---------14---------\n",
      "predict: B ground_true: B\n",
      "空的前后词 the\n",
      "选项 [['criterion'], ['classroom'], ['department'], ['situation']]\n",
      "accuracy: 0.2833333333333333\n"
     ]
    }
   ],
   "source": [
    "test(content_list,options_list,answers_list,False)"
   ]
  },
  {
   "cell_type": "markdown",
   "metadata": {
    "ExecuteTime": {
     "end_time": "2019-12-15T05:35:45.947587Z",
     "start_time": "2019-12-15T05:35:45.943222Z"
    }
   },
   "source": [
    "<font color=blue size=15 face=雅黑>trigram Test</font>"
   ]
  },
  {
   "cell_type": "code",
   "execution_count": 55,
   "metadata": {
    "ExecuteTime": {
     "end_time": "2019-12-18T00:51:01.005546Z",
     "start_time": "2019-12-18T00:50:47.149937Z"
    },
    "collapsed": true
   },
   "outputs": [],
   "source": [
    "N = 3\n",
    "pre_words_dict,be_words_dict = word_dict(lines,N)\n",
    "be_words = list(be_words_dict.keys())"
   ]
  },
  {
   "cell_type": "code",
   "execution_count": 56,
   "metadata": {
    "ExecuteTime": {
     "end_time": "2019-12-18T00:51:01.012235Z",
     "start_time": "2019-12-18T00:51:01.008122Z"
    }
   },
   "outputs": [
    {
     "name": "stdout",
     "output_type": "stream",
     "text": [
      "未处理过得pre_words length: 1467004\n"
     ]
    }
   ],
   "source": [
    "print('未处理过得pre_words length:',len(pre_words_dict.keys()))"
   ]
  },
  {
   "cell_type": "code",
   "execution_count": 57,
   "metadata": {
    "ExecuteTime": {
     "end_time": "2019-12-18T00:51:01.381425Z",
     "start_time": "2019-12-18T00:51:01.014243Z"
    },
    "collapsed": true
   },
   "outputs": [],
   "source": [
    "#对pre_words做特殊处理，因为3-gram时，pre_words过大\n",
    "pre_words = []\n",
    "for key, value in pre_words_dict.items():\n",
    "    if value > 4:\n",
    "        pre_words.append(key)"
   ]
  },
  {
   "cell_type": "code",
   "execution_count": 58,
   "metadata": {
    "ExecuteTime": {
     "end_time": "2019-12-18T00:51:01.387960Z",
     "start_time": "2019-12-18T00:51:01.383827Z"
    }
   },
   "outputs": [
    {
     "name": "stdout",
     "output_type": "stream",
     "text": [
      "处理过得pre_words length: 167397\n"
     ]
    }
   ],
   "source": [
    "print('处理过得pre_words length:',len(pre_words))"
   ]
  },
  {
   "cell_type": "code",
   "execution_count": 59,
   "metadata": {
    "ExecuteTime": {
     "end_time": "2019-12-18T00:51:01.520763Z",
     "start_time": "2019-12-18T00:51:01.389849Z"
    },
    "scrolled": true
   },
   "outputs": [
    {
     "name": "stdout",
     "output_type": "stream",
     "text": [
      "(167397, 146579)\n"
     ]
    }
   ],
   "source": [
    "m = len(pre_words)\n",
    "n = len(be_words)\n",
    "words_matrix = np.zeros((m,n),dtype=np.int32) \n",
    "print(words_matrix.shape)"
   ]
  },
  {
   "cell_type": "markdown",
   "metadata": {},
   "source": [
    "处理过的pre_words大小缩小了将近10倍，但是也带来一个问题，就是一些词的组合可能查找不到了"
   ]
  },
  {
   "cell_type": "code",
   "execution_count": 54,
   "metadata": {
    "ExecuteTime": {
     "end_time": "2019-12-18T00:50:08.585037Z",
     "start_time": "2019-12-18T00:50:08.503208Z"
    }
   },
   "outputs": [
    {
     "name": "stderr",
     "output_type": "stream",
     "text": [
      "\n",
      "\n",
      "\n",
      "\n",
      "\n",
      "  0%|          | 0/499388 [00:00<?, ?it/s]\u001b[A\u001b[A\u001b[A\u001b[A\u001b[A\n"
     ]
    },
    {
     "ename": "IndexError",
     "evalue": "index 0 is out of bounds for axis 0 with size 0",
     "output_type": "error",
     "traceback": [
      "\u001b[0;31m---------------------------------------------------------------------------\u001b[0m",
      "\u001b[0;31mIndexError\u001b[0m                                Traceback (most recent call last)",
      "\u001b[0;32m<ipython-input-54-5a3e14e8db7b>\u001b[0m in \u001b[0;36m<module>\u001b[0;34m()\u001b[0m\n\u001b[0;32m----> 1\u001b[0;31m \u001b[0mwords_matrix\u001b[0m \u001b[0;34m=\u001b[0m \u001b[0mget_words_matrix\u001b[0m\u001b[0;34m(\u001b[0m\u001b[0mpre_words\u001b[0m\u001b[0;34m,\u001b[0m\u001b[0mbe_words\u001b[0m\u001b[0;34m,\u001b[0m\u001b[0mlines\u001b[0m\u001b[0;34m,\u001b[0m\u001b[0mN\u001b[0m\u001b[0;34m)\u001b[0m\u001b[0;34m\u001b[0m\u001b[0m\n\u001b[0m",
      "\u001b[0;32m<ipython-input-53-d96ba5bf8378>\u001b[0m in \u001b[0;36mget_words_matrix\u001b[0;34m(pre_words, be_words, lines, n)\u001b[0m\n\u001b[1;32m     12\u001b[0m \u001b[0;34m\u001b[0m\u001b[0m\n\u001b[1;32m     13\u001b[0m \u001b[0;31m#             if pre_word in pre_words:\u001b[0m\u001b[0;34m\u001b[0m\u001b[0;34m\u001b[0m\u001b[0m\n\u001b[0;32m---> 14\u001b[0;31m             \u001b[0mi\u001b[0m  \u001b[0;34m=\u001b[0m \u001b[0mnp\u001b[0m\u001b[0;34m.\u001b[0m\u001b[0mwhere\u001b[0m\u001b[0;34m(\u001b[0m\u001b[0mpre_words\u001b[0m \u001b[0;34m==\u001b[0m \u001b[0mpre_word\u001b[0m\u001b[0;34m)\u001b[0m\u001b[0;34m[\u001b[0m\u001b[0;36m0\u001b[0m\u001b[0;34m]\u001b[0m\u001b[0;34m[\u001b[0m\u001b[0;36m0\u001b[0m\u001b[0;34m]\u001b[0m\u001b[0;34m\u001b[0m\u001b[0m\n\u001b[0m\u001b[1;32m     15\u001b[0m             \u001b[0mj\u001b[0m \u001b[0;34m=\u001b[0m \u001b[0mnp\u001b[0m\u001b[0;34m.\u001b[0m\u001b[0mwhere\u001b[0m\u001b[0;34m(\u001b[0m\u001b[0mbe_words\u001b[0m \u001b[0;34m==\u001b[0m \u001b[0mbe_word\u001b[0m\u001b[0;34m)\u001b[0m\u001b[0;34m[\u001b[0m\u001b[0;36m0\u001b[0m\u001b[0;34m]\u001b[0m\u001b[0;34m[\u001b[0m\u001b[0;36m0\u001b[0m\u001b[0;34m]\u001b[0m\u001b[0;34m\u001b[0m\u001b[0m\n\u001b[1;32m     16\u001b[0m \u001b[0;31m#                 i = pre_words.index(pre_word)\u001b[0m\u001b[0;34m\u001b[0m\u001b[0;34m\u001b[0m\u001b[0m\n",
      "\u001b[0;31mIndexError\u001b[0m: index 0 is out of bounds for axis 0 with size 0"
     ]
    }
   ],
   "source": [
    "words_matrix = get_words_matrix(pre_words,be_words,lines,N)"
   ]
  },
  {
   "cell_type": "code",
   "execution_count": 34,
   "metadata": {
    "ExecuteTime": {
     "end_time": "2019-12-17T08:32:56.431209Z",
     "start_time": "2019-12-17T08:32:56.313188Z"
    },
    "collapsed": true
   },
   "outputs": [],
   "source": [
    "content_list,options_list,answers_list = read_train_data(N)"
   ]
  },
  {
   "cell_type": "code",
   "execution_count": 35,
   "metadata": {
    "ExecuteTime": {
     "end_time": "2019-12-17T08:32:56.595160Z",
     "start_time": "2019-12-17T08:32:56.433850Z"
    }
   },
   "outputs": [
    {
     "ename": "ZeroDivisionError",
     "evalue": "float division by zero",
     "output_type": "error",
     "traceback": [
      "\u001b[0;31m---------------------------------------------------------------------------\u001b[0m",
      "\u001b[0;31mZeroDivisionError\u001b[0m                         Traceback (most recent call last)",
      "\u001b[0;32m<ipython-input-35-b8a90ebee178>\u001b[0m in \u001b[0;36m<module>\u001b[0;34m()\u001b[0m\n\u001b[0;32m----> 1\u001b[0;31m \u001b[0mtest\u001b[0m\u001b[0;34m(\u001b[0m\u001b[0mcontent_list\u001b[0m\u001b[0;34m,\u001b[0m\u001b[0moptions_list\u001b[0m\u001b[0;34m,\u001b[0m\u001b[0manswers_list\u001b[0m\u001b[0;34m,\u001b[0m\u001b[0;32mTrue\u001b[0m\u001b[0;34m)\u001b[0m\u001b[0;34m\u001b[0m\u001b[0m\n\u001b[0m",
      "\u001b[0;32m<ipython-input-18-e1290384a50e>\u001b[0m in \u001b[0;36mtest\u001b[0;34m(content_list, options_list, answers_list, showAll, predict)\u001b[0m\n\u001b[1;32m     29\u001b[0m                 \u001b[0mprint\u001b[0m\u001b[0;34m(\u001b[0m\u001b[0;34m'空的前后词'\u001b[0m\u001b[0;34m,\u001b[0m\u001b[0mcontent\u001b[0m\u001b[0;34m[\u001b[0m\u001b[0mi\u001b[0m\u001b[0;34m]\u001b[0m\u001b[0;34m)\u001b[0m\u001b[0;34m\u001b[0m\u001b[0m\n\u001b[1;32m     30\u001b[0m                 \u001b[0mprint\u001b[0m\u001b[0;34m(\u001b[0m\u001b[0;34m'选项'\u001b[0m\u001b[0;34m,\u001b[0m\u001b[0moptions\u001b[0m\u001b[0;34m[\u001b[0m\u001b[0mi\u001b[0m\u001b[0;34m]\u001b[0m\u001b[0;34m)\u001b[0m\u001b[0;34m\u001b[0m\u001b[0m\n\u001b[0;32m---> 31\u001b[0;31m     \u001b[0maccuracy\u001b[0m \u001b[0;34m=\u001b[0m \u001b[0mfloat\u001b[0m\u001b[0;34m(\u001b[0m\u001b[0mright_n\u001b[0m\u001b[0;34m)\u001b[0m\u001b[0;34m/\u001b[0m\u001b[0mtotal_n\u001b[0m\u001b[0;34m\u001b[0m\u001b[0m\n\u001b[0m\u001b[1;32m     32\u001b[0m     \u001b[0mprint\u001b[0m\u001b[0;34m(\u001b[0m\u001b[0;34m'accuracy:'\u001b[0m\u001b[0;34m,\u001b[0m\u001b[0maccuracy\u001b[0m\u001b[0;34m)\u001b[0m\u001b[0;34m\u001b[0m\u001b[0m\n",
      "\u001b[0;31mZeroDivisionError\u001b[0m: float division by zero"
     ]
    }
   ],
   "source": [
    "test(content_list,options_list,answers_list,True)"
   ]
  },
  {
   "cell_type": "code",
   "execution_count": null,
   "metadata": {
    "ExecuteTime": {
     "end_time": "2019-12-17T08:32:56.596121Z",
     "start_time": "2019-12-17T05:07:36.604Z"
    },
    "collapsed": true
   },
   "outputs": [],
   "source": [
    "test(content_list,options_list,answers_list,False)"
   ]
  },
  {
   "cell_type": "code",
   "execution_count": null,
   "metadata": {
    "ExecuteTime": {
     "start_time": "2019-12-17T08:39:05.070Z"
    },
    "collapsed": true
   },
   "outputs": [],
   "source": [
    "words_matrix_df = pd.DataFrame(words_matrix)\n",
    "words_matrix_df.columns = be_words\n",
    "words_matrix_df.index = pre_words\n",
    "words_matrix_df.drop(['<s>'],axis = 1,inplace=True)"
   ]
  },
  {
   "cell_type": "code",
   "execution_count": 41,
   "metadata": {
    "ExecuteTime": {
     "end_time": "2019-12-17T08:37:49.818971Z",
     "start_time": "2019-12-17T08:37:49.787573Z"
    }
   },
   "outputs": [
    {
     "data": {
      "text/html": [
       "<div>\n",
       "<style scoped>\n",
       "    .dataframe tbody tr th:only-of-type {\n",
       "        vertical-align: middle;\n",
       "    }\n",
       "\n",
       "    .dataframe tbody tr th {\n",
       "        vertical-align: top;\n",
       "    }\n",
       "\n",
       "    .dataframe thead th {\n",
       "        text-align: right;\n",
       "    }\n",
       "</style>\n",
       "<table border=\"1\" class=\"dataframe\">\n",
       "  <thead>\n",
       "    <tr style=\"text-align: right;\">\n",
       "      <th></th>\n",
       "      <th>&lt;s&gt;</th>\n",
       "      <th>with</th>\n",
       "      <th>long</th>\n",
       "      <th>brown</th>\n",
       "      <th>hair</th>\n",
       "      <th>deep</th>\n",
       "      <th>blue</th>\n",
       "      <th>eyes</th>\n",
       "      <th>a</th>\n",
       "      <th>tall</th>\n",
       "      <th>...</th>\n",
       "      <th>walla</th>\n",
       "      <th>noticeit</th>\n",
       "      <th>saidnew</th>\n",
       "      <th>day--that</th>\n",
       "      <th>lunch--unless</th>\n",
       "      <th>lookxu</th>\n",
       "      <th>hanchi</th>\n",
       "      <th>lingyue</th>\n",
       "      <th>14my</th>\n",
       "      <th>14we</th>\n",
       "    </tr>\n",
       "  </thead>\n",
       "  <tbody>\n",
       "    <tr>\n",
       "      <td>appearance in</td>\n",
       "      <td>0</td>\n",
       "      <td>0</td>\n",
       "      <td>0</td>\n",
       "      <td>0</td>\n",
       "      <td>0</td>\n",
       "      <td>0</td>\n",
       "      <td>0</td>\n",
       "      <td>0</td>\n",
       "      <td>2</td>\n",
       "      <td>0</td>\n",
       "      <td>...</td>\n",
       "      <td>0</td>\n",
       "      <td>0</td>\n",
       "      <td>0</td>\n",
       "      <td>0</td>\n",
       "      <td>0</td>\n",
       "      <td>0</td>\n",
       "      <td>0</td>\n",
       "      <td>0</td>\n",
       "      <td>0</td>\n",
       "      <td>0</td>\n",
       "    </tr>\n",
       "    <tr>\n",
       "      <td>in a</td>\n",
       "      <td>3</td>\n",
       "      <td>0</td>\n",
       "      <td>29</td>\n",
       "      <td>3</td>\n",
       "      <td>0</td>\n",
       "      <td>13</td>\n",
       "      <td>12</td>\n",
       "      <td>0</td>\n",
       "      <td>0</td>\n",
       "      <td>6</td>\n",
       "      <td>...</td>\n",
       "      <td>0</td>\n",
       "      <td>0</td>\n",
       "      <td>0</td>\n",
       "      <td>0</td>\n",
       "      <td>0</td>\n",
       "      <td>0</td>\n",
       "      <td>0</td>\n",
       "      <td>0</td>\n",
       "      <td>0</td>\n",
       "      <td>0</td>\n",
       "    </tr>\n",
       "    <tr>\n",
       "      <td>a film</td>\n",
       "      <td>16</td>\n",
       "      <td>2</td>\n",
       "      <td>0</td>\n",
       "      <td>0</td>\n",
       "      <td>0</td>\n",
       "      <td>0</td>\n",
       "      <td>0</td>\n",
       "      <td>0</td>\n",
       "      <td>2</td>\n",
       "      <td>0</td>\n",
       "      <td>...</td>\n",
       "      <td>0</td>\n",
       "      <td>0</td>\n",
       "      <td>0</td>\n",
       "      <td>0</td>\n",
       "      <td>0</td>\n",
       "      <td>0</td>\n",
       "      <td>0</td>\n",
       "      <td>0</td>\n",
       "      <td>0</td>\n",
       "      <td>0</td>\n",
       "    </tr>\n",
       "    <tr>\n",
       "      <td>film in</td>\n",
       "      <td>0</td>\n",
       "      <td>0</td>\n",
       "      <td>0</td>\n",
       "      <td>0</td>\n",
       "      <td>0</td>\n",
       "      <td>0</td>\n",
       "      <td>0</td>\n",
       "      <td>0</td>\n",
       "      <td>3</td>\n",
       "      <td>0</td>\n",
       "      <td>...</td>\n",
       "      <td>0</td>\n",
       "      <td>0</td>\n",
       "      <td>0</td>\n",
       "      <td>0</td>\n",
       "      <td>0</td>\n",
       "      <td>0</td>\n",
       "      <td>0</td>\n",
       "      <td>0</td>\n",
       "      <td>0</td>\n",
       "      <td>0</td>\n",
       "    </tr>\n",
       "    <tr>\n",
       "      <td>in 1990</td>\n",
       "      <td>20</td>\n",
       "      <td>1</td>\n",
       "      <td>0</td>\n",
       "      <td>0</td>\n",
       "      <td>0</td>\n",
       "      <td>0</td>\n",
       "      <td>0</td>\n",
       "      <td>0</td>\n",
       "      <td>0</td>\n",
       "      <td>0</td>\n",
       "      <td>...</td>\n",
       "      <td>0</td>\n",
       "      <td>0</td>\n",
       "      <td>0</td>\n",
       "      <td>0</td>\n",
       "      <td>0</td>\n",
       "      <td>0</td>\n",
       "      <td>0</td>\n",
       "      <td>0</td>\n",
       "      <td>0</td>\n",
       "      <td>0</td>\n",
       "    </tr>\n",
       "  </tbody>\n",
       "</table>\n",
       "<p>5 rows × 146579 columns</p>\n",
       "</div>"
      ],
      "text/plain": [
       "               <s>  with  long  brown  hair  deep  blue  eyes  a  tall  ...  \\\n",
       "appearance in    0     0     0      0     0     0     0     0  2     0  ...   \n",
       "in a             3     0    29      3     0    13    12     0  0     6  ...   \n",
       "a film          16     2     0      0     0     0     0     0  2     0  ...   \n",
       "film in          0     0     0      0     0     0     0     0  3     0  ...   \n",
       "in 1990         20     1     0      0     0     0     0     0  0     0  ...   \n",
       "\n",
       "               walla  noticeit  saidnew  day--that  lunch--unless  lookxu  \\\n",
       "appearance in      0         0        0          0              0       0   \n",
       "in a               0         0        0          0              0       0   \n",
       "a film             0         0        0          0              0       0   \n",
       "film in            0         0        0          0              0       0   \n",
       "in 1990            0         0        0          0              0       0   \n",
       "\n",
       "               hanchi  lingyue  14my  14we  \n",
       "appearance in       0        0     0     0  \n",
       "in a                0        0     0     0  \n",
       "a film              0        0     0     0  \n",
       "film in             0        0     0     0  \n",
       "in 1990             0        0     0     0  \n",
       "\n",
       "[5 rows x 146579 columns]"
      ]
     },
     "execution_count": 41,
     "metadata": {},
     "output_type": "execute_result"
    }
   ],
   "source": [
    "words_matrix_df[20:].head()"
   ]
  },
  {
   "cell_type": "code",
   "execution_count": null,
   "metadata": {
    "collapsed": true
   },
   "outputs": [],
   "source": []
  }
 ],
 "metadata": {
  "kernelspec": {
   "display_name": "Python 3",
   "language": "python",
   "name": "python3"
  },
  "language_info": {
   "codemirror_mode": {
    "name": "ipython",
    "version": 3
   },
   "file_extension": ".py",
   "mimetype": "text/x-python",
   "name": "python",
   "nbconvert_exporter": "python",
   "pygments_lexer": "ipython3",
   "version": "3.6.2"
  }
 },
 "nbformat": 4,
 "nbformat_minor": 2
}
