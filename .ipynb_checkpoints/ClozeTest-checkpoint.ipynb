{
 "cells": [
  {
   "cell_type": "code",
   "execution_count": 1,
   "metadata": {
    "ExecuteTime": {
     "end_time": "2019-12-18T04:50:17.605811Z",
     "start_time": "2019-12-18T04:50:16.583251Z"
    },
    "collapsed": true
   },
   "outputs": [],
   "source": [
    "import torch\n",
    "import torch.autograd as autograd\n",
    "import torch.nn as nn\n",
    "import torch.nn.functional as F\n",
    "import torch.optim as optim\n",
    "import glob \n",
    "import json\n",
    "import re\n",
    "import string\n",
    "import operator\n",
    "import collections\n",
    "import numpy as np\n",
    "import string\n",
    "import math\n",
    "from tqdm import tqdm\n",
    "from array import array\n",
    "import pandas as pd"
   ]
  },
  {
   "cell_type": "code",
   "execution_count": 2,
   "metadata": {
    "ExecuteTime": {
     "end_time": "2019-12-18T04:50:17.611312Z",
     "start_time": "2019-12-18T04:50:17.608466Z"
    },
    "collapsed": true
   },
   "outputs": [],
   "source": [
    "NONE_STR = '<s>'"
   ]
  },
  {
   "cell_type": "code",
   "execution_count": 3,
   "metadata": {
    "ExecuteTime": {
     "end_time": "2019-12-18T04:50:17.728133Z",
     "start_time": "2019-12-18T04:50:17.613329Z"
    },
    "collapsed": true
   },
   "outputs": [],
   "source": [
    "def delete_other_letter(line):\n",
    "    punctuation =\"\"\"!\"#$%&\\()*+,./:;<=>?@[\\\\]^_`{|}~\\\\n\"\"\"\n",
    "    re_punctuation =\"[{}]+\".format(punctuation)\n",
    "    line =re.sub(re_punctuation, \"\", line)\n",
    "    return line.lower()"
   ]
  },
  {
   "cell_type": "code",
   "execution_count": 4,
   "metadata": {
    "ExecuteTime": {
     "end_time": "2019-12-18T04:50:17.880211Z",
     "start_time": "2019-12-18T04:50:17.730388Z"
    },
    "collapsed": true
   },
   "outputs": [],
   "source": [
    "def read_articles(paths):\n",
    "    alllines = []\n",
    "    for path in paths:\n",
    "        filenames = glob.glob(path+\"/*txt\")\n",
    "        for filename in filenames:\n",
    "            with open(filename, 'r', encoding='utf-8') as fpr:\n",
    "                data_raw = json.load(fpr)\n",
    "                article = data_raw['article']\n",
    "                \n",
    "                lines = article.split('.')\n",
    "                for line in lines:\n",
    "                    line = delete_other_letter(line)\n",
    "                    alllines.append(line)\n",
    "                \n",
    "    return alllines"
   ]
  },
  {
   "cell_type": "code",
   "execution_count": 5,
   "metadata": {
    "ExecuteTime": {
     "end_time": "2019-12-18T04:50:23.664648Z",
     "start_time": "2019-12-18T04:50:17.882592Z"
    },
    "collapsed": true
   },
   "outputs": [],
   "source": [
    "lines = read_articles(['./RACE/train/high','./RACE/train/middle'])"
   ]
  },
  {
   "cell_type": "code",
   "execution_count": 6,
   "metadata": {
    "ExecuteTime": {
     "end_time": "2019-12-18T04:50:23.671050Z",
     "start_time": "2019-12-18T04:50:23.667072Z"
    },
    "scrolled": true
   },
   "outputs": [
    {
     "name": "stdout",
     "output_type": "stream",
     "text": [
      "499388\n"
     ]
    }
   ],
   "source": [
    "print(len(lines))"
   ]
  },
  {
   "cell_type": "code",
   "execution_count": 7,
   "metadata": {
    "ExecuteTime": {
     "end_time": "2019-12-18T04:50:23.811580Z",
     "start_time": "2019-12-18T04:50:23.673033Z"
    },
    "collapsed": true
   },
   "outputs": [],
   "source": [
    "# def word_dict(lines):\n",
    "#     word_freq = collections.defaultdict(int)\n",
    "#     for line in lines:\n",
    "#         for w in line.split(): \n",
    "#             word_freq[w] += 1\n",
    "    \n",
    "#     return list(word_freq.keys())"
   ]
  },
  {
   "cell_type": "code",
   "execution_count": 8,
   "metadata": {
    "ExecuteTime": {
     "end_time": "2019-12-18T04:50:23.919557Z",
     "start_time": "2019-12-18T04:50:23.813983Z"
    },
    "collapsed": true
   },
   "outputs": [],
   "source": [
    "# def get_words_matrix(words,lines):                                                                                                                                                                                                                                                                                                                                                                                                                                                                                                                                                                                                                                                                                                                                                                                                                                                                                                                                                                                                                                                                                                                                                                                                                                                                                                                                                                                                                                                                                                                                                                                                                                                                                                                                                                                                                                                                                                                                                                                                                                                                                                                                                                                                                                                                                                                                                                                                                                                                                                                                                                                                                                                                                                                                                                                                                                                                                                                                                                                                                                                                                                                                                                                                                                                                                                                                                                                                                                                                                                                                                                                                                                                                                                                                                                                                                                                                                                                                                                                                                                                                                                                                                                                                                                                                                                                                                                                                                                                                                                                                                                                                                                                                                                                                                                                                                                                                                                               \n",
    "#     for line in lines:\n",
    "#         line_words = line.split()\n",
    "#         n = len(line_words)\n",
    "#         for i in range(n-1):\n",
    "#             ww = line_words[i+1]\n",
    "#             i = words.index(line_words[i])\n",
    "#             j = words.index(ww)\n",
    "#             words_matrix[i][j] += 1"
   ]
  },
  {
   "cell_type": "code",
   "execution_count": 9,
   "metadata": {
    "ExecuteTime": {
     "end_time": "2019-12-18T04:50:24.063837Z",
     "start_time": "2019-12-18T04:50:23.923285Z"
    },
    "collapsed": true
   },
   "outputs": [],
   "source": [
    "def word_dict(lines,n):\n",
    "                \n",
    "    pre_words = collections.defaultdict(int)\n",
    "    be_words = collections.defaultdict(int)\n",
    "    n = n-1\n",
    "    for line in lines:\n",
    "        for k in range(n):\n",
    "            line = NONE_STR+' '+line+' '+NONE_STR\n",
    "        line_words = line.split()\n",
    "        for i in range(len(line_words)-(n-1)):\n",
    "            ngramTemp = ' '.join(line_words[i:i+n])\n",
    "\n",
    "            pre_words[ngramTemp] += 1\n",
    "            be_words[line_words[i]] += 1\n",
    "            \n",
    "    return pre_words,be_words"
   ]
  },
  {
   "cell_type": "code",
   "execution_count": 10,
   "metadata": {
    "ExecuteTime": {
     "end_time": "2019-12-18T04:50:24.221487Z",
     "start_time": "2019-12-18T04:50:24.066934Z"
    },
    "collapsed": true
   },
   "outputs": [],
   "source": [
    "punctuation_list = ['.',',','?','!','\\\"','“']"
   ]
  },
  {
   "cell_type": "code",
   "execution_count": 11,
   "metadata": {
    "ExecuteTime": {
     "end_time": "2019-12-18T04:50:24.327893Z",
     "start_time": "2019-12-18T04:50:24.225960Z"
    },
    "collapsed": true
   },
   "outputs": [],
   "source": [
    "def has_punctuation(word):\n",
    "    for puc in punctuation_list:\n",
    "        if word.find(puc) != -1 :\n",
    "            return True\n",
    "    return False"
   ]
  },
  {
   "cell_type": "code",
   "execution_count": 12,
   "metadata": {
    "ExecuteTime": {
     "end_time": "2019-12-18T04:50:24.435401Z",
     "start_time": "2019-12-18T04:50:24.331090Z"
    },
    "collapsed": true
   },
   "outputs": [],
   "source": [
    "def replace_punctuation(word):\n",
    "    for puc in punctuation_list:\n",
    "        word = word.replace(puc,'')\n",
    "    return word"
   ]
  },
  {
   "cell_type": "code",
   "execution_count": 13,
   "metadata": {
    "ExecuteTime": {
     "end_time": "2019-12-18T04:50:24.543708Z",
     "start_time": "2019-12-18T04:50:24.438673Z"
    },
    "collapsed": true
   },
   "outputs": [],
   "source": [
    "def replace_Chinese_punctuation(content):\n",
    "    content = content.replace('’','\\'')\n",
    "    content = content.replace('”','')\n",
    "    return content"
   ]
  },
  {
   "cell_type": "code",
   "execution_count": 14,
   "metadata": {
    "ExecuteTime": {
     "end_time": "2019-12-18T04:50:24.651674Z",
     "start_time": "2019-12-18T04:50:24.547026Z"
    },
    "collapsed": true
   },
   "outputs": [],
   "source": [
    "def get_options(options_str):\n",
    "    options_str = replace_Chinese_punctuation(options_str)\n",
    "    options = []\n",
    "    opt_rows = options_str.split('#')\n",
    "    for opt in opt_rows:\n",
    "        indexA = opt.find('A.')\n",
    "        indexB = opt.find('B.')\n",
    "        indexC = opt.find('C.')\n",
    "        indexD = opt.find('D.')\n",
    "        As = opt[indexA+2:indexB].strip().lower().split(' ')\n",
    "        Bs = opt[indexB+2:indexC].strip().lower().split(' ')\n",
    "        Cs = opt[indexC+2:indexD].strip().lower().split(' ')\n",
    "        Ds = opt[indexD+2:].strip().lower().split(' ')\n",
    "        options.append([As,Bs,Cs,Ds])\n",
    "    return options"
   ]
  },
  {
   "cell_type": "code",
   "execution_count": 15,
   "metadata": {
    "ExecuteTime": {
     "end_time": "2019-12-18T04:50:24.771361Z",
     "start_time": "2019-12-18T04:50:24.654718Z"
    },
    "collapsed": true
   },
   "outputs": [],
   "source": [
    "# def probability(word1,word2):\n",
    "#     eclipse = 0.0000000000001\n",
    "#     try:\n",
    "#         index1 = pre_words.index(word1)\n",
    "#         index2 = be_words.index(word2)\n",
    "#     except ValueError:\n",
    "#         return eclipse\n",
    "# #     print(word1,index1,word2,index2)\n",
    "#     pn_word1 = words_matrix[index1].sum()\n",
    "#     pn_word2_under_word1 = words_matrix[index1][index2]\n",
    "# #     print(pn_word1,pn_word2_under_word1)\n",
    "#     prob = float(pn_word2_under_word1)/pn_word1\n",
    "#     if prob == 0:\n",
    "#         prob = eclipse\n",
    "#     return prob"
   ]
  },
  {
   "cell_type": "code",
   "execution_count": 16,
   "metadata": {
    "ExecuteTime": {
     "end_time": "2019-12-18T04:50:24.934550Z",
     "start_time": "2019-12-18T04:50:24.774900Z"
    },
    "collapsed": true
   },
   "outputs": [],
   "source": [
    "def read_train_data(n):\n",
    "    path = './data'\n",
    "    filenames = glob.glob(path+\"/*txt\")\n",
    "    \n",
    "    answers_list =[]\n",
    "    options_list = []\n",
    "    content_list = []\n",
    "    for filename in filenames:\n",
    "        with open(filename, 'r', encoding='utf-8') as fpr:\n",
    "            data_raw = json.load(fpr)\n",
    "            article = data_raw['article']\n",
    "            content = get_pre_and_be_words(article,n)\n",
    "            options_str = data_raw['options']\n",
    "            options = get_options(options_str)\n",
    "            answers = list(data_raw['answers'])\n",
    "            answers_list.append(answers)\n",
    "            options_list.append(options)\n",
    "            content_list.append(content)\n",
    "    return content_list,options_list,answers_list"
   ]
  },
  {
   "cell_type": "code",
   "execution_count": 17,
   "metadata": {
    "ExecuteTime": {
     "end_time": "2019-12-18T04:50:25.024222Z",
     "start_time": "2019-12-18T04:50:24.938708Z"
    },
    "collapsed": true
   },
   "outputs": [],
   "source": [
    "def auto_select(question,option):\n",
    "    index = 0\n",
    "    maxprob = -10000000000\n",
    "    n = len(option)\n",
    "    for i in range(n):\n",
    "#         prob = math.log(probability(question[0],option[i][0]))+math.log(probability(option[i][-1],question[1]))\n",
    "        prob = probability(question,option[i][0])\n",
    "        if prob > maxprob:\n",
    "            maxprob = prob\n",
    "            index = i\n",
    "    return chr(ord('A')+index)"
   ]
  },
  {
   "cell_type": "code",
   "execution_count": 18,
   "metadata": {
    "ExecuteTime": {
     "end_time": "2019-12-18T04:50:25.144081Z",
     "start_time": "2019-12-18T04:50:25.027202Z"
    },
    "collapsed": true
   },
   "outputs": [],
   "source": [
    "def test(content_list,options_list,answers_list,showAll=False,predict=None):\n",
    "    \n",
    "    cn = len(content_list)\n",
    "    right_n = 0\n",
    "    total_n = 0\n",
    "    for k in range(cn):\n",
    "        content = content_list[k]\n",
    "        answers = answers_list[k]\n",
    "        options = options_list[k]\n",
    "    \n",
    "        n = len(answers)\n",
    "        total_n += n\n",
    "        for i in range(n):\n",
    "            if showAll:\n",
    "                print('---------'+str(i+1)+'---------')\n",
    "            if predict is None:\n",
    "                choice = auto_select(content[i],options[i])\n",
    "            else:\n",
    "                choice = predict\n",
    "            if choice == answers[i]:\n",
    "                right_n += 1\n",
    "                if showAll == False:\n",
    "                    print('---------'+str(i+1)+'---------')\n",
    "                    print('predict:',choice,'ground_true:',answers[i])\n",
    "                    print('空前N-1个词',content[i])\n",
    "                    print('选项',options[i])\n",
    "            if showAll:\n",
    "                print('predict:',choice,'ground_true:',answers[i])\n",
    "                print('空前N-1个词',content[i])\n",
    "                print('选项',options[i])\n",
    "    accuracy = float(right_n)/total_n\n",
    "    print('accuracy:',accuracy)"
   ]
  },
  {
   "cell_type": "code",
   "execution_count": 19,
   "metadata": {
    "ExecuteTime": {
     "end_time": "2019-12-18T04:50:25.306626Z",
     "start_time": "2019-12-18T04:50:25.146987Z"
    }
   },
   "outputs": [],
   "source": [
    "def get_words_matrix(pre_words,be_words,lines,n):  \n",
    "    n = n-1\n",
    "    for line in tqdm(lines):\n",
    "        for k in range(n):\n",
    "            line = NONE_STR+' '+line+' '+NONE_STR\n",
    "        line_words = line.split()\n",
    "        words_n = len(line_words)-n\n",
    "        for k in range(words_n):\n",
    "            pre_word = ' '.join(line_words[k:k+n])\n",
    "                \n",
    "            be_word = line_words[k+n]\n",
    "            \n",
    "            if pre_word in pre_words and be_word in be_words:\n",
    "                i = pre_words.index(pre_word)\n",
    "                j = be_words.index(be_word)\n",
    "                words_matrix[i][j] += 1\n",
    "                    \n",
    "#             if n > 1:\n",
    "#                 if pre_word in pre_words:\n",
    "#                     i = pre_words.index(pre_word)\n",
    "#                     j = be_words.index(be_word)\n",
    "#                     words_matrix[i][j] += 1\n",
    "#             else:\n",
    "#                 i = pre_words.index(pre_word)\n",
    "#                 j = be_words.index(be_word)\n",
    "#                 words_matrix[i][j] += 1\n",
    "            \n",
    "    return words_matrix"
   ]
  },
  {
   "cell_type": "code",
   "execution_count": 20,
   "metadata": {
    "ExecuteTime": {
     "end_time": "2019-12-18T04:50:25.440196Z",
     "start_time": "2019-12-18T04:50:25.309575Z"
    }
   },
   "outputs": [],
   "source": [
    "def count_word_num(lines,n):\n",
    "    pre_words = collections.defaultdict(int)\n",
    "    be_words = collections.defaultdict(int)\n",
    "    \n",
    "    words = collections.defaultdict(int)\n",
    "    n = n-1\n",
    "    \n",
    "    index = 0\n",
    "    for line in lines:\n",
    "        for k in range(n):\n",
    "            line = NONE_STR+' '+line+' '+NONE_STR\n",
    "        line_words = line.split()\n",
    "        for i in range(len(line_words)-(n-1)):\n",
    "            pre_word = ' '.join(line_words[i-1:i+n-1])\n",
    "            be_word = line_words[i+n-1]\n",
    "            \n",
    "            pre_words[pre_word] += 1\n",
    "            be_words[be_word] += 1\n",
    "            \n",
    "            words[pre_word+' '+be_word] += 1\n",
    "    return pre_words,be_words,words"
   ]
  },
  {
   "cell_type": "code",
   "execution_count": 21,
   "metadata": {
    "ExecuteTime": {
     "end_time": "2019-12-18T04:50:25.528140Z",
     "start_time": "2019-12-18T04:50:25.443029Z"
    },
    "collapsed": true
   },
   "outputs": [],
   "source": [
    "def get_pre_and_be_words(article,ngram):\n",
    "    article = replace_Chinese_punctuation(article)\n",
    "    art_words = article.split()\n",
    "    n = len(art_words)\n",
    "    index = 1\n",
    "    content = []\n",
    "    for i in range(n):\n",
    "        word = art_words[i]\n",
    "        if str(index) == word:\n",
    "            pre_word = ''\n",
    "            if i < ngram-1:\n",
    "                for k in range(ngram-1-i):\n",
    "                    pre_word += NONE_STR\n",
    "            else:\n",
    "#                 pre_word = art_words[i-1-(ngram-2):i-1]\n",
    "                pre_word = pre_word.join(art_words[i-1-(ngram-2):i])\n",
    "            if has_punctuation(pre_word):\n",
    "                pre_word = ''\n",
    "                for k in range(ngram-1):\n",
    "                    pre_word += NONE_STR\n",
    "            pre_word = replace_punctuation(pre_word)\n",
    "            content.append(pre_word.lower())\n",
    "            index += 1\n",
    "    return content"
   ]
  },
  {
   "cell_type": "code",
   "execution_count": 22,
   "metadata": {
    "ExecuteTime": {
     "end_time": "2019-12-18T04:50:25.693522Z",
     "start_time": "2019-12-18T04:50:25.530602Z"
    },
    "collapsed": true
   },
   "outputs": [],
   "source": [
    "def delete_sparse_words(words_dict,threshold=4):\n",
    "    words_list = []\n",
    "    for key, value in words_dict.items():\n",
    "        if value > 4:\n",
    "            words_list.append(key)\n",
    "    return words_list"
   ]
  },
  {
   "cell_type": "code",
   "execution_count": 44,
   "metadata": {
    "ExecuteTime": {
     "end_time": "2019-12-18T05:36:42.628846Z",
     "start_time": "2019-12-18T05:36:42.608971Z"
    },
    "collapsed": true
   },
   "outputs": [],
   "source": [
    "def probability(word1,word2):\n",
    "    eclipse = 0.0000000000001\n",
    "    all = pre_words[word1]\n",
    "    single = words[word1+' '+word2]\n",
    "    \n",
    "    if all == 0:\n",
    "        return eclipse\n",
    "    \n",
    "    prob = float(single)/all\n",
    "    if prob == 0:\n",
    "        prob = eclipse\n",
    "    return prob"
   ]
  },
  {
   "cell_type": "markdown",
   "metadata": {},
   "source": [
    "<font color=blue size=15 face=雅黑>bigram Test</font>"
   ]
  },
  {
   "cell_type": "code",
   "execution_count": 23,
   "metadata": {
    "ExecuteTime": {
     "end_time": "2019-12-18T04:50:25.791137Z",
     "start_time": "2019-12-18T04:50:25.696605Z"
    },
    "collapsed": true
   },
   "outputs": [],
   "source": [
    "# pre_words_dict,be_words_dict = word_dict(lines,2)"
   ]
  },
  {
   "cell_type": "code",
   "execution_count": 24,
   "metadata": {
    "ExecuteTime": {
     "end_time": "2019-12-18T04:50:25.911692Z",
     "start_time": "2019-12-18T04:50:25.793244Z"
    },
    "collapsed": true
   },
   "outputs": [],
   "source": [
    "# # pre_words = list(pre_words_dict.keys())\n",
    "# # be_words = list(be_words_dict.keys())\n",
    "# pre_words = delete_sparse_words(pre_words_dict)\n",
    "# be_words = delete_sparse_words(be_words_dict)"
   ]
  },
  {
   "cell_type": "code",
   "execution_count": 25,
   "metadata": {
    "ExecuteTime": {
     "end_time": "2019-12-18T04:50:26.223426Z",
     "start_time": "2019-12-18T04:50:25.914988Z"
    }
   },
   "outputs": [],
   "source": [
    "# m = len(pre_words)\n",
    "# n = len(be_words)\n",
    "# words_matrix = np.zeros((m,n),dtype=np.int32) \n",
    "# print(words_matrix.shape)"
   ]
  },
  {
   "cell_type": "code",
   "execution_count": 26,
   "metadata": {
    "ExecuteTime": {
     "end_time": "2019-12-18T04:50:26.367244Z",
     "start_time": "2019-12-18T04:50:26.227239Z"
    },
    "scrolled": false
   },
   "outputs": [],
   "source": [
    "# words_matrix = get_words_matrix(pre_words,be_words,lines,2)"
   ]
  },
  {
   "cell_type": "code",
   "execution_count": 27,
   "metadata": {
    "ExecuteTime": {
     "end_time": "2019-12-18T04:50:41.482362Z",
     "start_time": "2019-12-18T04:50:26.369439Z"
    },
    "scrolled": true
   },
   "outputs": [],
   "source": [
    "pre_words,be_words,words = count_word_num(lines,2)"
   ]
  },
  {
   "cell_type": "code",
   "execution_count": 30,
   "metadata": {
    "ExecuteTime": {
     "end_time": "2019-12-18T04:50:41.747834Z",
     "start_time": "2019-12-18T04:50:41.622330Z"
    },
    "collapsed": true,
    "scrolled": true
   },
   "outputs": [],
   "source": [
    "content_list,options_list,answers_list = read_train_data(2)"
   ]
  },
  {
   "cell_type": "code",
   "execution_count": 31,
   "metadata": {
    "ExecuteTime": {
     "end_time": "2019-12-18T04:50:41.836435Z",
     "start_time": "2019-12-18T04:50:41.750284Z"
    }
   },
   "outputs": [
    {
     "name": "stdout",
     "output_type": "stream",
     "text": [
      "[\"i'd\", 'my', 'was', 'to', 'was', 'little', 'in', 'not', 'and', 'was', 'helped', 'something', 'very', 'i', '<s>', 'to', 'ben', '<s>', 'a', 'there']\n"
     ]
    }
   ],
   "source": [
    "print(content_list[0])"
   ]
  },
  {
   "cell_type": "code",
   "execution_count": 32,
   "metadata": {
    "ExecuteTime": {
     "end_time": "2019-12-18T04:50:41.944866Z",
     "start_time": "2019-12-18T04:50:41.839142Z"
    },
    "scrolled": true
   },
   "outputs": [
    {
     "name": "stdout",
     "output_type": "stream",
     "text": [
      "[[['also'], ['often'], ['even'], ['last']], [['delight'], ['relief'], ['anger'], ['worry']], [['scared'], ['shocked'], ['thrilled'], ['ashamed']], [['talk'], ['stay'], ['meet'], ['settle']], [['bathed'], ['clean'], ['deep'], ['formed']], [['faster'], ['closer'], ['heavier'], ['wiser']], [['trouble'], ['advance'], ['question'], ['battle']], [['real'], ['right'], ['fair'], ['fit']], [['stared'], ['sank'], ['dived'], ['fell']], [['arguing'], ['fighting'], ['shouting'], ['shaking']], [['lead'], ['persuade'], ['carry'], ['keep']], [['happened'], ['occurred'], ['applied'], ['appealed']], [['sharp'], ['pleasant'], ['attractive'], ['familiar']], [['agreed'], ['hesitated'], ['doubted'], ['knew']], [['fortunately'], ['frankly'], ['sadly'], ['suddenly']], [['return'], ['relax'], ['speak'], ['leave']], [['joked'], ['turned'], ['listened'], ['pointed']], [['created'], ['honored'], ['saved'], ['guided']], [['coincidence'], ['change'], ['pity'], ['pain']], [['on', 'board'], ['in', 'time'], ['for', 'sure'], ['on', 'purpose']]]\n"
     ]
    }
   ],
   "source": [
    "print(options_list[0])"
   ]
  },
  {
   "cell_type": "code",
   "execution_count": 33,
   "metadata": {
    "ExecuteTime": {
     "end_time": "2019-12-18T04:50:42.064351Z",
     "start_time": "2019-12-18T04:50:41.947364Z"
    }
   },
   "outputs": [
    {
     "name": "stdout",
     "output_type": "stream",
     "text": [
      "['D', 'A', 'C', 'C', 'A', 'B', 'A', 'B', 'C', 'D', 'C', 'B', 'D', 'D', 'A', 'D', 'B', 'C', 'A', 'B']\n"
     ]
    }
   ],
   "source": [
    "print(answers_list[0])"
   ]
  },
  {
   "cell_type": "markdown",
   "metadata": {},
   "source": [
    "<font color=black size=5 face=雅黑>全选A/B/C/D 观察正确率</font>"
   ]
  },
  {
   "cell_type": "code",
   "execution_count": 34,
   "metadata": {
    "ExecuteTime": {
     "end_time": "2019-12-18T04:50:42.209214Z",
     "start_time": "2019-12-18T04:50:42.066801Z"
    },
    "scrolled": true
   },
   "outputs": [
    {
     "name": "stdout",
     "output_type": "stream",
     "text": [
      "---------2---------\n",
      "predict: A ground_true: A\n",
      "空的前后词 my\n",
      "选项 [['delight'], ['relief'], ['anger'], ['worry']]\n",
      "---------5---------\n",
      "predict: A ground_true: A\n",
      "空的前后词 was\n",
      "选项 [['bathed'], ['clean'], ['deep'], ['formed']]\n",
      "---------7---------\n",
      "predict: A ground_true: A\n",
      "空的前后词 in\n",
      "选项 [['trouble'], ['advance'], ['question'], ['battle']]\n",
      "---------15---------\n",
      "predict: A ground_true: A\n",
      "空的前后词 <s>\n",
      "选项 [['fortunately'], ['frankly'], ['sadly'], ['suddenly']]\n",
      "---------19---------\n",
      "predict: A ground_true: A\n",
      "空的前后词 a\n",
      "选项 [['coincidence'], ['change'], ['pity'], ['pain']]\n",
      "---------5---------\n",
      "predict: A ground_true: A\n",
      "空的前后词 could\n",
      "选项 [['see'], ['find'], ['guess'], ['learn']]\n",
      "---------8---------\n",
      "predict: A ground_true: A\n",
      "空的前后词 i\n",
      "选项 [['chatted', 'with'], ['looked', 'at'], ['laughed', 'at'], ['talked', 'about']]\n",
      "---------12---------\n",
      "predict: A ground_true: A\n",
      "空的前后词 and\n",
      "选项 [['left'], ['acted'], ['sat', 'down'], ['calmed', 'down']]\n",
      "---------13---------\n",
      "predict: A ground_true: A\n",
      "空的前后词 had\n",
      "选项 [['wanted'], ['tried'], ['ordered'], ['wished']]\n",
      "---------17---------\n",
      "predict: A ground_true: A\n",
      "空的前后词 i\n",
      "选项 [['must'], ['can'], ['need'], ['may']]\n",
      "---------3---------\n",
      "predict: A ground_true: A\n",
      "空的前后词 weren't\n",
      "选项 [['excited'], ['worried'], ['moved'], ['tired']]\n",
      "---------12---------\n",
      "predict: A ground_true: A\n",
      "空的前后词 <s>\n",
      "选项 [['eventually'], ['naturally'], ['directly'], ['normally']]\n",
      "---------15---------\n",
      "predict: A ground_true: A\n",
      "空的前后词 he\n",
      "选项 [['taught'], ['wrote'], ['questioned'], ['promised']]\n",
      "---------18---------\n",
      "predict: A ground_true: A\n",
      "空的前后词 to\n",
      "选项 [['analyze'], ['describe'], ['rebuild'], ['control']]\n",
      "---------20---------\n",
      "predict: A ground_true: A\n",
      "空的前后词 my\n",
      "选项 [['role'], ['desire'], ['concern'], ['behavior']]\n",
      "accuracy: 0.25\n"
     ]
    }
   ],
   "source": [
    "test(content_list,options_list,answers_list,showAll=False,predict='A')"
   ]
  },
  {
   "cell_type": "code",
   "execution_count": 35,
   "metadata": {
    "ExecuteTime": {
     "end_time": "2019-12-18T04:50:42.355403Z",
     "start_time": "2019-12-18T04:50:42.211512Z"
    },
    "scrolled": true
   },
   "outputs": [
    {
     "name": "stdout",
     "output_type": "stream",
     "text": [
      "---------6---------\n",
      "predict: B ground_true: B\n",
      "空的前后词 little\n",
      "选项 [['faster'], ['closer'], ['heavier'], ['wiser']]\n",
      "---------8---------\n",
      "predict: B ground_true: B\n",
      "空的前后词 not\n",
      "选项 [['real'], ['right'], ['fair'], ['fit']]\n",
      "---------12---------\n",
      "predict: B ground_true: B\n",
      "空的前后词 something\n",
      "选项 [['happened'], ['occurred'], ['applied'], ['appealed']]\n",
      "---------17---------\n",
      "predict: B ground_true: B\n",
      "空的前后词 ben\n",
      "选项 [['joked'], ['turned'], ['listened'], ['pointed']]\n",
      "---------20---------\n",
      "predict: B ground_true: B\n",
      "空的前后词 there\n",
      "选项 [['on', 'board'], ['in', 'time'], ['for', 'sure'], ['on', 'purpose']]\n",
      "---------3---------\n",
      "predict: B ground_true: B\n",
      "空的前后词 newspaper\n",
      "选项 [['flat'], ['open'], ['cut'], ['fixed']]\n",
      "---------7---------\n",
      "predict: B ground_true: B\n",
      "空的前后词 the\n",
      "选项 [['direct'], ['familiar'], ['strange'], ['funny']]\n",
      "---------9---------\n",
      "predict: B ground_true: B\n",
      "空的前后词 as\n",
      "选项 [['the', 'waiter'], ['time'], ['i'], ['the', 'dinner']]\n",
      "---------16---------\n",
      "predict: B ground_true: B\n",
      "空的前后词 my\n",
      "选项 [['care'], ['surprise'], ['worry'], ['regret']]\n",
      "---------18---------\n",
      "predict: B ground_true: B\n",
      "空的前后词 a\n",
      "选项 [['discovery'], ['mistake'], ['decision'], ['fortune']]\n",
      "---------1---------\n",
      "predict: B ground_true: B\n",
      "空的前后词 i\n",
      "选项 [['put', 'forward'], ['jumped', 'at'], ['tried', 'out'], ['turned', 'down']]\n",
      "---------7---------\n",
      "predict: B ground_true: B\n",
      "空的前后词 to\n",
      "选项 [['interview'], ['meet'], ['challenge'], ['beat']]\n",
      "---------10---------\n",
      "predict: B ground_true: B\n",
      "空的前后词 to\n",
      "选项 [['attend'], ['pass'], ['skip'], ['observe']]\n",
      "---------14---------\n",
      "predict: B ground_true: B\n",
      "空的前后词 the\n",
      "选项 [['criterion'], ['classroom'], ['department'], ['situation']]\n",
      "---------17---------\n",
      "predict: B ground_true: B\n",
      "空的前后词 good\n",
      "选项 [['grades'], ['decisions'], ['impressions'], ['comments']]\n",
      "accuracy: 0.25\n"
     ]
    }
   ],
   "source": [
    "test(content_list,options_list,answers_list,showAll=False,predict='B')"
   ]
  },
  {
   "cell_type": "code",
   "execution_count": 36,
   "metadata": {
    "ExecuteTime": {
     "end_time": "2019-12-18T04:50:42.474567Z",
     "start_time": "2019-12-18T04:50:42.357841Z"
    },
    "scrolled": true
   },
   "outputs": [
    {
     "name": "stdout",
     "output_type": "stream",
     "text": [
      "---------3---------\n",
      "predict: C ground_true: C\n",
      "空的前后词 was\n",
      "选项 [['scared'], ['shocked'], ['thrilled'], ['ashamed']]\n",
      "---------4---------\n",
      "predict: C ground_true: C\n",
      "空的前后词 to\n",
      "选项 [['talk'], ['stay'], ['meet'], ['settle']]\n",
      "---------9---------\n",
      "predict: C ground_true: C\n",
      "空的前后词 and\n",
      "选项 [['stared'], ['sank'], ['dived'], ['fell']]\n",
      "---------11---------\n",
      "predict: C ground_true: C\n",
      "空的前后词 helped\n",
      "选项 [['lead'], ['persuade'], ['carry'], ['keep']]\n",
      "---------18---------\n",
      "predict: C ground_true: C\n",
      "空的前后词 <s>\n",
      "选项 [['created'], ['honored'], ['saved'], ['guided']]\n",
      "---------1---------\n",
      "predict: C ground_true: C\n",
      "空的前后词 i\n",
      "选项 [['knew'], ['understood'], ['noticed'], ['recognized']]\n",
      "---------4---------\n",
      "predict: C ground_true: C\n",
      "空的前后词 was\n",
      "选项 [['hoping'], ['thinking'], ['pretending'], ['continuing']]\n",
      "---------10---------\n",
      "predict: C ground_true: C\n",
      "空的前后词 became\n",
      "选项 [['true'], ['hopeful'], ['clear'], ['possible']]\n",
      "---------14---------\n",
      "predict: C ground_true: C\n",
      "空的前后词 he\n",
      "选项 [['met'], ['caught'], ['followed'], ['discovered']]\n",
      "---------20---------\n",
      "predict: C ground_true: C\n",
      "空的前后词 <s>\n",
      "选项 [['thus'], ['however'], ['otherwise'], ['therefore']]\n",
      "---------2---------\n",
      "predict: C ground_true: C\n",
      "空的前后词 to\n",
      "选项 [['waste'], ['earn'], ['save'], ['pay']]\n",
      "---------6---------\n",
      "predict: C ground_true: C\n",
      "空的前后词 game's\n",
      "选项 [['fastest'], ['easiest'], ['best'], ['rarest']]\n",
      "---------9---------\n",
      "predict: C ground_true: C\n",
      "空的前后词 it\n",
      "选项 [['real'], ['perfect'], ['clear'], ['possible']]\n",
      "---------11---------\n",
      "predict: C ground_true: C\n",
      "空的前后词 to\n",
      "选项 [['add'], ['expose'], ['apply'], ['compare']]\n",
      "---------13---------\n",
      "predict: C ground_true: C\n",
      "空的前后词 that\n",
      "选项 [['game'], ['presentation'], ['course'], ['experiment']]\n",
      "accuracy: 0.25\n"
     ]
    }
   ],
   "source": [
    "test(content_list,options_list,answers_list,showAll=False,predict='C')"
   ]
  },
  {
   "cell_type": "code",
   "execution_count": 37,
   "metadata": {
    "ExecuteTime": {
     "end_time": "2019-12-18T04:50:42.618915Z",
     "start_time": "2019-12-18T04:50:42.477075Z"
    },
    "scrolled": true
   },
   "outputs": [
    {
     "name": "stdout",
     "output_type": "stream",
     "text": [
      "---------1---------\n",
      "predict: D ground_true: D\n",
      "空的前后词 i'd\n",
      "选项 [['also'], ['often'], ['even'], ['last']]\n",
      "---------10---------\n",
      "predict: D ground_true: D\n",
      "空的前后词 was\n",
      "选项 [['arguing'], ['fighting'], ['shouting'], ['shaking']]\n",
      "---------13---------\n",
      "predict: D ground_true: D\n",
      "空的前后词 very\n",
      "选项 [['sharp'], ['pleasant'], ['attractive'], ['familiar']]\n",
      "---------14---------\n",
      "predict: D ground_true: D\n",
      "空的前后词 i\n",
      "选项 [['agreed'], ['hesitated'], ['doubted'], ['knew']]\n",
      "---------16---------\n",
      "predict: D ground_true: D\n",
      "空的前后词 to\n",
      "选项 [['return'], ['relax'], ['speak'], ['leave']]\n",
      "---------2---------\n",
      "predict: D ground_true: D\n",
      "空的前后词 <s>\n",
      "选项 [['since'], ['even', 'if'], ['though'], ['as', 'if']]\n",
      "---------6---------\n",
      "predict: D ground_true: D\n",
      "空的前后词 my\n",
      "选项 [['menu'], ['bill'], ['paper'], ['food']]\n",
      "---------11---------\n",
      "predict: D ground_true: D\n",
      "空的前后词 the\n",
      "选项 [['restaurant'], ['washroom'], ['office'], ['kitchen']]\n",
      "---------15---------\n",
      "predict: D ground_true: D\n",
      "空的前后词 he\n",
      "选项 [['was', 'to', 'beat'], ['was', 'dealing', 'with'], ['was', 'to', 'meet'], ['was', 'looking', 'for']]\n",
      "---------19---------\n",
      "predict: D ground_true: D\n",
      "空的前后词 really\n",
      "选项 [['a', 'pity'], ['natural'], ['a', 'chance'], ['lucky']]\n",
      "---------4---------\n",
      "predict: D ground_true: D\n",
      "空的前后词 our\n",
      "选项 [['title'], ['competitor'], ['textbook'], ['instructor']]\n",
      "---------5---------\n",
      "predict: D ground_true: D\n",
      "空的前后词 which\n",
      "选项 [['urged'], ['demanded'], ['held'], ['meant']]\n",
      "---------8---------\n",
      "predict: D ground_true: D\n",
      "空的前后词 this\n",
      "选项 [['chance'], ['qualification'], ['honor'], ['job']]\n",
      "---------16---------\n",
      "predict: D ground_true: D\n",
      "空的前后词 important\n",
      "选项 [['fact'], ['step'], ['manner'], ['skill']]\n",
      "---------19---------\n",
      "predict: D ground_true: D\n",
      "空的前后词 and\n",
      "选项 [['announce'], ['signal'], ['block'], ['evaluate']]\n",
      "accuracy: 0.25\n"
     ]
    }
   ],
   "source": [
    "test(content_list,options_list,answers_list,showAll=False,predict='D')"
   ]
  },
  {
   "cell_type": "markdown",
   "metadata": {
    "ExecuteTime": {
     "end_time": "2019-12-17T02:48:20.529894Z",
     "start_time": "2019-12-17T02:39:27.032Z"
    }
   },
   "source": [
    "<font color=black size=5 face=雅黑>采用bigram模型后，正确率</font>"
   ]
  },
  {
   "cell_type": "code",
   "execution_count": 39,
   "metadata": {
    "ExecuteTime": {
     "end_time": "2019-12-18T04:50:42.962490Z",
     "start_time": "2019-12-18T04:50:42.760705Z"
    },
    "scrolled": true
   },
   "outputs": [
    {
     "name": "stdout",
     "output_type": "stream",
     "text": [
      "---------1---------\n",
      "predict: A ground_true: D\n",
      "空的前后词 i'd\n",
      "选项 [['also'], ['often'], ['even'], ['last']]\n",
      "---------2---------\n",
      "predict: C ground_true: A\n",
      "空的前后词 my\n",
      "选项 [['delight'], ['relief'], ['anger'], ['worry']]\n",
      "---------3---------\n",
      "predict: B ground_true: C\n",
      "空的前后词 was\n",
      "选项 [['scared'], ['shocked'], ['thrilled'], ['ashamed']]\n",
      "---------4---------\n",
      "predict: B ground_true: C\n",
      "空的前后词 to\n",
      "选项 [['talk'], ['stay'], ['meet'], ['settle']]\n",
      "---------5---------\n",
      "predict: D ground_true: A\n",
      "空的前后词 was\n",
      "选项 [['bathed'], ['clean'], ['deep'], ['formed']]\n",
      "---------6---------\n",
      "predict: A ground_true: B\n",
      "空的前后词 little\n",
      "选项 [['faster'], ['closer'], ['heavier'], ['wiser']]\n",
      "---------7---------\n",
      "predict: B ground_true: A\n",
      "空的前后词 in\n",
      "选项 [['trouble'], ['advance'], ['question'], ['battle']]\n",
      "---------8---------\n",
      "predict: B ground_true: B\n",
      "空的前后词 not\n",
      "选项 [['real'], ['right'], ['fair'], ['fit']]\n",
      "---------9---------\n",
      "predict: D ground_true: C\n",
      "空的前后词 and\n",
      "选项 [['stared'], ['sank'], ['dived'], ['fell']]\n",
      "---------10---------\n",
      "predict: D ground_true: D\n",
      "空的前后词 was\n",
      "选项 [['arguing'], ['fighting'], ['shouting'], ['shaking']]\n",
      "---------11---------\n",
      "predict: D ground_true: C\n",
      "空的前后词 helped\n",
      "选项 [['lead'], ['persuade'], ['carry'], ['keep']]\n",
      "---------12---------\n",
      "predict: A ground_true: B\n",
      "空的前后词 something\n",
      "选项 [['happened'], ['occurred'], ['applied'], ['appealed']]\n",
      "---------13---------\n",
      "predict: C ground_true: D\n",
      "空的前后词 very\n",
      "选项 [['sharp'], ['pleasant'], ['attractive'], ['familiar']]\n",
      "---------14---------\n",
      "predict: D ground_true: D\n",
      "空的前后词 i\n",
      "选项 [['agreed'], ['hesitated'], ['doubted'], ['knew']]\n",
      "---------15---------\n",
      "predict: D ground_true: A\n",
      "空的前后词 <s>\n",
      "选项 [['fortunately'], ['frankly'], ['sadly'], ['suddenly']]\n",
      "---------16---------\n",
      "predict: D ground_true: D\n",
      "空的前后词 to\n",
      "选项 [['return'], ['relax'], ['speak'], ['leave']]\n",
      "---------17---------\n",
      "predict: A ground_true: B\n",
      "空的前后词 ben\n",
      "选项 [['joked'], ['turned'], ['listened'], ['pointed']]\n",
      "---------18---------\n",
      "predict: D ground_true: C\n",
      "空的前后词 <s>\n",
      "选项 [['created'], ['honored'], ['saved'], ['guided']]\n",
      "---------19---------\n",
      "predict: B ground_true: A\n",
      "空的前后词 a\n",
      "选项 [['coincidence'], ['change'], ['pity'], ['pain']]\n",
      "---------20---------\n",
      "predict: C ground_true: B\n",
      "空的前后词 there\n",
      "选项 [['on', 'board'], ['in', 'time'], ['for', 'sure'], ['on', 'purpose']]\n",
      "---------1---------\n",
      "predict: A ground_true: C\n",
      "空的前后词 i\n",
      "选项 [['knew'], ['understood'], ['noticed'], ['recognized']]\n",
      "---------2---------\n",
      "predict: D ground_true: D\n",
      "空的前后词 <s>\n",
      "选项 [['since'], ['even', 'if'], ['though'], ['as', 'if']]\n",
      "---------3---------\n",
      "predict: A ground_true: B\n",
      "空的前后词 newspaper\n",
      "选项 [['flat'], ['open'], ['cut'], ['fixed']]\n",
      "---------4---------\n",
      "predict: B ground_true: C\n",
      "空的前后词 was\n",
      "选项 [['hoping'], ['thinking'], ['pretending'], ['continuing']]\n",
      "---------5---------\n",
      "predict: A ground_true: A\n",
      "空的前后词 could\n",
      "选项 [['see'], ['find'], ['guess'], ['learn']]\n",
      "---------6---------\n",
      "predict: C ground_true: D\n",
      "空的前后词 my\n",
      "选项 [['menu'], ['bill'], ['paper'], ['food']]\n",
      "---------7---------\n",
      "predict: C ground_true: B\n",
      "空的前后词 the\n",
      "选项 [['direct'], ['familiar'], ['strange'], ['funny']]\n",
      "---------8---------\n",
      "predict: B ground_true: A\n",
      "空的前后词 i\n",
      "选项 [['chatted', 'with'], ['looked', 'at'], ['laughed', 'at'], ['talked', 'about']]\n",
      "---------9---------\n",
      "predict: A ground_true: B\n",
      "空的前后词 as\n",
      "选项 [['the', 'waiter'], ['time'], ['i'], ['the', 'dinner']]\n",
      "---------10---------\n",
      "predict: C ground_true: C\n",
      "空的前后词 became\n",
      "选项 [['true'], ['hopeful'], ['clear'], ['possible']]\n",
      "---------11---------\n",
      "predict: D ground_true: D\n",
      "空的前后词 the\n",
      "选项 [['restaurant'], ['washroom'], ['office'], ['kitchen']]\n",
      "---------12---------\n",
      "predict: A ground_true: A\n",
      "空的前后词 and\n",
      "选项 [['left'], ['acted'], ['sat', 'down'], ['calmed', 'down']]\n",
      "---------13---------\n",
      "predict: B ground_true: A\n",
      "空的前后词 had\n",
      "选项 [['wanted'], ['tried'], ['ordered'], ['wished']]\n",
      "---------14---------\n",
      "predict: A ground_true: C\n",
      "空的前后词 he\n",
      "选项 [['met'], ['caught'], ['followed'], ['discovered']]\n",
      "---------15---------\n",
      "predict: A ground_true: D\n",
      "空的前后词 he\n",
      "选项 [['was', 'to', 'beat'], ['was', 'dealing', 'with'], ['was', 'to', 'meet'], ['was', 'looking', 'for']]\n",
      "---------16---------\n",
      "predict: B ground_true: B\n",
      "空的前后词 my\n",
      "选项 [['care'], ['surprise'], ['worry'], ['regret']]\n",
      "---------17---------\n",
      "predict: B ground_true: A\n",
      "空的前后词 i\n",
      "选项 [['must'], ['can'], ['need'], ['may']]\n",
      "---------18---------\n",
      "predict: B ground_true: B\n",
      "空的前后词 a\n",
      "选项 [['discovery'], ['mistake'], ['decision'], ['fortune']]\n",
      "---------19---------\n",
      "predict: A ground_true: D\n",
      "空的前后词 really\n",
      "选项 [['a', 'pity'], ['natural'], ['a', 'chance'], ['lucky']]\n",
      "---------20---------\n",
      "predict: B ground_true: C\n",
      "空的前后词 <s>\n",
      "选项 [['thus'], ['however'], ['otherwise'], ['therefore']]\n",
      "---------1---------\n",
      "predict: C ground_true: B\n",
      "空的前后词 i\n",
      "选项 [['put', 'forward'], ['jumped', 'at'], ['tried', 'out'], ['turned', 'down']]\n",
      "---------2---------\n",
      "predict: D ground_true: C\n",
      "空的前后词 to\n",
      "选项 [['waste'], ['earn'], ['save'], ['pay']]\n",
      "---------3---------\n",
      "predict: A ground_true: A\n",
      "空的前后词 weren't\n",
      "选项 [['excited'], ['worried'], ['moved'], ['tired']]\n",
      "---------4---------\n",
      "predict: A ground_true: D\n",
      "空的前后词 our\n",
      "选项 [['title'], ['competitor'], ['textbook'], ['instructor']]\n",
      "---------5---------\n",
      "predict: D ground_true: D\n",
      "空的前后词 which\n",
      "选项 [['urged'], ['demanded'], ['held'], ['meant']]\n",
      "---------6---------\n",
      "predict: A ground_true: C\n",
      "空的前后词 game's\n",
      "选项 [['fastest'], ['easiest'], ['best'], ['rarest']]\n",
      "---------7---------\n",
      "predict: B ground_true: B\n",
      "空的前后词 to\n",
      "选项 [['interview'], ['meet'], ['challenge'], ['beat']]\n",
      "---------8---------\n",
      "predict: D ground_true: D\n",
      "空的前后词 this\n",
      "选项 [['chance'], ['qualification'], ['honor'], ['job']]\n",
      "---------9---------\n",
      "predict: D ground_true: C\n",
      "空的前后词 it\n",
      "选项 [['real'], ['perfect'], ['clear'], ['possible']]\n",
      "---------10---------\n",
      "predict: A ground_true: B\n",
      "空的前后词 to\n",
      "选项 [['attend'], ['pass'], ['skip'], ['observe']]\n",
      "---------11---------\n",
      "predict: A ground_true: C\n",
      "空的前后词 to\n",
      "选项 [['add'], ['expose'], ['apply'], ['compare']]\n",
      "---------12---------\n",
      "predict: A ground_true: A\n",
      "空的前后词 <s>\n",
      "选项 [['eventually'], ['naturally'], ['directly'], ['normally']]\n",
      "---------13---------\n",
      "predict: A ground_true: C\n",
      "空的前后词 that\n",
      "选项 [['game'], ['presentation'], ['course'], ['experiment']]\n",
      "---------14---------\n",
      "predict: B ground_true: B\n",
      "空的前后词 the\n",
      "选项 [['criterion'], ['classroom'], ['department'], ['situation']]\n",
      "---------15---------\n",
      "predict: B ground_true: A\n",
      "空的前后词 he\n",
      "选项 [['taught'], ['wrote'], ['questioned'], ['promised']]\n",
      "---------16---------\n",
      "predict: B ground_true: D\n",
      "空的前后词 important\n",
      "选项 [['fact'], ['step'], ['manner'], ['skill']]\n",
      "---------17---------\n",
      "predict: A ground_true: B\n",
      "空的前后词 good\n",
      "选项 [['grades'], ['decisions'], ['impressions'], ['comments']]\n",
      "---------18---------\n",
      "predict: D ground_true: A\n",
      "空的前后词 to\n",
      "选项 [['analyze'], ['describe'], ['rebuild'], ['control']]\n",
      "---------19---------\n",
      "predict: C ground_true: D\n",
      "空的前后词 and\n",
      "选项 [['announce'], ['signal'], ['block'], ['evaluate']]\n",
      "---------20---------\n",
      "predict: B ground_true: A\n",
      "空的前后词 my\n",
      "选项 [['role'], ['desire'], ['concern'], ['behavior']]\n",
      "accuracy: 0.2833333333333333\n"
     ]
    }
   ],
   "source": [
    "test(content_list,options_list,answers_list,True)"
   ]
  },
  {
   "cell_type": "code",
   "execution_count": 40,
   "metadata": {
    "ExecuteTime": {
     "end_time": "2019-12-18T04:50:43.007420Z",
     "start_time": "2019-12-18T04:50:42.965400Z"
    },
    "scrolled": true
   },
   "outputs": [
    {
     "name": "stdout",
     "output_type": "stream",
     "text": [
      "---------8---------\n",
      "predict: B ground_true: B\n",
      "空的前后词 not\n",
      "选项 [['real'], ['right'], ['fair'], ['fit']]\n",
      "---------10---------\n",
      "predict: D ground_true: D\n",
      "空的前后词 was\n",
      "选项 [['arguing'], ['fighting'], ['shouting'], ['shaking']]\n",
      "---------14---------\n",
      "predict: D ground_true: D\n",
      "空的前后词 i\n",
      "选项 [['agreed'], ['hesitated'], ['doubted'], ['knew']]\n",
      "---------16---------\n",
      "predict: D ground_true: D\n",
      "空的前后词 to\n",
      "选项 [['return'], ['relax'], ['speak'], ['leave']]\n",
      "---------2---------\n",
      "predict: D ground_true: D\n",
      "空的前后词 <s>\n",
      "选项 [['since'], ['even', 'if'], ['though'], ['as', 'if']]\n",
      "---------5---------\n",
      "predict: A ground_true: A\n",
      "空的前后词 could\n",
      "选项 [['see'], ['find'], ['guess'], ['learn']]\n",
      "---------10---------\n",
      "predict: C ground_true: C\n",
      "空的前后词 became\n",
      "选项 [['true'], ['hopeful'], ['clear'], ['possible']]\n",
      "---------11---------\n",
      "predict: D ground_true: D\n",
      "空的前后词 the\n",
      "选项 [['restaurant'], ['washroom'], ['office'], ['kitchen']]\n",
      "---------12---------\n",
      "predict: A ground_true: A\n",
      "空的前后词 and\n",
      "选项 [['left'], ['acted'], ['sat', 'down'], ['calmed', 'down']]\n",
      "---------16---------\n",
      "predict: B ground_true: B\n",
      "空的前后词 my\n",
      "选项 [['care'], ['surprise'], ['worry'], ['regret']]\n",
      "---------18---------\n",
      "predict: B ground_true: B\n",
      "空的前后词 a\n",
      "选项 [['discovery'], ['mistake'], ['decision'], ['fortune']]\n",
      "---------3---------\n",
      "predict: A ground_true: A\n",
      "空的前后词 weren't\n",
      "选项 [['excited'], ['worried'], ['moved'], ['tired']]\n",
      "---------5---------\n",
      "predict: D ground_true: D\n",
      "空的前后词 which\n",
      "选项 [['urged'], ['demanded'], ['held'], ['meant']]\n",
      "---------7---------\n",
      "predict: B ground_true: B\n",
      "空的前后词 to\n",
      "选项 [['interview'], ['meet'], ['challenge'], ['beat']]\n",
      "---------8---------\n",
      "predict: D ground_true: D\n",
      "空的前后词 this\n",
      "选项 [['chance'], ['qualification'], ['honor'], ['job']]\n",
      "---------12---------\n",
      "predict: A ground_true: A\n",
      "空的前后词 <s>\n",
      "选项 [['eventually'], ['naturally'], ['directly'], ['normally']]\n",
      "---------14---------\n",
      "predict: B ground_true: B\n",
      "空的前后词 the\n",
      "选项 [['criterion'], ['classroom'], ['department'], ['situation']]\n",
      "accuracy: 0.2833333333333333\n"
     ]
    }
   ],
   "source": [
    "test(content_list,options_list,answers_list,False)"
   ]
  },
  {
   "cell_type": "markdown",
   "metadata": {
    "ExecuteTime": {
     "end_time": "2019-12-15T05:35:45.947587Z",
     "start_time": "2019-12-15T05:35:45.943222Z"
    }
   },
   "source": [
    "<font color=blue size=15 face=雅黑>trigram Test</font>"
   ]
  },
  {
   "cell_type": "code",
   "execution_count": 41,
   "metadata": {
    "ExecuteTime": {
     "end_time": "2019-12-18T05:34:27.291862Z",
     "start_time": "2019-12-18T05:34:03.048843Z"
    },
    "collapsed": true
   },
   "outputs": [],
   "source": [
    "N = 3\n",
    "pre_words,be_words,words = count_word_num(lines,3)"
   ]
  },
  {
   "cell_type": "code",
   "execution_count": 42,
   "metadata": {
    "ExecuteTime": {
     "end_time": "2019-12-18T05:34:27.299986Z",
     "start_time": "2019-12-18T05:34:27.294627Z"
    },
    "collapsed": true
   },
   "outputs": [],
   "source": [
    "content_list,options_list,answers_list = read_train_data(N)"
   ]
  },
  {
   "cell_type": "code",
   "execution_count": 45,
   "metadata": {
    "ExecuteTime": {
     "end_time": "2019-12-18T05:36:49.310160Z",
     "start_time": "2019-12-18T05:36:49.202143Z"
    }
   },
   "outputs": [
    {
     "name": "stdout",
     "output_type": "stream",
     "text": [
      "---------1---------\n",
      "predict: A ground_true: D\n",
      "空的前后词 sincei'd\n",
      "选项 [['also'], ['often'], ['even'], ['last']]\n",
      "---------2---------\n",
      "predict: A ground_true: A\n",
      "空的前后词 imaginemy\n",
      "选项 [['delight'], ['relief'], ['anger'], ['worry']]\n",
      "---------3---------\n",
      "predict: A ground_true: C\n",
      "空的前后词 iwas\n",
      "选项 [['scared'], ['shocked'], ['thrilled'], ['ashamed']]\n",
      "---------4---------\n",
      "predict: A ground_true: C\n",
      "空的前后词 supposedto\n",
      "选项 [['talk'], ['stay'], ['meet'], ['settle']]\n",
      "---------5---------\n",
      "predict: A ground_true: A\n",
      "空的前后词 baywas\n",
      "选项 [['bathed'], ['clean'], ['deep'], ['formed']]\n",
      "---------6---------\n",
      "predict: A ground_true: B\n",
      "空的前后词 alittle\n",
      "选项 [['faster'], ['closer'], ['heavier'], ['wiser']]\n",
      "---------7---------\n",
      "predict: A ground_true: A\n",
      "空的前后词 wasin\n",
      "选项 [['trouble'], ['advance'], ['question'], ['battle']]\n",
      "---------8---------\n",
      "predict: A ground_true: B\n",
      "空的前后词 <s><s>\n",
      "选项 [['real'], ['right'], ['fair'], ['fit']]\n",
      "---------9---------\n",
      "predict: A ground_true: C\n",
      "空的前后词 t-shirtand\n",
      "选项 [['stared'], ['sank'], ['dived'], ['fell']]\n",
      "---------10---------\n",
      "predict: A ground_true: D\n",
      "空的前后词 hewas\n",
      "选项 [['arguing'], ['fighting'], ['shouting'], ['shaking']]\n",
      "---------11---------\n",
      "predict: A ground_true: C\n",
      "空的前后词 ihelped\n",
      "选项 [['lead'], ['persuade'], ['carry'], ['keep']]\n",
      "---------12---------\n",
      "predict: A ground_true: B\n",
      "空的前后词 <s><s>\n",
      "选项 [['happened'], ['occurred'], ['applied'], ['appealed']]\n",
      "---------13---------\n",
      "predict: A ground_true: D\n",
      "空的前后词 werevery\n",
      "选项 [['sharp'], ['pleasant'], ['attractive'], ['familiar']]\n",
      "---------14---------\n",
      "predict: A ground_true: D\n",
      "空的前后词 immediatelyi\n",
      "选项 [['agreed'], ['hesitated'], ['doubted'], ['knew']]\n",
      "---------15---------\n",
      "predict: A ground_true: A\n",
      "空的前后词 <s><s>\n",
      "选项 [['fortunately'], ['frankly'], ['sadly'], ['suddenly']]\n",
      "---------16---------\n",
      "predict: A ground_true: D\n",
      "空的前后词 allowedto\n",
      "选项 [['return'], ['relax'], ['speak'], ['leave']]\n",
      "---------17---------\n",
      "predict: A ground_true: B\n",
      "空的前后词 thenben\n",
      "选项 [['joked'], ['turned'], ['listened'], ['pointed']]\n",
      "---------18---------\n",
      "predict: A ground_true: C\n",
      "空的前后词 <s><s>\n",
      "选项 [['created'], ['honored'], ['saved'], ['guided']]\n",
      "---------19---------\n",
      "predict: A ground_true: A\n",
      "空的前后词 whata\n",
      "选项 [['coincidence'], ['change'], ['pity'], ['pain']]\n",
      "---------20---------\n",
      "predict: A ground_true: B\n",
      "空的前后词 wasthere\n",
      "选项 [['on', 'board'], ['in', 'time'], ['for', 'sure'], ['on', 'purpose']]\n",
      "---------1---------\n",
      "predict: A ground_true: C\n",
      "空的前后词 suddenlyi\n",
      "选项 [['knew'], ['understood'], ['noticed'], ['recognized']]\n",
      "---------2---------\n",
      "predict: A ground_true: D\n",
      "空的前后词 <s><s>\n",
      "选项 [['since'], ['even', 'if'], ['though'], ['as', 'if']]\n",
      "---------3---------\n",
      "predict: A ground_true: B\n",
      "空的前后词 anewspaper\n",
      "选项 [['flat'], ['open'], ['cut'], ['fixed']]\n",
      "---------4---------\n",
      "predict: A ground_true: C\n",
      "空的前后词 hewas\n",
      "选项 [['hoping'], ['thinking'], ['pretending'], ['continuing']]\n",
      "---------5---------\n",
      "predict: A ground_true: A\n",
      "空的前后词 icould\n",
      "选项 [['see'], ['find'], ['guess'], ['learn']]\n",
      "---------6---------\n",
      "predict: A ground_true: D\n",
      "空的前后词 broughtmy\n",
      "选项 [['menu'], ['bill'], ['paper'], ['food']]\n",
      "---------7---------\n",
      "predict: A ground_true: B\n",
      "空的前后词 bythe\n",
      "选项 [['direct'], ['familiar'], ['strange'], ['funny']]\n",
      "---------8---------\n",
      "predict: A ground_true: A\n",
      "空的前后词 andi\n",
      "选项 [['chatted', 'with'], ['looked', 'at'], ['laughed', 'at'], ['talked', 'about']]\n",
      "---------9---------\n",
      "predict: A ground_true: B\n",
      "空的前后词 puzzledas\n",
      "选项 [['the', 'waiter'], ['time'], ['i'], ['the', 'dinner']]\n",
      "---------10---------\n",
      "predict: A ground_true: C\n",
      "空的前后词 itbecame\n",
      "选项 [['true'], ['hopeful'], ['clear'], ['possible']]\n",
      "---------11---------\n",
      "predict: A ground_true: D\n",
      "空的前后词 intothe\n",
      "选项 [['restaurant'], ['washroom'], ['office'], ['kitchen']]\n",
      "---------12---------\n",
      "predict: A ground_true: A\n",
      "空的前后词 billand\n",
      "选项 [['left'], ['acted'], ['sat', 'down'], ['calmed', 'down']]\n",
      "---------13---------\n",
      "predict: A ground_true: A\n",
      "空的前后词 manhad\n",
      "选项 [['wanted'], ['tried'], ['ordered'], ['wished']]\n",
      "---------14---------\n",
      "predict: A ground_true: C\n",
      "空的前后词 <s><s>\n",
      "选项 [['met'], ['caught'], ['followed'], ['discovered']]\n",
      "---------15---------\n",
      "predict: A ground_true: D\n",
      "空的前后词 manhe\n",
      "选项 [['was', 'to', 'beat'], ['was', 'dealing', 'with'], ['was', 'to', 'meet'], ['was', 'looking', 'for']]\n",
      "---------16---------\n",
      "predict: A ground_true: B\n",
      "空的前后词 showingmy\n",
      "选项 [['care'], ['surprise'], ['worry'], ['regret']]\n",
      "---------17---------\n",
      "predict: A ground_true: A\n",
      "空的前后词 <s><s>\n",
      "选项 [['must'], ['can'], ['need'], ['may']]\n",
      "---------18---------\n",
      "predict: A ground_true: B\n",
      "空的前后词 madea\n",
      "选项 [['discovery'], ['mistake'], ['decision'], ['fortune']]\n",
      "---------19---------\n",
      "predict: A ground_true: D\n",
      "空的前后词 it'sreally\n",
      "选项 [['a', 'pity'], ['natural'], ['a', 'chance'], ['lucky']]\n",
      "---------20---------\n",
      "predict: A ground_true: C\n",
      "空的前后词 <s><s>\n",
      "选项 [['thus'], ['however'], ['otherwise'], ['therefore']]\n",
      "---------1---------\n",
      "predict: A ground_true: B\n",
      "空的前后词 <s><s>\n",
      "选项 [['put', 'forward'], ['jumped', 'at'], ['tried', 'out'], ['turned', 'down']]\n",
      "---------2---------\n",
      "predict: A ground_true: C\n",
      "空的前后词 wantto\n",
      "选项 [['waste'], ['earn'], ['save'], ['pay']]\n",
      "---------3---------\n",
      "predict: A ground_true: A\n",
      "空的前后词 iweren't\n",
      "选项 [['excited'], ['worried'], ['moved'], ['tired']]\n",
      "---------4---------\n",
      "predict: A ground_true: D\n",
      "空的前后词 aboutour\n",
      "选项 [['title'], ['competitor'], ['textbook'], ['instructor']]\n",
      "---------5---------\n",
      "predict: A ground_true: D\n",
      "空的前后词 <s><s>\n",
      "选项 [['urged'], ['demanded'], ['held'], ['meant']]\n",
      "---------6---------\n",
      "predict: A ground_true: C\n",
      "空的前后词 thegame's\n",
      "选项 [['fastest'], ['easiest'], ['best'], ['rarest']]\n",
      "---------7---------\n",
      "predict: A ground_true: B\n",
      "空的前后词 waitto\n",
      "选项 [['interview'], ['meet'], ['challenge'], ['beat']]\n",
      "---------8---------\n",
      "predict: A ground_true: D\n",
      "空的前后词 andthis\n",
      "选项 [['chance'], ['qualification'], ['honor'], ['job']]\n",
      "---------9---------\n",
      "predict: A ground_true: C\n",
      "空的前后词 madeit\n",
      "选项 [['real'], ['perfect'], ['clear'], ['possible']]\n",
      "---------10---------\n",
      "predict: A ground_true: B\n",
      "空的前后词 orderto\n",
      "选项 [['attend'], ['pass'], ['skip'], ['observe']]\n",
      "---------11---------\n",
      "predict: A ground_true: C\n",
      "空的前后词 planto\n",
      "选项 [['add'], ['expose'], ['apply'], ['compare']]\n",
      "---------12---------\n",
      "predict: A ground_true: A\n",
      "空的前后词 <s><s>\n",
      "选项 [['eventually'], ['naturally'], ['directly'], ['normally']]\n",
      "---------13---------\n",
      "predict: A ground_true: C\n",
      "空的前后词 inthat\n",
      "选项 [['game'], ['presentation'], ['course'], ['experiment']]\n",
      "---------14---------\n",
      "predict: A ground_true: B\n",
      "空的前后词 beyondthe\n",
      "选项 [['criterion'], ['classroom'], ['department'], ['situation']]\n",
      "---------15---------\n",
      "predict: A ground_true: A\n",
      "空的前后词 whathe\n",
      "选项 [['taught'], ['wrote'], ['questioned'], ['promised']]\n",
      "---------16---------\n",
      "predict: A ground_true: D\n",
      "空的前后词 mostimportant\n",
      "选项 [['fact'], ['step'], ['manner'], ['skill']]\n",
      "---------17---------\n",
      "predict: A ground_true: B\n",
      "空的前后词 makegood\n",
      "选项 [['grades'], ['decisions'], ['impressions'], ['comments']]\n",
      "---------18---------\n",
      "predict: A ground_true: A\n",
      "空的前后词 haveto\n",
      "选项 [['analyze'], ['describe'], ['rebuild'], ['control']]\n",
      "---------19---------\n",
      "predict: A ground_true: D\n",
      "空的前后词 doingand\n",
      "选项 [['announce'], ['signal'], ['block'], ['evaluate']]\n",
      "---------20---------\n",
      "predict: A ground_true: A\n",
      "空的前后词 inmy\n",
      "选项 [['role'], ['desire'], ['concern'], ['behavior']]\n",
      "accuracy: 0.25\n"
     ]
    }
   ],
   "source": [
    "test(content_list,options_list,answers_list,True)"
   ]
  },
  {
   "cell_type": "code",
   "execution_count": 46,
   "metadata": {
    "ExecuteTime": {
     "end_time": "2019-12-18T05:36:59.107508Z",
     "start_time": "2019-12-18T05:36:59.072726Z"
    }
   },
   "outputs": [
    {
     "name": "stdout",
     "output_type": "stream",
     "text": [
      "---------2---------\n",
      "predict: A ground_true: A\n",
      "空的前后词 imaginemy\n",
      "选项 [['delight'], ['relief'], ['anger'], ['worry']]\n",
      "---------5---------\n",
      "predict: A ground_true: A\n",
      "空的前后词 baywas\n",
      "选项 [['bathed'], ['clean'], ['deep'], ['formed']]\n",
      "---------7---------\n",
      "predict: A ground_true: A\n",
      "空的前后词 wasin\n",
      "选项 [['trouble'], ['advance'], ['question'], ['battle']]\n",
      "---------15---------\n",
      "predict: A ground_true: A\n",
      "空的前后词 <s><s>\n",
      "选项 [['fortunately'], ['frankly'], ['sadly'], ['suddenly']]\n",
      "---------19---------\n",
      "predict: A ground_true: A\n",
      "空的前后词 whata\n",
      "选项 [['coincidence'], ['change'], ['pity'], ['pain']]\n",
      "---------5---------\n",
      "predict: A ground_true: A\n",
      "空的前后词 icould\n",
      "选项 [['see'], ['find'], ['guess'], ['learn']]\n",
      "---------8---------\n",
      "predict: A ground_true: A\n",
      "空的前后词 andi\n",
      "选项 [['chatted', 'with'], ['looked', 'at'], ['laughed', 'at'], ['talked', 'about']]\n",
      "---------12---------\n",
      "predict: A ground_true: A\n",
      "空的前后词 billand\n",
      "选项 [['left'], ['acted'], ['sat', 'down'], ['calmed', 'down']]\n",
      "---------13---------\n",
      "predict: A ground_true: A\n",
      "空的前后词 manhad\n",
      "选项 [['wanted'], ['tried'], ['ordered'], ['wished']]\n",
      "---------17---------\n",
      "predict: A ground_true: A\n",
      "空的前后词 <s><s>\n",
      "选项 [['must'], ['can'], ['need'], ['may']]\n",
      "---------3---------\n",
      "predict: A ground_true: A\n",
      "空的前后词 iweren't\n",
      "选项 [['excited'], ['worried'], ['moved'], ['tired']]\n",
      "---------12---------\n",
      "predict: A ground_true: A\n",
      "空的前后词 <s><s>\n",
      "选项 [['eventually'], ['naturally'], ['directly'], ['normally']]\n",
      "---------15---------\n",
      "predict: A ground_true: A\n",
      "空的前后词 whathe\n",
      "选项 [['taught'], ['wrote'], ['questioned'], ['promised']]\n",
      "---------18---------\n",
      "predict: A ground_true: A\n",
      "空的前后词 haveto\n",
      "选项 [['analyze'], ['describe'], ['rebuild'], ['control']]\n",
      "---------20---------\n",
      "predict: A ground_true: A\n",
      "空的前后词 inmy\n",
      "选项 [['role'], ['desire'], ['concern'], ['behavior']]\n",
      "accuracy: 0.25\n"
     ]
    }
   ],
   "source": [
    "test(content_list,options_list,answers_list,False)"
   ]
  },
  {
   "cell_type": "code",
   "execution_count": null,
   "metadata": {
    "ExecuteTime": {
     "end_time": "2019-12-18T04:06:31.425149Z",
     "start_time": "2019-12-18T03:13:03.588Z"
    }
   },
   "outputs": [],
   "source": [
    "words_matrix_df = pd.DataFrame(words_matrix)\n",
    "words_matrix_df.columns = be_words\n",
    "words_matrix_df.index = pre_words\n",
    "words_matrix_df.drop(['<s>'],axis = 1,inplace=True)"
   ]
  },
  {
   "cell_type": "code",
   "execution_count": null,
   "metadata": {
    "ExecuteTime": {
     "end_time": "2019-12-18T04:06:31.426226Z",
     "start_time": "2019-12-18T03:13:04.403Z"
    }
   },
   "outputs": [],
   "source": [
    "words_matrix_df[20:].head()"
   ]
  },
  {
   "cell_type": "code",
   "execution_count": null,
   "metadata": {
    "collapsed": true
   },
   "outputs": [],
   "source": []
  }
 ],
 "metadata": {
  "kernelspec": {
   "display_name": "Python 3",
   "language": "python",
   "name": "python3"
  },
  "language_info": {
   "codemirror_mode": {
    "name": "ipython",
    "version": 3
   },
   "file_extension": ".py",
   "mimetype": "text/x-python",
   "name": "python",
   "nbconvert_exporter": "python",
   "pygments_lexer": "ipython3",
   "version": "3.6.2"
  }
 },
 "nbformat": 4,
 "nbformat_minor": 2
}
