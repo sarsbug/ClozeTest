{
 "cells": [
  {
   "cell_type": "code",
   "execution_count": 1,
   "metadata": {
    "ExecuteTime": {
     "end_time": "2019-12-24T02:01:41.099249Z",
     "start_time": "2019-12-24T02:01:40.176289Z"
    },
    "collapsed": true
   },
   "outputs": [],
   "source": [
    "import torch\n",
    "import torch.autograd as autograd\n",
    "import torch.nn as nn\n",
    "import torch.nn.functional as F\n",
    "import torch.optim as optim\n",
    "import glob \n",
    "import json\n",
    "import re\n",
    "import string\n",
    "import operator\n",
    "import collections\n",
    "import numpy as np\n",
    "import string\n",
    "import math\n",
    "from tqdm import tqdm\n",
    "from array import array\n",
    "import pandas as pd"
   ]
  },
  {
   "cell_type": "code",
   "execution_count": 2,
   "metadata": {
    "ExecuteTime": {
     "end_time": "2019-12-24T02:01:41.105455Z",
     "start_time": "2019-12-24T02:01:41.102640Z"
    },
    "collapsed": true
   },
   "outputs": [],
   "source": [
    "NONE_STR = '<s>'"
   ]
  },
  {
   "cell_type": "code",
   "execution_count": 3,
   "metadata": {
    "ExecuteTime": {
     "end_time": "2019-12-24T02:01:41.228963Z",
     "start_time": "2019-12-24T02:01:41.107657Z"
    },
    "collapsed": true
   },
   "outputs": [],
   "source": [
    "def delete_other_letter(line):\n",
    "    punctuation =\"\"\"!\"#$%&\\()*+,./:;<=>?@[\\\\]^_`{|}~\\\\n\"\"\"\n",
    "    re_punctuation =\"[{}]+\".format(punctuation)\n",
    "    line =re.sub(re_punctuation, \"\", line)\n",
    "    return line.lower()"
   ]
  },
  {
   "cell_type": "code",
   "execution_count": 4,
   "metadata": {
    "ExecuteTime": {
     "end_time": "2019-12-24T02:01:41.348586Z",
     "start_time": "2019-12-24T02:01:41.231620Z"
    },
    "collapsed": true
   },
   "outputs": [],
   "source": [
    "def read_articles(paths):\n",
    "    alllines = []\n",
    "    for path in paths:\n",
    "        filenames = glob.glob(path+\"/*txt\")\n",
    "        for filename in filenames:\n",
    "            with open(filename, 'r', encoding='utf-8') as fpr:\n",
    "                data_raw = json.load(fpr)\n",
    "                article = data_raw['article']\n",
    "                \n",
    "                lines = article.split('.')\n",
    "                for line in lines:\n",
    "                    line = delete_other_letter(line)\n",
    "                    alllines.append(line)\n",
    "                \n",
    "    return alllines"
   ]
  },
  {
   "cell_type": "code",
   "execution_count": 5,
   "metadata": {
    "ExecuteTime": {
     "end_time": "2019-12-24T02:01:47.371217Z",
     "start_time": "2019-12-24T02:01:41.350982Z"
    },
    "collapsed": true
   },
   "outputs": [],
   "source": [
    "lines = read_articles(['./RACE/train/high','./RACE/train/middle'])"
   ]
  },
  {
   "cell_type": "code",
   "execution_count": 6,
   "metadata": {
    "ExecuteTime": {
     "end_time": "2019-12-24T02:01:47.377736Z",
     "start_time": "2019-12-24T02:01:47.373624Z"
    },
    "scrolled": true
   },
   "outputs": [
    {
     "name": "stdout",
     "output_type": "stream",
     "text": [
      "499388\n"
     ]
    }
   ],
   "source": [
    "print(len(lines))"
   ]
  },
  {
   "cell_type": "code",
   "execution_count": 7,
   "metadata": {
    "ExecuteTime": {
     "end_time": "2019-12-24T02:01:47.612415Z",
     "start_time": "2019-12-24T02:01:47.379935Z"
    },
    "collapsed": true
   },
   "outputs": [],
   "source": [
    "# def word_dict(lines):\n",
    "#     word_freq = collections.defaultdict(int)\n",
    "#     for line in lines:\n",
    "#         for w in line.split(): \n",
    "#             word_freq[w] += 1\n",
    "    \n",
    "#     return list(word_freq.keys())"
   ]
  },
  {
   "cell_type": "code",
   "execution_count": 8,
   "metadata": {
    "ExecuteTime": {
     "end_time": "2019-12-24T02:01:47.852894Z",
     "start_time": "2019-12-24T02:01:47.614920Z"
    },
    "collapsed": true
   },
   "outputs": [],
   "source": [
    "# def get_words_matrix(words,lines):                                                                                                                                                                                                                                                                                                                                                                                                                                                                                                                                                                                                                                                                                                                                                                                                                                                                                                                                                                                                                                                                                                                                                                                                                                                                                                                                                                                                                                                                                                                                                                                                                                                                                                                                                                                                                                                                                                                                                                                                                                                                                                                                                                                                                                                                                                                                                                                                                                                                                                                                                                                                                                                                                                                                                                                                                                                                                                                                                                                                                                                                                                                                                                                                                                                                                                                                                                                                                                                                                                                                                                                                                                                                                                                                                                                                                                                                                                                                                                                                                                                                                                                                                                                                                                                                                                                                                                                                                                                                                                                                                                                                                                                                                                                                                                                                                                                                                                               \n",
    "#     for line in lines:\n",
    "#         line_words = line.split()\n",
    "#         n = len(line_words)\n",
    "#         for i in range(n-1):\n",
    "#             ww = line_words[i+1]\n",
    "#             i = words.index(line_words[i])\n",
    "#             j = words.index(ww)\n",
    "#             words_matrix[i][j] += 1"
   ]
  },
  {
   "cell_type": "code",
   "execution_count": 9,
   "metadata": {
    "ExecuteTime": {
     "end_time": "2019-12-24T02:01:47.997533Z",
     "start_time": "2019-12-24T02:01:47.857905Z"
    },
    "collapsed": true
   },
   "outputs": [],
   "source": [
    "def word_dict(lines,n):\n",
    "                \n",
    "    pre_words = collections.defaultdict(int)\n",
    "    be_words = collections.defaultdict(int)\n",
    "    n = n-1\n",
    "    for line in lines:\n",
    "        for k in range(n):\n",
    "            line = NONE_STR+' '+line+' '+NONE_STR\n",
    "        line_words = line.split()\n",
    "        for i in range(len(line_words)-(n-1)):\n",
    "            ngramTemp = ' '.join(line_words[i:i+n])\n",
    "\n",
    "            pre_words[ngramTemp] += 1\n",
    "            be_words[line_words[i]] += 1\n",
    "            \n",
    "    return pre_words,be_words"
   ]
  },
  {
   "cell_type": "code",
   "execution_count": 10,
   "metadata": {
    "ExecuteTime": {
     "end_time": "2019-12-24T02:01:48.092779Z",
     "start_time": "2019-12-24T02:01:48.000934Z"
    },
    "collapsed": true
   },
   "outputs": [],
   "source": [
    "def replace_punctuation(word):\n",
    "    for puc in punctuation_list:\n",
    "        word = word.replace(puc,'')\n",
    "    return word"
   ]
  },
  {
   "cell_type": "code",
   "execution_count": 11,
   "metadata": {
    "ExecuteTime": {
     "end_time": "2019-12-24T02:01:48.248258Z",
     "start_time": "2019-12-24T02:01:48.096016Z"
    },
    "collapsed": true
   },
   "outputs": [],
   "source": [
    "def replace_Chinese_punctuation(content):\n",
    "    content = content.replace('’','\\'')\n",
    "    content = content.replace('”','')\n",
    "    return content"
   ]
  },
  {
   "cell_type": "code",
   "execution_count": 12,
   "metadata": {
    "ExecuteTime": {
     "end_time": "2019-12-24T02:01:48.392579Z",
     "start_time": "2019-12-24T02:01:48.251073Z"
    },
    "collapsed": true
   },
   "outputs": [],
   "source": [
    "def get_options(options_str):\n",
    "    options_str = replace_Chinese_punctuation(options_str)\n",
    "    options = []\n",
    "    opt_rows = options_str.split('#')\n",
    "    for opt in opt_rows:\n",
    "        indexA = opt.find('A.')\n",
    "        indexB = opt.find('B.')\n",
    "        indexC = opt.find('C.')\n",
    "        indexD = opt.find('D.')\n",
    "        As = opt[indexA+2:indexB].strip().lower().split(' ')\n",
    "        Bs = opt[indexB+2:indexC].strip().lower().split(' ')\n",
    "        Cs = opt[indexC+2:indexD].strip().lower().split(' ')\n",
    "        Ds = opt[indexD+2:].strip().lower().split(' ')\n",
    "        options.append([As,Bs,Cs,Ds])\n",
    "    return options"
   ]
  },
  {
   "cell_type": "code",
   "execution_count": 13,
   "metadata": {
    "ExecuteTime": {
     "end_time": "2019-12-24T02:01:48.563330Z",
     "start_time": "2019-12-24T02:01:48.395602Z"
    },
    "collapsed": true
   },
   "outputs": [],
   "source": [
    "# def probability(word1,word2):\n",
    "#     eclipse = 0.0000000000001\n",
    "#     try:\n",
    "#         index1 = pre_words.index(word1)\n",
    "#         index2 = be_words.index(word2)\n",
    "#     except ValueError:\n",
    "#         return eclipse\n",
    "# #     print(word1,index1,word2,index2)\n",
    "#     pn_word1 = words_matrix[index1].sum()\n",
    "#     pn_word2_under_word1 = words_matrix[index1][index2]\n",
    "# #     print(pn_word1,pn_word2_under_word1)\n",
    "#     prob = float(pn_word2_under_word1)/pn_word1\n",
    "#     if prob == 0:\n",
    "#         prob = eclipse\n",
    "#     return prob"
   ]
  },
  {
   "cell_type": "code",
   "execution_count": 14,
   "metadata": {
    "ExecuteTime": {
     "end_time": "2019-12-24T02:01:48.692835Z",
     "start_time": "2019-12-24T02:01:48.566848Z"
    },
    "collapsed": true
   },
   "outputs": [],
   "source": [
    "def read_train_data(n):\n",
    "    path = './data'\n",
    "    filenames = glob.glob(path+\"/*txt\")\n",
    "    \n",
    "    answers_list =[]\n",
    "    options_list = []\n",
    "    content_list = []\n",
    "    for filename in filenames:\n",
    "        with open(filename, 'r', encoding='utf-8') as fpr:\n",
    "            data_raw = json.load(fpr)\n",
    "            article = data_raw['article']\n",
    "            content = get_pre_and_be_words(article,n)\n",
    "            options_str = data_raw['options']\n",
    "            options = get_options(options_str)\n",
    "            answers = list(data_raw['answers'])\n",
    "            answers_list.append(answers)\n",
    "            options_list.append(options)\n",
    "            content_list.append(content)\n",
    "    return content_list,options_list,answers_list"
   ]
  },
  {
   "cell_type": "code",
   "execution_count": 15,
   "metadata": {
    "ExecuteTime": {
     "end_time": "2019-12-24T02:01:48.836542Z",
     "start_time": "2019-12-24T02:01:48.695802Z"
    },
    "collapsed": true
   },
   "outputs": [],
   "source": [
    "def test(content_list,options_list,answers_list,ngram,showAll=False,predict=None):\n",
    "    \n",
    "    cn = len(content_list)\n",
    "    right_n = 0\n",
    "    total_n = 0\n",
    "    for k in range(cn):\n",
    "        content = content_list[k]\n",
    "        answers = answers_list[k]\n",
    "        options = options_list[k]\n",
    "    \n",
    "        n = len(answers)\n",
    "        total_n += n\n",
    "        for i in range(n):\n",
    "            if showAll:\n",
    "                print('---------'+str(i+1)+'---------')\n",
    "            if predict is None:\n",
    "#                 print('before:',content[i])\n",
    "                choice = auto_select(content[i],options[i],ngram)\n",
    "#                 print('after:',content[i])\n",
    "            else:\n",
    "                choice = predict\n",
    "            if choice == answers[i]:\n",
    "                right_n += 1\n",
    "                if showAll == False:\n",
    "                    print('---------'+str(i+1)+'---------')\n",
    "                    print('predict:',choice,'ground truth:',answers[i])\n",
    "                    print('空前后的词',content[i])\n",
    "                    print('选项',options[i])\n",
    "            if showAll:\n",
    "                print('predict:',choice,'ground truth:',answers[i])\n",
    "                print('空前后的词',content[i])\n",
    "                print('选项',options[i])\n",
    "    accuracy = float(right_n)/total_n\n",
    "    print('accuracy:',accuracy)"
   ]
  },
  {
   "cell_type": "code",
   "execution_count": 16,
   "metadata": {
    "ExecuteTime": {
     "end_time": "2019-12-24T02:01:48.997377Z",
     "start_time": "2019-12-24T02:01:48.839457Z"
    },
    "collapsed": true
   },
   "outputs": [],
   "source": [
    "def get_words_matrix(pre_words,be_words,lines,n):  \n",
    "    n = n-1\n",
    "    for line in tqdm(lines):\n",
    "        for k in range(n):\n",
    "            line = NONE_STR+' '+line+' '+NONE_STR\n",
    "        line_words = line.split()\n",
    "        words_n = len(line_words)-n\n",
    "        for k in range(words_n):\n",
    "            pre_word = ' '.join(line_words[k:k+n])\n",
    "                \n",
    "            be_word = line_words[k+n]\n",
    "            \n",
    "            if pre_word in pre_words and be_word in be_words:\n",
    "                i = pre_words.index(pre_word)\n",
    "                j = be_words.index(be_word)\n",
    "                words_matrix[i][j] += 1\n",
    "                    \n",
    "#             if n > 1:\n",
    "#                 if pre_word in pre_words:\n",
    "#                     i = pre_words.index(pre_word)\n",
    "#                     j = be_words.index(be_word)\n",
    "#                     words_matrix[i][j] += 1\n",
    "#             else:\n",
    "#                 i = pre_words.index(pre_word)\n",
    "#                 j = be_words.index(be_word)\n",
    "#                 words_matrix[i][j] += 1\n",
    "            \n",
    "    return words_matrix"
   ]
  },
  {
   "cell_type": "code",
   "execution_count": 17,
   "metadata": {
    "ExecuteTime": {
     "end_time": "2019-12-24T02:01:49.154969Z",
     "start_time": "2019-12-24T02:01:49.000380Z"
    },
    "collapsed": true
   },
   "outputs": [],
   "source": [
    "def count_word_num(lines,n):\n",
    "    pre_words = collections.defaultdict(int)\n",
    "    be_words = collections.defaultdict(int)\n",
    "    \n",
    "    words = collections.defaultdict(int)\n",
    "    n = n-1\n",
    "    \n",
    "    index = 0\n",
    "    for line in lines:\n",
    "        for k in range(n):\n",
    "            line = NONE_STR+' '+line+' '+NONE_STR\n",
    "        line_words = line.split()\n",
    "        for i in range(len(line_words)-(n-1)):\n",
    "            pre_word = ' '.join(line_words[i-1:i+n-1])\n",
    "            be_word = line_words[i+n-1]\n",
    "            \n",
    "            pre_words[pre_word] += 1\n",
    "            be_words[be_word] += 1\n",
    "            \n",
    "            words[pre_word+' '+be_word] += 1\n",
    "    return pre_words,be_words,words"
   ]
  },
  {
   "cell_type": "code",
   "execution_count": 18,
   "metadata": {
    "ExecuteTime": {
     "end_time": "2019-12-24T02:01:49.268540Z",
     "start_time": "2019-12-24T02:01:49.158015Z"
    },
    "collapsed": true
   },
   "outputs": [],
   "source": [
    "punctuation_list = ['.',',','?','!','\\\"','“']"
   ]
  },
  {
   "cell_type": "code",
   "execution_count": 19,
   "metadata": {
    "ExecuteTime": {
     "end_time": "2019-12-24T02:01:49.533074Z",
     "start_time": "2019-12-24T02:01:49.272257Z"
    },
    "collapsed": true
   },
   "outputs": [],
   "source": [
    "def check_punctuation_and_replace_with_none(word_list,reverse = False):\n",
    "    n = len(word_list)\n",
    "    f_flag = False #第一个字符是否为标点\n",
    "    b_flag = False #最后一个字符是否为标点\n",
    "    if reverse == True:\n",
    "        for i in range(n-1, -1, -1):\n",
    "            word = word_list[i]\n",
    "            if b_flag == False:\n",
    "                for puc in punctuation_list:\n",
    "                    if word[-1]==puc :\n",
    "                        b_flag = True \n",
    "                        break\n",
    "                    elif word[0] == puc:\n",
    "                        f_flag = True\n",
    "                        break\n",
    "            if b_flag == True:\n",
    "                word_list[i] = NONE_STR\n",
    "            else:\n",
    "                word_list[i] = replace_punctuation(word).lower()\n",
    "            if f_flag == True:\n",
    "                b_flag = True\n",
    "    else:\n",
    "        for i in range(n):\n",
    "            word = word_list[i]\n",
    "            if f_flag == False:\n",
    "                for puc in punctuation_list:\n",
    "                    if word[0] == puc:\n",
    "                        f_flag = True\n",
    "                        break\n",
    "                    elif word[-1]==puc :\n",
    "                        b_flag = True \n",
    "                        break\n",
    "            if f_flag == True:\n",
    "                word_list[i] = NONE_STR\n",
    "            else:\n",
    "                word_list[i] = replace_punctuation(word).lower()\n",
    "            if b_flag == True:\n",
    "                f_flag = True\n",
    "    return word_list"
   ]
  },
  {
   "cell_type": "code",
   "execution_count": 20,
   "metadata": {
    "ExecuteTime": {
     "end_time": "2019-12-24T02:01:49.769057Z",
     "start_time": "2019-12-24T02:01:49.536195Z"
    },
    "collapsed": true
   },
   "outputs": [],
   "source": [
    "def get_pre_and_be_words(article,ngram):\n",
    "    article = replace_Chinese_punctuation(article)\n",
    "    art_words = article.split()\n",
    "    n = len(art_words)\n",
    "    index = 1\n",
    "    content = []\n",
    "    for i in range(n):\n",
    "        word = art_words[i]\n",
    "        if str(index) == word:\n",
    "            pre_word_list = []\n",
    "            be_word_list = []\n",
    "            if i < ngram-1:\n",
    "                for k in range(ngram-1-i):\n",
    "                    pre_word_list.append(NONE_STR)\n",
    "            else:\n",
    "                pre_word_list = art_words[i-1-(ngram-2):i]\n",
    "            pre_word_list = check_punctuation_and_replace_with_none(pre_word_list,True)\n",
    "\n",
    "            if i > n-ngram:\n",
    "                for k in range(ngram-1-(n-ngram)):\n",
    "                    be_word_list.append(NONE_STR)\n",
    "            else:\n",
    "                be_word_list = art_words[i+1:i+1+ngram-1]\n",
    "            be_word_list = check_punctuation_and_replace_with_none(be_word_list,False)\n",
    "            \n",
    "            content.append([pre_word_list,be_word_list])\n",
    "            index += 1\n",
    "    return content"
   ]
  },
  {
   "cell_type": "code",
   "execution_count": 21,
   "metadata": {
    "ExecuteTime": {
     "end_time": "2019-12-24T02:01:49.951634Z",
     "start_time": "2019-12-24T02:01:49.771333Z"
    },
    "collapsed": true
   },
   "outputs": [],
   "source": [
    "def delete_sparse_words(words_dict,threshold=4):\n",
    "    words_list = []\n",
    "    for key, value in words_dict.items():\n",
    "        if value > 4:\n",
    "            words_list.append(key)\n",
    "    return words_list"
   ]
  },
  {
   "cell_type": "code",
   "execution_count": 22,
   "metadata": {
    "ExecuteTime": {
     "end_time": "2019-12-24T02:01:50.138531Z",
     "start_time": "2019-12-24T02:01:49.954514Z"
    },
    "collapsed": true
   },
   "outputs": [],
   "source": [
    "def probability(word1,word2):\n",
    "    eclipse = 0.0000000000001\n",
    "    all = pre_words[word1]\n",
    "    single = words[word1+' '+word2]\n",
    "    \n",
    "    if all == 0:\n",
    "        return eclipse\n",
    "    \n",
    "    prob = float(single)/all\n",
    "    if prob == 0:\n",
    "        prob = eclipse\n",
    "        \n",
    "    return prob"
   ]
  },
  {
   "cell_type": "markdown",
   "metadata": {},
   "source": [
    "<font color=blue size=15 face=雅黑>bigram Test</font>"
   ]
  },
  {
   "cell_type": "code",
   "execution_count": null,
   "metadata": {
    "ExecuteTime": {
     "start_time": "2019-12-24T02:01:40.223Z"
    },
    "collapsed": true,
    "scrolled": true
   },
   "outputs": [],
   "source": [
    "pre_words,be_words,words = count_word_num(lines,2)"
   ]
  },
  {
   "cell_type": "code",
   "execution_count": null,
   "metadata": {
    "ExecuteTime": {
     "start_time": "2019-12-24T02:01:40.225Z"
    },
    "collapsed": true,
    "scrolled": true
   },
   "outputs": [],
   "source": [
    "content_list,options_list,answers_list = read_train_data(2)"
   ]
  },
  {
   "cell_type": "code",
   "execution_count": null,
   "metadata": {
    "ExecuteTime": {
     "start_time": "2019-12-24T02:01:40.228Z"
    }
   },
   "outputs": [],
   "source": [
    "print(content_list[0])"
   ]
  },
  {
   "cell_type": "code",
   "execution_count": null,
   "metadata": {
    "ExecuteTime": {
     "start_time": "2019-12-24T02:01:40.231Z"
    },
    "scrolled": true
   },
   "outputs": [],
   "source": [
    "print(options_list[0])"
   ]
  },
  {
   "cell_type": "code",
   "execution_count": null,
   "metadata": {
    "ExecuteTime": {
     "start_time": "2019-12-24T02:01:40.233Z"
    }
   },
   "outputs": [],
   "source": [
    "print(answers_list[0])"
   ]
  },
  {
   "cell_type": "markdown",
   "metadata": {},
   "source": [
    "<font color=black size=5 face=雅黑>全选A/B/C/D 观察正确率</font>"
   ]
  },
  {
   "cell_type": "code",
   "execution_count": null,
   "metadata": {
    "ExecuteTime": {
     "start_time": "2019-12-24T02:01:40.236Z"
    },
    "scrolled": true
   },
   "outputs": [],
   "source": [
    "test(content_list,options_list,answers_list,2,showAll=False,predict='A')"
   ]
  },
  {
   "cell_type": "code",
   "execution_count": null,
   "metadata": {
    "ExecuteTime": {
     "start_time": "2019-12-24T02:01:40.239Z"
    },
    "scrolled": true
   },
   "outputs": [],
   "source": [
    "test(content_list,options_list,answers_list,2,showAll=False,predict='B')"
   ]
  },
  {
   "cell_type": "code",
   "execution_count": null,
   "metadata": {
    "ExecuteTime": {
     "start_time": "2019-12-24T02:01:40.242Z"
    },
    "scrolled": true
   },
   "outputs": [],
   "source": [
    "test(content_list,options_list,answers_list,2,showAll=False,predict='C')"
   ]
  },
  {
   "cell_type": "code",
   "execution_count": null,
   "metadata": {
    "ExecuteTime": {
     "start_time": "2019-12-24T02:01:40.245Z"
    },
    "scrolled": true
   },
   "outputs": [],
   "source": [
    "test(content_list,options_list,answers_list,2,showAll=False,predict='D')"
   ]
  },
  {
   "cell_type": "markdown",
   "metadata": {
    "ExecuteTime": {
     "end_time": "2019-12-17T02:48:20.529894Z",
     "start_time": "2019-12-17T02:39:27.032Z"
    }
   },
   "source": [
    "<font color=black size=5 face=雅黑>采用bigram模型后，正确率</font>"
   ]
  },
  {
   "cell_type": "code",
   "execution_count": null,
   "metadata": {
    "ExecuteTime": {
     "start_time": "2019-12-24T02:01:40.248Z"
    },
    "collapsed": true
   },
   "outputs": [],
   "source": [
    "def auto_select(question,option,ngram):\n",
    "    index = 0\n",
    "    maxprob = -10000000000\n",
    "    n = len(option)\n",
    "    for i in range(n):\n",
    "        word_list = []\n",
    "        word_list = question[0].copy()\n",
    "        word_list.append(option[i][0])\n",
    "        word_list.extend(question[1])\n",
    "        wln = len(word_list)\n",
    "        prob = 0\n",
    "        for k in range(wln-ngram+1):\n",
    "            pre_word = ' '.join(word_list[k:k+ngram-1])\n",
    "            prob += math.log(probability(pre_word,word_list[k+ngram-1]))\n",
    "        if prob > maxprob:\n",
    "            maxprob = prob\n",
    "            index = i\n",
    "    return chr(ord('A')+index)"
   ]
  },
  {
   "cell_type": "code",
   "execution_count": null,
   "metadata": {
    "ExecuteTime": {
     "start_time": "2019-12-24T02:01:40.251Z"
    }
   },
   "outputs": [],
   "source": [
    "print(content_list[0])"
   ]
  },
  {
   "cell_type": "code",
   "execution_count": null,
   "metadata": {
    "ExecuteTime": {
     "start_time": "2019-12-24T02:01:40.256Z"
    },
    "scrolled": true
   },
   "outputs": [],
   "source": [
    "test(content_list,options_list,answers_list,2,showAll=True)"
   ]
  },
  {
   "cell_type": "code",
   "execution_count": null,
   "metadata": {
    "ExecuteTime": {
     "start_time": "2019-12-24T02:01:40.259Z"
    },
    "scrolled": true
   },
   "outputs": [],
   "source": [
    "test(content_list,options_list,answers_list,2,showAll=False)"
   ]
  },
  {
   "cell_type": "markdown",
   "metadata": {
    "ExecuteTime": {
     "end_time": "2019-12-15T05:35:45.947587Z",
     "start_time": "2019-12-15T05:35:45.943222Z"
    }
   },
   "source": [
    "<font color=blue size=15 face=雅黑>trigram Test</font>"
   ]
  },
  {
   "cell_type": "code",
   "execution_count": null,
   "metadata": {
    "ExecuteTime": {
     "start_time": "2019-12-24T02:01:40.262Z"
    },
    "collapsed": true
   },
   "outputs": [],
   "source": [
    "N = 3\n",
    "pre_words,be_words,words = count_word_num(lines,N)"
   ]
  },
  {
   "cell_type": "code",
   "execution_count": null,
   "metadata": {
    "ExecuteTime": {
     "start_time": "2019-12-24T02:01:40.264Z"
    },
    "collapsed": true
   },
   "outputs": [],
   "source": [
    "content_list,options_list,answers_list = read_train_data(N)"
   ]
  },
  {
   "cell_type": "code",
   "execution_count": null,
   "metadata": {
    "ExecuteTime": {
     "start_time": "2019-12-24T02:01:40.267Z"
    },
    "scrolled": true
   },
   "outputs": [],
   "source": [
    "test(content_list,options_list,answers_list,N,showAll=True)"
   ]
  },
  {
   "cell_type": "code",
   "execution_count": null,
   "metadata": {
    "ExecuteTime": {
     "start_time": "2019-12-24T02:01:40.270Z"
    },
    "scrolled": true
   },
   "outputs": [],
   "source": [
    "test(content_list,options_list,answers_list,N,showAll=False)"
   ]
  },
  {
   "cell_type": "code",
   "execution_count": null,
   "metadata": {
    "ExecuteTime": {
     "start_time": "2019-12-24T02:01:40.274Z"
    }
   },
   "outputs": [],
   "source": [
    "tt = 'has a'\n",
    "print(pre_words[tt])"
   ]
  },
  {
   "cell_type": "code",
   "execution_count": null,
   "metadata": {
    "ExecuteTime": {
     "start_time": "2019-12-24T02:01:40.281Z"
    },
    "scrolled": true
   },
   "outputs": [],
   "source": [
    "n = len(tt)\n",
    "for key, value in words.items():\n",
    "#     print(key[:n])\n",
    "    if key[:n] == tt and key[n]==' ':\n",
    "        print(key,' : ',value)"
   ]
  },
  {
   "cell_type": "markdown",
   "metadata": {},
   "source": [
    "<font color=blue size=15 face=雅黑>fourgram Test</font>"
   ]
  },
  {
   "cell_type": "code",
   "execution_count": null,
   "metadata": {
    "ExecuteTime": {
     "start_time": "2019-12-24T02:01:40.285Z"
    },
    "scrolled": false
   },
   "outputs": [],
   "source": [
    "N = 4\n",
    "pre_words,be_words,words = count_word_num(lines,N)\n",
    "content_list,options_list,answers_list = read_train_data(N)\n",
    "test(content_list,options_list,answers_list,N,showAll=True)"
   ]
  },
  {
   "cell_type": "code",
   "execution_count": null,
   "metadata": {
    "ExecuteTime": {
     "start_time": "2019-12-24T02:01:40.288Z"
    },
    "scrolled": false
   },
   "outputs": [],
   "source": [
    "test(content_list,options_list,answers_list,N,showAll=False)"
   ]
  },
  {
   "cell_type": "code",
   "execution_count": null,
   "metadata": {
    "collapsed": true
   },
   "outputs": [],
   "source": []
  },
  {
   "cell_type": "code",
   "execution_count": null,
   "metadata": {
    "collapsed": true
   },
   "outputs": [],
   "source": []
  },
  {
   "cell_type": "code",
   "execution_count": null,
   "metadata": {
    "collapsed": true
   },
   "outputs": [],
   "source": []
  },
  {
   "cell_type": "code",
   "execution_count": null,
   "metadata": {
    "collapsed": true
   },
   "outputs": [],
   "source": []
  }
 ],
 "metadata": {
  "kernelspec": {
   "display_name": "Python 3",
   "language": "python",
   "name": "python3"
  },
  "language_info": {
   "codemirror_mode": {
    "name": "ipython",
    "version": 3
   },
   "file_extension": ".py",
   "mimetype": "text/x-python",
   "name": "python",
   "nbconvert_exporter": "python",
   "pygments_lexer": "ipython3",
   "version": "3.6.2"
  }
 },
 "nbformat": 4,
 "nbformat_minor": 2
}
